{
  "nbformat": 4,
  "nbformat_minor": 0,
  "metadata": {
    "colab": {
      "provenance": []
    },
    "kernelspec": {
      "name": "python3",
      "display_name": "Python 3"
    },
    "language_info": {
      "name": "python"
    }
  },
  "cells": [
    {
      "cell_type": "code",
      "execution_count": 1,
      "metadata": {
        "colab": {
          "base_uri": "https://localhost:8080/"
        },
        "id": "ab7ziGpKHa5B",
        "outputId": "ec4a9ba3-c622-4c16-b422-c5484634b44a"
      },
      "outputs": [
        {
          "output_type": "stream",
          "name": "stdout",
          "text": [
            "\r[*********************100%***********************]  1 of 1 completed\n"
          ]
        }
      ],
      "source": [
        "import yfinance as yf\n",
        "\n",
        "data = yf.download(tickers = \"GC=F\", start=\"2017-12-01\", end=\"2023-06-08\", interval='1d')"
      ]
    },
    {
      "cell_type": "code",
      "source": [
        "data = data.reset_index('Date', inplace=False)"
      ],
      "metadata": {
        "id": "-riWd9A0Ho3p"
      },
      "execution_count": 2,
      "outputs": []
    },
    {
      "cell_type": "code",
      "source": [
        "import numpy as np\n",
        "import pandas as pd\n",
        "import matplotlib.pyplot as plt\n",
        "from sklearn.preprocessing import MinMaxScaler\n",
        "from keras.models import Sequential\n",
        "from keras.layers import Dense, Dropout, Conv1D, MaxPooling1D, Bidirectional\n",
        "from sklearn.ensemble import RandomForestRegressor"
      ],
      "metadata": {
        "id": "nfHNdtZ7HskQ"
      },
      "execution_count": 3,
      "outputs": []
    },
    {
      "cell_type": "code",
      "source": [
        "# 3. Scaler data\n",
        "#scaler=MinMaxScaler(feature_range=(0,1))\n",
        "#df1=scaler.fit_transform(np.array(df1).reshape(-1,1))"
      ],
      "metadata": {
        "id": "PLDSAjn2MpGa"
      },
      "execution_count": 4,
      "outputs": []
    },
    {
      "cell_type": "code",
      "source": [
        "data = data[['Close']]\n",
        "data = data.dropna() # Drop missing values\n",
        "data = data.reset_index(drop=True) # Reset the index\n",
        "\n",
        "# Split the data into training, testing, and validation sets\n",
        "train_size = int(0.7 * len(data))\n",
        "test_size = int(0.2 * len(data))\n",
        "val_size = len(data) - train_size - test_size\n",
        "\n",
        "train_data = data[:train_size]\n",
        "test_data = data[train_size:train_size+test_size]\n",
        "val_data = data[train_size+test_size:]"
      ],
      "metadata": {
        "id": "lQhGrpQtMv4R"
      },
      "execution_count": 5,
      "outputs": []
    },
    {
      "cell_type": "code",
      "source": [
        "# 3. Quá trình Training\n",
        "x_train = np.array(train_data.index).reshape(-1, 1)\n",
        "y_train = np.array(train_data['Close'])"
      ],
      "metadata": {
        "id": "igN9uvAoNJnt"
      },
      "execution_count": 6,
      "outputs": []
    },
    {
      "cell_type": "code",
      "source": [
        "# 4. Quá trình testing \n",
        "x_test = np.array(test_data.index).reshape(-1, 1)\n",
        "y_test = np.array(test_data['Close'])\n",
        "#y_pred = model.predict(n_periods=len(y_test))\n",
        "\n",
        "# 5. Quá trình Validate\n",
        "x_val= np.array(val_data.index).reshape(-1, 1)\n",
        "y_val = np.array(val_data['Close'])\n",
        "#y_pred_val =  model.predict(n_periods=len(y_val))"
      ],
      "metadata": {
        "id": "0NSa2vtUPBtK"
      },
      "execution_count": 7,
      "outputs": []
    },
    {
      "cell_type": "code",
      "source": [
        "from sklearn.ensemble import RandomForestRegressor\n",
        "from sklearn.metrics import mean_squared_error\n",
        "\n",
        "best_score = float('-inf')\n",
        "best_params = {}\n",
        "\n",
        "for n_estimators in [100, 200, 500, 1000]:\n",
        "    for max_depth in [5, 10, 15, 20]:\n",
        "        for random_state in [1, 42, 77, 123]:\n",
        "            model = RandomForestRegressor(n_estimators=n_estimators, random_state=random_state, max_depth=max_depth)\n",
        "            model.fit(x_train, y_train)\n",
        "            y_pred = model.predict(x_test)\n",
        "            score = model.score(x_test, y_test)  # R-squared score\n",
        "            \n",
        "            if score > best_score:\n",
        "                best_score = score\n",
        "                best_params = {\n",
        "                    'n_estimators': n_estimators,\n",
        "                    'max_depth': max_depth,\n",
        "                    'random_state': random_state\n",
        "                }\n",
        "\n",
        "print(\"Best parameters:\", best_params)"
      ],
      "metadata": {
        "colab": {
          "base_uri": "https://localhost:8080/"
        },
        "id": "urlQWpJKQr3x",
        "outputId": "cfb32d76-ecc8-47da-d29c-7fac5010e0f8"
      },
      "execution_count": 8,
      "outputs": [
        {
          "output_type": "stream",
          "name": "stdout",
          "text": [
            "Best parameters: {'n_estimators': 100, 'max_depth': 5, 'random_state': 42}\n"
          ]
        }
      ]
    },
    {
      "cell_type": "code",
      "source": [
        "model = RandomForestRegressor(n_estimators=100, random_state=42, max_depth=5)\n",
        "model.fit(x_train, y_train)"
      ],
      "metadata": {
        "colab": {
          "base_uri": "https://localhost:8080/",
          "height": 75
        },
        "id": "fY3cnpakM3fV",
        "outputId": "7d9ad3a3-313e-4ee1-f454-1c35b6046849"
      },
      "execution_count": 9,
      "outputs": [
        {
          "output_type": "execute_result",
          "data": {
            "text/plain": [
              "RandomForestRegressor(max_depth=5, random_state=42)"
            ],
            "text/html": [
              "<style>#sk-container-id-1 {color: black;background-color: white;}#sk-container-id-1 pre{padding: 0;}#sk-container-id-1 div.sk-toggleable {background-color: white;}#sk-container-id-1 label.sk-toggleable__label {cursor: pointer;display: block;width: 100%;margin-bottom: 0;padding: 0.3em;box-sizing: border-box;text-align: center;}#sk-container-id-1 label.sk-toggleable__label-arrow:before {content: \"▸\";float: left;margin-right: 0.25em;color: #696969;}#sk-container-id-1 label.sk-toggleable__label-arrow:hover:before {color: black;}#sk-container-id-1 div.sk-estimator:hover label.sk-toggleable__label-arrow:before {color: black;}#sk-container-id-1 div.sk-toggleable__content {max-height: 0;max-width: 0;overflow: hidden;text-align: left;background-color: #f0f8ff;}#sk-container-id-1 div.sk-toggleable__content pre {margin: 0.2em;color: black;border-radius: 0.25em;background-color: #f0f8ff;}#sk-container-id-1 input.sk-toggleable__control:checked~div.sk-toggleable__content {max-height: 200px;max-width: 100%;overflow: auto;}#sk-container-id-1 input.sk-toggleable__control:checked~label.sk-toggleable__label-arrow:before {content: \"▾\";}#sk-container-id-1 div.sk-estimator input.sk-toggleable__control:checked~label.sk-toggleable__label {background-color: #d4ebff;}#sk-container-id-1 div.sk-label input.sk-toggleable__control:checked~label.sk-toggleable__label {background-color: #d4ebff;}#sk-container-id-1 input.sk-hidden--visually {border: 0;clip: rect(1px 1px 1px 1px);clip: rect(1px, 1px, 1px, 1px);height: 1px;margin: -1px;overflow: hidden;padding: 0;position: absolute;width: 1px;}#sk-container-id-1 div.sk-estimator {font-family: monospace;background-color: #f0f8ff;border: 1px dotted black;border-radius: 0.25em;box-sizing: border-box;margin-bottom: 0.5em;}#sk-container-id-1 div.sk-estimator:hover {background-color: #d4ebff;}#sk-container-id-1 div.sk-parallel-item::after {content: \"\";width: 100%;border-bottom: 1px solid gray;flex-grow: 1;}#sk-container-id-1 div.sk-label:hover label.sk-toggleable__label {background-color: #d4ebff;}#sk-container-id-1 div.sk-serial::before {content: \"\";position: absolute;border-left: 1px solid gray;box-sizing: border-box;top: 0;bottom: 0;left: 50%;z-index: 0;}#sk-container-id-1 div.sk-serial {display: flex;flex-direction: column;align-items: center;background-color: white;padding-right: 0.2em;padding-left: 0.2em;position: relative;}#sk-container-id-1 div.sk-item {position: relative;z-index: 1;}#sk-container-id-1 div.sk-parallel {display: flex;align-items: stretch;justify-content: center;background-color: white;position: relative;}#sk-container-id-1 div.sk-item::before, #sk-container-id-1 div.sk-parallel-item::before {content: \"\";position: absolute;border-left: 1px solid gray;box-sizing: border-box;top: 0;bottom: 0;left: 50%;z-index: -1;}#sk-container-id-1 div.sk-parallel-item {display: flex;flex-direction: column;z-index: 1;position: relative;background-color: white;}#sk-container-id-1 div.sk-parallel-item:first-child::after {align-self: flex-end;width: 50%;}#sk-container-id-1 div.sk-parallel-item:last-child::after {align-self: flex-start;width: 50%;}#sk-container-id-1 div.sk-parallel-item:only-child::after {width: 0;}#sk-container-id-1 div.sk-dashed-wrapped {border: 1px dashed gray;margin: 0 0.4em 0.5em 0.4em;box-sizing: border-box;padding-bottom: 0.4em;background-color: white;}#sk-container-id-1 div.sk-label label {font-family: monospace;font-weight: bold;display: inline-block;line-height: 1.2em;}#sk-container-id-1 div.sk-label-container {text-align: center;}#sk-container-id-1 div.sk-container {/* jupyter's `normalize.less` sets `[hidden] { display: none; }` but bootstrap.min.css set `[hidden] { display: none !important; }` so we also need the `!important` here to be able to override the default hidden behavior on the sphinx rendered scikit-learn.org. See: https://github.com/scikit-learn/scikit-learn/issues/21755 */display: inline-block !important;position: relative;}#sk-container-id-1 div.sk-text-repr-fallback {display: none;}</style><div id=\"sk-container-id-1\" class=\"sk-top-container\"><div class=\"sk-text-repr-fallback\"><pre>RandomForestRegressor(max_depth=5, random_state=42)</pre><b>In a Jupyter environment, please rerun this cell to show the HTML representation or trust the notebook. <br />On GitHub, the HTML representation is unable to render, please try loading this page with nbviewer.org.</b></div><div class=\"sk-container\" hidden><div class=\"sk-item\"><div class=\"sk-estimator sk-toggleable\"><input class=\"sk-toggleable__control sk-hidden--visually\" id=\"sk-estimator-id-1\" type=\"checkbox\" checked><label for=\"sk-estimator-id-1\" class=\"sk-toggleable__label sk-toggleable__label-arrow\">RandomForestRegressor</label><div class=\"sk-toggleable__content\"><pre>RandomForestRegressor(max_depth=5, random_state=42)</pre></div></div></div></div></div>"
            ]
          },
          "metadata": {},
          "execution_count": 9
        }
      ]
    },
    {
      "cell_type": "code",
      "source": [
        "y_pred = model.predict(x_test)"
      ],
      "metadata": {
        "id": "6h_HZ_SkPB5O"
      },
      "execution_count": 10,
      "outputs": []
    },
    {
      "cell_type": "code",
      "source": [
        "y_pred_val =  model.predict(x_val)"
      ],
      "metadata": {
        "id": "rzqy8p57Smmp"
      },
      "execution_count": 11,
      "outputs": []
    },
    {
      "cell_type": "code",
      "source": [
        "last_index =  data.index[-1]\n",
        "# Create an array of 30 consecutive integers starting from last_index\n",
        "x_next_30_days = np.array(range(last_index+1, last_index+31)).reshape(-1, 1)\n",
        "\n",
        "# Predict the closing prices for the next 30 days\n",
        "y_next_30_days = model.predict(x_next_30_days)\n",
        "\n",
        "# Print the predicted closing prices for the next 30 days\n",
        "print('Predicted closing prices for the next 30 days:')\n",
        "print(y_next_30_days)"
      ],
      "metadata": {
        "colab": {
          "base_uri": "https://localhost:8080/"
        },
        "id": "coucMLVzXF4Q",
        "outputId": "82baae3e-8f06-47a1-d54d-9d9aa62d67e4"
      },
      "execution_count": 12,
      "outputs": [
        {
          "output_type": "stream",
          "name": "stdout",
          "text": [
            "Predicted closing prices for the next 30 days:\n",
            "[1785.19667766 1785.19667766 1785.19667766 1785.19667766 1785.19667766\n",
            " 1785.19667766 1785.19667766 1785.19667766 1785.19667766 1785.19667766\n",
            " 1785.19667766 1785.19667766 1785.19667766 1785.19667766 1785.19667766\n",
            " 1785.19667766 1785.19667766 1785.19667766 1785.19667766 1785.19667766\n",
            " 1785.19667766 1785.19667766 1785.19667766 1785.19667766 1785.19667766\n",
            " 1785.19667766 1785.19667766 1785.19667766 1785.19667766 1785.19667766]\n"
          ]
        }
      ]
    },
    {
      "cell_type": "code",
      "source": [
        "# 7. Đánh giá độ chính xác validate, test\n",
        "valid_rmse = np.sqrt(np.mean((y_pred_val - y_val)**2))\n",
        "test_rmse = np.sqrt(np.mean((y_pred - y_test)**2))\n",
        "print('Validation RMSE:', valid_rmse)\n",
        "print('Testing RMSE:', test_rmse)"
      ],
      "metadata": {
        "colab": {
          "base_uri": "https://localhost:8080/"
        },
        "id": "fTyRYBQRXmuJ",
        "outputId": "84033bf9-a27a-475c-e1b1-39cdfa0e5cd9"
      },
      "execution_count": 13,
      "outputs": [
        {
          "output_type": "stream",
          "name": "stdout",
          "text": [
            "Validation RMSE: 144.9097246540993\n",
            "Testing RMSE: 90.0060830974895\n"
          ]
        }
      ]
    },
    {
      "cell_type": "code",
      "source": [
        "plt.plot(train_data.index, train_data['Close'])\n",
        "plt.plot(test_data.index, test_data['Close'])\n",
        "plt.plot(val_data.index, val_data['Close'])\n",
        "plt.plot(test_data.index, y_pred)\n",
        "plt.plot(val_data.index, y_pred_val)\n",
        "plt.plot(range(last_index+1, last_index+31),y_next_30_days)\n",
        "plt.legend(['Train', 'Test', 'Validation', 'Predictions','Validate','Next30Day'])\n",
        "plt.show()"
      ],
      "metadata": {
        "colab": {
          "base_uri": "https://localhost:8080/",
          "height": 430
        },
        "id": "Twzc6usQXnDt",
        "outputId": "ae77c08a-ad82-40e3-d1a1-2e9965989280"
      },
      "execution_count": 15,
      "outputs": [
        {
          "output_type": "display_data",
          "data": {
            "text/plain": [
              "<Figure size 640x480 with 1 Axes>"
            ],
            "image/png": "[encoded data removed]"
          },
          "metadata": {}
        }
      ]
    },
    {
      "cell_type": "markdown",
      "source": [
        "## X: 'Open', 'High', 'Low', 'Close', 'Volume'\n",
        "\n",
        "## y= 'Adj Close'"
      ],
      "metadata": {
        "id": "mt4MwCn7So4l"
      }
    },
    {
      "cell_type": "code",
      "source": [
        "import yfinance as yf\n",
        "\n",
        "df = yf.download(tickers = \"GC=F\", start=\"2017-12-01\", end=\"2023-06-08\", interval='1d')"
      ],
      "metadata": {
        "colab": {
          "base_uri": "https://localhost:8080/"
        },
        "id": "7wNg6R2bXreE",
        "outputId": "9994acf4-8978-4fde-dde8-59ea96ba95a6"
      },
      "execution_count": 31,
      "outputs": [
        {
          "output_type": "stream",
          "name": "stdout",
          "text": [
            "\r[*********************100%***********************]  1 of 1 completed\n"
          ]
        }
      ]
    },
    {
      "cell_type": "code",
      "source": [
        "df = df.reset_index('Date', inplace=False)"
      ],
      "metadata": {
        "id": "PVLbZxQJY53t"
      },
      "execution_count": 32,
      "outputs": []
    },
    {
      "cell_type": "code",
      "source": [
        "from sklearn.model_selection import train_test_split\n",
        "from sklearn import metrics\n",
        "from sklearn.preprocessing import StandardScaler\n",
        "from sklearn.ensemble import RandomForestRegressor"
      ],
      "metadata": {
        "id": "ryOIP9IkZOQA"
      },
      "execution_count": 26,
      "outputs": []
    },
    {
      "cell_type": "code",
      "source": [
        "# 4. Chia train test\n",
        "train_size = int(0.7 * len(df))\n",
        "test_size = int(0.2 * len(df))\n",
        "val_size = len(df) - train_size - test_size\n",
        "\n",
        "train_data = df[:train_size]\n",
        "test_data = df[train_size:train_size+test_size]\n",
        "val_data = df[train_size+test_size:]"
      ],
      "metadata": {
        "id": "Yebiv5LwOT6T"
      },
      "execution_count": 34,
      "outputs": []
    },
    {
      "cell_type": "code",
      "source": [
        "X_train= train_data[['Open', 'High', 'Low', 'Close', 'Volume']]\n",
        "y_train= train_data['Adj Close']\n",
        "\n",
        "X_test= test_data[['Open', 'High', 'Low', 'Close', 'Volume']]\n",
        "y_test= test_data['Adj Close']\n",
        "\n",
        "X_val= val_data[['Open', 'High', 'Low', 'Close', 'Volume']]\n",
        "y_val= val_data['Adj Close']\n",
        "#X_train, X_test, y_train, y_test = train_test_split(X, y, test_size=0.3, random_state=0)"
      ],
      "metadata": {
        "id": "noJJjr0tY5RH"
      },
      "execution_count": 37,
      "outputs": []
    },
    {
      "cell_type": "code",
      "source": [
        "scale = StandardScaler()\n",
        "X_train = scale.fit_transform(X_train)\n",
        "X_test = scale.transform(X_test)\n",
        "X_val = scale.transform(X_val)"
      ],
      "metadata": {
        "id": "NDnRkRZhZUyN"
      },
      "execution_count": 38,
      "outputs": []
    },
    {
      "cell_type": "code",
      "source": [
        "model = RandomForestRegressor(n_estimators=100, random_state=42, max_depth=5)\n",
        "model.fit(X_train, y_train)\n",
        "predict = model.predict(X_test)\n",
        "print(predict)\n",
        "print(predict.shape)"
      ],
      "metadata": {
        "colab": {
          "base_uri": "https://localhost:8080/"
        },
        "id": "6RGrHXmNZX2Z",
        "outputId": "233e8032-3ef5-4ca9-a6b3-a862dc4e63dd"
      },
      "execution_count": 43,
      "outputs": [
        {
          "output_type": "stream",
          "name": "stdout",
          "text": [
            "[1798.50875735 1769.90463578 1767.78784163 1773.15998379 1781.00481118\n",
            " 1779.0571092  1797.51250595 1805.60541144 1792.00112381 1799.60849998\n",
            " 1802.79768733 1779.88695593 1796.41457155 1786.89591999 1760.83613559\n",
            " 1792.71012104 1811.9870538  1830.18265623 1832.3616622  1850.17240363\n",
            " 1862.5509595  1868.8137752  1866.12606511 1855.54934256 1871.37411676\n",
            " 1860.09489198 1853.24745498 1805.60541144 1781.00481118 1781.00481118\n",
            " 1791.78326676 1781.65760458 1779.39877151 1775.94832233 1779.39877151\n",
            " 1757.80138678 1779.39877151 1776.22289112 1779.39877151 1781.00481118\n",
            " 1776.22289112 1779.69628711 1784.64103493 1774.31709112 1760.60401605\n",
            " 1798.30248253 1805.3909628  1792.98617087 1786.89591999 1802.79768733\n",
            " 1808.40996352 1807.51486085 1808.25882593 1805.60541144 1809.64577685\n",
            " 1830.18265623 1799.87036502 1811.50343696 1827.44876983 1786.89591999\n",
            " 1798.77550615 1799.60849998 1814.01418045 1830.18265623 1824.94996367\n",
            " 1811.9870538  1809.64577685 1840.2402815  1840.2402815  1832.3616622\n",
            " 1839.19801443 1854.81967988 1831.96901475 1792.98617087 1781.65760458\n",
            " 1795.90596321 1800.30849575 1807.69134898 1805.19830396 1805.93090065\n",
            " 1823.76448274 1827.67091818 1834.81440059 1834.81440059 1837.04498946\n",
            " 1868.8137752  1855.80367445 1872.06330768 1900.62163532 1899.26279577\n",
            " 1903.95197431 1905.77350064 1925.43291269 1886.71452747 1899.78238729\n",
            " 1944.69764663 1923.18584254 1936.30798655 1953.84940665 1992.62959359\n",
            " 2015.33231243 2006.81724964 1999.67780187 1980.11562836 1953.84412553\n",
            " 1928.89729982 1905.77350064 1944.46584049 1928.89729982 1928.89729982\n",
            " 1923.18584254 1938.69905589 1954.11602308 1952.75854793 1942.32695864\n",
            " 1909.05711846 1936.30798655 1951.83194258 1921.86561258 1929.32429884\n",
            " 1924.24905626 1921.51003871 1936.30798655 1944.46584049 1947.72877512\n",
            " 1954.11602308 1979.69033596 1955.2416856  1986.74291819 1953.59684767\n",
            " 1952.75854793 1947.72877512 1934.91234618 1895.7126916  1900.62163532\n",
            " 1886.49799904 1887.95794099 1905.77350064 1860.09264356 1869.5014217\n",
            " 1867.26780514 1873.76367716 1882.30964022 1857.38231812 1836.21828395\n",
            " 1854.81967988 1827.24512686 1806.55998809 1810.63031432 1813.74602313\n",
            " 1811.50343696 1837.46917593 1839.76872528 1850.87587166 1865.50759554\n",
            " 1847.48758997 1850.17240363 1853.52274213 1840.2402815  1840.2402815\n",
            " 1866.66531032 1845.52989321 1836.00730639 1850.17240363 1854.32495214\n",
            " 1852.99535501 1872.72546049 1830.71460702 1807.69134898 1811.50343696\n",
            " 1845.52989321 1834.81440059 1834.40631671 1834.24859004 1827.44876983\n",
            " 1827.67091818 1823.76448274 1813.74602313 1811.31328682 1805.3909628\n",
            " 1799.87036502 1759.79058832 1730.51147953 1733.90304716 1738.74438698\n",
            " 1728.49660382 1725.5073138  1730.26005185 1704.00269357 1702.97368051\n",
            " 1713.49585607 1713.49585607 1701.03982538 1714.59712898 1727.87218833\n",
            " 1723.12532084 1718.22082513 1723.12532084 1750.73741402 1760.83613559\n",
            " 1772.6869637  1775.0588     1756.12132015 1786.89591999 1775.94832233\n",
            " 1786.36952251 1792.98617087 1797.51250595 1787.33979253 1799.87036502\n",
            " 1779.0571092  1775.94832233 1757.80138678 1755.20386211 1747.43304855\n",
            " 1730.02705626 1745.69809234 1748.7506822  1756.12132015 1731.76245662\n",
            " 1733.03090057 1725.5073138  1714.88943578 1700.6031444  1713.49585607\n",
            " 1701.85279207 1715.39672504 1709.5826701  1716.42786065 1728.29260083\n",
            " 1704.00269357 1700.19841543 1667.84019392 1669.92282102 1663.57084701\n",
            " 1659.68092609 1666.21533887 1670.32125322 1642.11641755 1630.23559196\n",
            " 1631.76380207 1658.96640846 1659.68092609 1663.2244549  1695.90318488\n",
            " 1724.56000638 1714.06017936 1714.06017936 1701.85279207 1670.98713967\n",
            " 1675.3638819  1669.28468644 1667.64773773 1641.87118439 1658.21612782\n",
            " 1641.66264555 1632.47086058 1635.73723638 1642.07559037 1641.66264555\n",
            " 1644.96046537 1662.05746145 1659.68092609 1641.1362008  1638.94316262\n",
            " 1640.66691633 1641.49957627 1631.93747972 1670.08960126 1678.15087948\n",
            " 1714.59712898 1713.49585607 1750.73741402 1767.99869732 1775.94832233\n",
            " 1776.22289112 1775.94832233]\n",
            "(277,)\n"
          ]
        }
      ]
    },
    {
      "cell_type": "code",
      "source": [
        "validate = model.predict(X_val)\n",
        "print(validate)\n",
        "print(validate.shape)"
      ],
      "metadata": {
        "colab": {
          "base_uri": "https://localhost:8080/"
        },
        "id": "lVOBBrfSQlCf",
        "outputId": "d98e5d42-2bbf-4977-a0b6-5658c6b88ae5"
      },
      "execution_count": 44,
      "outputs": [
        {
          "output_type": "stream",
          "name": "stdout",
          "text": [
            "[1758.03975935 1751.30431374 1733.90304716 1733.90304716 1744.13934836\n",
            " 1755.20386211 1738.46528455 1749.01910485 1744.91023775 1802.48482324\n",
            " 1797.51250595 1769.90463578 1772.93773796 1782.58795391 1786.89591999\n",
            " 1799.60849998 1778.69273262 1811.50343696 1806.55998809 1776.22289112\n",
            " 1788.99596369 1786.62742964 1811.50343696 1811.50343696 1786.62742964\n",
            " 1797.51250595 1811.50343696 1807.51486085 1818.06187818 1818.36345835\n",
            " 1836.21828395 1855.05357367 1834.62338841 1864.87991626 1873.76367716\n",
            " 1872.92122828 1875.25821202 1896.65780313 1921.51003871 1909.05711846\n",
            " 1904.495744   1900.81453208 1923.82396852 1928.11254475 1928.49570874\n",
            " 1936.30798655 1943.12586527 1929.32429884 1928.89729982 1924.24905626\n",
            " 1931.68674444 1928.89729982 1916.49246851 1861.85624584 1866.27642494\n",
            " 1872.92122828 1877.31127678 1866.08065715 1861.66047805 1854.32495214\n",
            " 1855.80367445 1834.24859004 1839.76872528 1837.04498946 1833.77970595\n",
            " 1832.3616622  1813.74602313 1807.51486085 1812.50807334 1831.12193644\n",
            " 1835.2178629  1834.24859004 1850.59170505 1850.87587166 1811.50343696\n",
            " 1809.64577685 1831.32189325 1860.09264356 1909.05711846 1903.95197431\n",
            " 1928.11254475 1921.86561258 1956.7074575  1988.50643205 1939.76309833\n",
            " 1947.72877512 1999.4709091  1986.08354598 1952.75854793 1959.46062929\n",
            " 1957.14507113 1975.50423931 1962.40639679 1982.58724308 2002.67666906\n",
            " 2020.5673509  2009.24924982 1999.77819687 2003.04948515 2007.68002046\n",
            " 2018.99812154 2014.7441634  2002.53192236 2006.20872906 2002.1956654\n",
            " 2006.20872906 1986.86113978 1990.24000203 1998.38684268 1996.33003021\n",
            " 1998.29585463 1990.98846886 1989.4347826  2007.33429538 2018.99812154\n",
            " 2021.31618411 2017.02489737 2015.51010375 2020.21301781 2020.21301781\n",
            " 2018.3618841  2012.08974067 2013.57707425 1993.07930675 1980.84884551\n",
            " 1953.40247176 1974.34572975 1960.87203517 1959.46062929 1954.78227293\n",
            " 1946.24878979 1947.72877512 1953.5775091  1954.11602308 1974.34572975\n",
            " 1953.2179606  1953.5775091  1954.11602308 1944.96426306 1954.11602308]\n",
            "(140,)\n"
          ]
        }
      ]
    },
    {
      "cell_type": "code",
      "source": [
        "print(\"Mean Absolute Error:\", round(metrics.mean_absolute_error(y_test, predict), 4))\n",
        "print(\"Mean Squared Error:\", round(metrics.mean_squared_error(y_test, predict), 4))\n",
        "print(\"Root Mean Squared Error:\", round(np.sqrt(metrics.mean_squared_error(y_test, predict)), 4))\n",
        "print(\"(R^2) Score:\", round(metrics.r2_score(y_test, predict), 4))"
      ],
      "metadata": {
        "colab": {
          "base_uri": "https://localhost:8080/"
        },
        "id": "m9EJy0JfZsgk",
        "outputId": "4e88554c-216d-45ba-a331-9539fee399aa"
      },
      "execution_count": 45,
      "outputs": [
        {
          "output_type": "stream",
          "name": "stdout",
          "text": [
            "Mean Absolute Error: 2.4833\n",
            "Mean Squared Error: 13.2201\n",
            "Root Mean Squared Error: 3.6359\n",
            "(R^2) Score: 0.9983\n"
          ]
        }
      ]
    },
    {
      "cell_type": "code",
      "source": [
        "print(\"Mean Absolute Error:\", round(metrics.mean_absolute_error(y_val, validate), 4))\n",
        "print(\"Mean Squared Error:\", round(metrics.mean_squared_error(y_val, validate), 4))\n",
        "print(\"Root Mean Squared Error:\", round(np.sqrt(metrics.mean_squared_error(y_val, validate)), 4))\n",
        "print(\"(R^2) Score:\", round(metrics.r2_score(y_val, validate), 4))\n",
        "print(f'Train Score : {model.score(X_train, y_train) * 100:.2f}% , Test Score : {model.score(X_test, y_test) * 100:.2f}% and Validate Score : {model.score(X_val, y_val) * 100:.2f}% using Random forest Regressor.')"
      ],
      "metadata": {
        "colab": {
          "base_uri": "https://localhost:8080/"
        },
        "id": "ZYtGEMrCRd5I",
        "outputId": "78187d9b-c2f0-42f7-c721-12646e0d2519"
      },
      "execution_count": 46,
      "outputs": [
        {
          "output_type": "stream",
          "name": "stdout",
          "text": [
            "Mean Absolute Error: 3.8686\n",
            "Mean Squared Error: 34.6002\n",
            "Root Mean Squared Error: 5.8822\n",
            "(R^2) Score: 0.9954\n",
            "Train Score : 99.98% , Test Score : 99.83% and Validate Score : 99.54% using Random forest Regressor.\n"
          ]
        }
      ]
    },
    {
      "cell_type": "code",
      "source": [
        "plt.plot(train_data.index, train_data['Close'])\n",
        "plt.plot(test_data.index, test_data['Close'])\n",
        "plt.plot(val_data.index, val_data['Close'])\n",
        "plt.plot(test_data.index, predict)\n",
        "plt.plot(val_data.index, validate)\n",
        "plt.legend(['Train', 'Test', 'Validation', 'Predictions','Validate'])\n",
        "plt.show()"
      ],
      "metadata": {
        "colab": {
          "base_uri": "https://localhost:8080/",
          "height": 430
        },
        "id": "cxyVgmv6Xewg",
        "outputId": "9c707781-c5b4-4bfa-bd2b-18ebebba11e4"
      },
      "execution_count": 49,
      "outputs": [
        {
          "output_type": "display_data",
          "data": {
            "text/plain": [
              "<Figure size 640x480 with 1 Axes>"
            ],
            "image/png": "[encoded data removed]"
          },
          "metadata": {}
        }
      ]
    }
  ]
}