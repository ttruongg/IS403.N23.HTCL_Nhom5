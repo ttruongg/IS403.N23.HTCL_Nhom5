{
  "nbformat": 4,
  "nbformat_minor": 0,
  "metadata": {
    "colab": {
      "provenance": []
    },
    "kernelspec": {
      "name": "python3",
      "display_name": "Python 3"
    },
    "language_info": {
      "name": "python"
    }
  },
  "cells": [
    {
      "cell_type": "code",
      "source": [
        "import pandas as pd\n",
        "import torch\n",
        "import torch.nn as nn\n",
        "import numpy as np\n",
        "import matplotlib.pyplot as plt\n",
        "from sklearn.model_selection import train_test_split"
      ],
      "metadata": {
        "id": "sAZcRdvSUgeD"
      },
      "execution_count": 170,
      "outputs": []
    },
    {
      "cell_type": "code",
      "source": [
        "import yfinance as yf\n",
        "\n",
        "data = yf.download(tickers = \"GC=F\", start=\"2017-12-01\", end=\"2023-06-08\", interval='1d')"
      ],
      "metadata": {
        "colab": {
          "base_uri": "https://localhost:8080/"
        },
        "id": "uGOopW0YUpzd",
        "outputId": "1b2b7510-fdb8-4f0b-d331-d09eb63b1cef"
      },
      "execution_count": 171,
      "outputs": [
        {
          "output_type": "stream",
          "name": "stdout",
          "text": [
            "\r[*********************100%***********************]  1 of 1 completed\n"
          ]
        }
      ]
    },
    {
      "cell_type": "code",
      "source": [
        "data = data.reset_index('Date', inplace=False)"
      ],
      "metadata": {
        "id": "NQometF8UvGq"
      },
      "execution_count": 172,
      "outputs": []
    },
    {
      "cell_type": "code",
      "source": [
        "# Chuyển cột 'Date' thành kiểu dữ liệu datetime\n",
        "data['Date'] = pd.to_datetime(data['Date'])\n",
        "\n",
        "# Sắp xếp dữ liệu theo thứ tự tăng dần của cột 'Date'\n",
        "data.sort_values(by='Date', inplace=True)\n",
        "\n",
        "# Chuyển cột 'Date' thành mảng numpy\n",
        "dates = data['Date'].values\n",
        "\n",
        "# Chuyển cột 'Close' thành mảng numpy\n",
        "close_prices = data['Close'].values"
      ],
      "metadata": {
        "id": "3puvsJ3HUknY"
      },
      "execution_count": 173,
      "outputs": []
    },
    {
      "cell_type": "code",
      "source": [
        "# Split the data into training, testing, and validation sets\n",
        "train_size = int(0.7 * len(data))\n",
        "test_size = int(0.2 * len(data))\n",
        "val_size = len(data) - train_size - test_size\n",
        "\n",
        "train_data = data[:train_size]\n",
        "test_data = data[train_size:train_size+test_size]\n",
        "val_data = data[train_size+test_size:]"
      ],
      "metadata": {
        "id": "EVwiGRSxYann"
      },
      "execution_count": 174,
      "outputs": []
    },
    {
      "cell_type": "code",
      "source": [
        "train_dates = train_data['Date'].values\n",
        "train_close_prices = train_data['Close'].values\n",
        "val_dates = val_data['Date'].values\n",
        "val_close_prices = val_data['Close'].values\n",
        "test_dates = test_data['Date'].values\n",
        "test_close_prices = test_data['Close'].values"
      ],
      "metadata": {
        "id": "qu-0yp3DYnp0"
      },
      "execution_count": 175,
      "outputs": []
    },
    {
      "cell_type": "code",
      "source": [
        "train_dates = train_data.index.values\n",
        "test_dates = test_data.index.values\n",
        "val_dates = val_data.index.values"
      ],
      "metadata": {
        "id": "llJUtlxFbJee"
      },
      "execution_count": 176,
      "outputs": []
    },
    {
      "cell_type": "code",
      "source": [
        "X_train = torch.from_numpy(train_dates.reshape(-1, 1)).float()\n",
        "y_train = torch.from_numpy(train_close_prices.reshape(-1, 1)).float()\n",
        "X_test = torch.from_numpy(test_dates.reshape(-1, 1)).float()\n",
        "y_test = torch.from_numpy(test_close_prices.reshape(-1, 1)).float()\n",
        "X_val = torch.from_numpy(val_dates.reshape(-1, 1)).float()\n",
        "y_val = torch.from_numpy(val_close_prices.reshape(-1, 1)).float()"
      ],
      "metadata": {
        "id": "M1KtRDlrYxX4"
      },
      "execution_count": 177,
      "outputs": []
    },
    {
      "cell_type": "code",
      "source": [
        "# Xác định kiến trúc của mạng Bayesian Neural Network\n",
        "class BNN(nn.Module):\n",
        "    def __init__(self, input_size, output_size):\n",
        "        super(BNN, self).__init__()\n",
        "        self.fc1 = nn.Linear(input_size, 32)\n",
        "        self.fc2 = nn.Linear(32, 32)\n",
        "        self.fc3 = nn.Linear(32, output_size)\n",
        "        \n",
        "    def forward(self, x):\n",
        "        x = torch.relu(self.fc1(x))\n",
        "        x = torch.relu(self.fc2(x))\n",
        "        x = self.fc3(x)\n",
        "        return x"
      ],
      "metadata": {
        "id": "W25n7xlqY8j7"
      },
      "execution_count": 178,
      "outputs": []
    },
    {
      "cell_type": "code",
      "source": [
        "# Xác định hàm mất mát và bộ tối ưu hóa\n",
        "criterion = nn.MSELoss()\n",
        "learning_rate = 0.001\n",
        "num_epochs = 1000"
      ],
      "metadata": {
        "id": "3CZZyhOBY_40"
      },
      "execution_count": 179,
      "outputs": []
    },
    {
      "cell_type": "code",
      "source": [
        "# Khởi tạo mô hình BNN\n",
        "model = BNN(input_size=1, output_size=1)"
      ],
      "metadata": {
        "id": "zji6vIiSZCzT"
      },
      "execution_count": 180,
      "outputs": []
    },
    {
      "cell_type": "code",
      "source": [
        "# Huấn luyện mô hình BNN\n",
        "for epoch in range(num_epochs):\n",
        "    model.train()\n",
        "    \n",
        "    # Tính đầu ra dự đoán của mô hình\n",
        "    y_pred = model(X_train)\n",
        "    \n",
        "    # Tính lỗi dự đoán so với giá thực tế\n",
        "    loss = criterion(y_pred, y_train)\n",
        "    \n",
        "    # Backpropagation và cập nhật trọng số\n",
        "    loss.backward()\n",
        "    optimizer = torch.optim.Adam(model.parameters(), lr=learning_rate)\n",
        "    optimizer.step()\n",
        "    \n",
        "    if (epoch+1) % 100 == 0:\n",
        "        print(f'Epoch [{epoch+1}/{num_epochs}], Loss: {loss.item()}')\n"
      ],
      "metadata": {
        "colab": {
          "base_uri": "https://localhost:8080/"
        },
        "id": "fqcZvINBZF4f",
        "outputId": "5252b337-2625-400e-ea9c-0d8287f06cec"
      },
      "execution_count": 181,
      "outputs": [
        {
          "output_type": "stream",
          "name": "stdout",
          "text": [
            "Epoch [100/1000], Loss: 943990.25\n",
            "Epoch [200/1000], Loss: 1036146.6875\n",
            "Epoch [300/1000], Loss: 342537.03125\n",
            "Epoch [400/1000], Loss: 1184584.625\n",
            "Epoch [500/1000], Loss: 835024.4375\n",
            "Epoch [600/1000], Loss: 394112.84375\n",
            "Epoch [700/1000], Loss: 937924.5625\n",
            "Epoch [800/1000], Loss: 439011.125\n",
            "Epoch [900/1000], Loss: 986596.25\n",
            "Epoch [1000/1000], Loss: 638235.875\n"
          ]
        }
      ]
    },
    {
      "cell_type": "code",
      "source": [
        "# Dự đoán trên tập test\n",
        "model.eval()\n",
        "with torch.no_grad():\n",
        "    y_pred_test = model(X_test)"
      ],
      "metadata": {
        "id": "C1RGeYvdZIz-"
      },
      "execution_count": 182,
      "outputs": []
    },
    {
      "cell_type": "code",
      "source": [
        "# Dự đoán trên tập validation\n",
        "model.eval()\n",
        "with torch.no_grad():\n",
        "    y_pred_val = model(X_val)"
      ],
      "metadata": {
        "id": "ztAU8_4QZM9y"
      },
      "execution_count": 183,
      "outputs": []
    },
    {
      "cell_type": "code",
      "source": [
        "# In kết quả dự đoán trên tập test\n",
        "print('Kết quả dự đoán trên tập test:')\n",
        "for i in range(len(test_dates)):\n",
        "    print(f'Date: {test_dates[i]}, Predicted Close: {y_pred_test[i].item()}')"
      ],
      "metadata": {
        "colab": {
          "base_uri": "https://localhost:8080/"
        },
        "id": "IBRu3b0fZStU",
        "outputId": "07ce4fc8-5950-4fee-9983-623f47e97436"
      },
      "execution_count": 184,
      "outputs": [
        {
          "output_type": "stream",
          "name": "stdout",
          "text": [
            "Kết quả dự đoán trên tập test:\n",
            "Date: 971, Predicted Close: 1559.531982421875\n",
            "Date: 972, Predicted Close: 1561.128662109375\n",
            "Date: 973, Predicted Close: 1562.7254638671875\n",
            "Date: 974, Predicted Close: 1564.3223876953125\n",
            "Date: 975, Predicted Close: 1565.9190673828125\n",
            "Date: 976, Predicted Close: 1567.5159912109375\n",
            "Date: 977, Predicted Close: 1569.1126708984375\n",
            "Date: 978, Predicted Close: 1570.7095947265625\n",
            "Date: 979, Predicted Close: 1572.3065185546875\n",
            "Date: 980, Predicted Close: 1573.9031982421875\n",
            "Date: 981, Predicted Close: 1575.5\n",
            "Date: 982, Predicted Close: 1577.0968017578125\n",
            "Date: 983, Predicted Close: 1578.6937255859375\n",
            "Date: 984, Predicted Close: 1580.2904052734375\n",
            "Date: 985, Predicted Close: 1581.88720703125\n",
            "Date: 986, Predicted Close: 1583.484130859375\n",
            "Date: 987, Predicted Close: 1585.0809326171875\n",
            "Date: 988, Predicted Close: 1586.6776123046875\n",
            "Date: 989, Predicted Close: 1588.2745361328125\n",
            "Date: 990, Predicted Close: 1589.8714599609375\n",
            "Date: 991, Predicted Close: 1591.4681396484375\n",
            "Date: 992, Predicted Close: 1593.0650634765625\n",
            "Date: 993, Predicted Close: 1594.661865234375\n",
            "Date: 994, Predicted Close: 1596.2586669921875\n",
            "Date: 995, Predicted Close: 1597.8553466796875\n",
            "Date: 996, Predicted Close: 1599.4521484375\n",
            "Date: 997, Predicted Close: 1601.0489501953125\n",
            "Date: 998, Predicted Close: 1602.6458740234375\n",
            "Date: 999, Predicted Close: 1604.2425537109375\n",
            "Date: 1000, Predicted Close: 1605.8394775390625\n",
            "Date: 1001, Predicted Close: 1607.4361572265625\n",
            "Date: 1002, Predicted Close: 1609.0328369140625\n",
            "Date: 1003, Predicted Close: 1610.6297607421875\n",
            "Date: 1004, Predicted Close: 1612.2266845703125\n",
            "Date: 1005, Predicted Close: 1613.823486328125\n",
            "Date: 1006, Predicted Close: 1615.4202880859375\n",
            "Date: 1007, Predicted Close: 1617.0169677734375\n",
            "Date: 1008, Predicted Close: 1618.61376953125\n",
            "Date: 1009, Predicted Close: 1620.2108154296875\n",
            "Date: 1010, Predicted Close: 1621.8076171875\n",
            "Date: 1011, Predicted Close: 1623.404296875\n",
            "Date: 1012, Predicted Close: 1625.0010986328125\n",
            "Date: 1013, Predicted Close: 1626.5980224609375\n",
            "Date: 1014, Predicted Close: 1628.19482421875\n",
            "Date: 1015, Predicted Close: 1629.7916259765625\n",
            "Date: 1016, Predicted Close: 1631.3883056640625\n",
            "Date: 1017, Predicted Close: 1632.9852294921875\n",
            "Date: 1018, Predicted Close: 1634.58203125\n",
            "Date: 1019, Predicted Close: 1636.1788330078125\n",
            "Date: 1020, Predicted Close: 1637.7757568359375\n",
            "Date: 1021, Predicted Close: 1639.3724365234375\n",
            "Date: 1022, Predicted Close: 1640.96923828125\n",
            "Date: 1023, Predicted Close: 1642.566162109375\n",
            "Date: 1024, Predicted Close: 1644.162841796875\n",
            "Date: 1025, Predicted Close: 1645.7596435546875\n",
            "Date: 1026, Predicted Close: 1647.3565673828125\n",
            "Date: 1027, Predicted Close: 1648.9532470703125\n",
            "Date: 1028, Predicted Close: 1650.5501708984375\n",
            "Date: 1029, Predicted Close: 1652.1468505859375\n",
            "Date: 1030, Predicted Close: 1653.74365234375\n",
            "Date: 1031, Predicted Close: 1655.340576171875\n",
            "Date: 1032, Predicted Close: 1656.9373779296875\n",
            "Date: 1033, Predicted Close: 1658.5340576171875\n",
            "Date: 1034, Predicted Close: 1660.131103515625\n",
            "Date: 1035, Predicted Close: 1661.7276611328125\n",
            "Date: 1036, Predicted Close: 1663.32470703125\n",
            "Date: 1037, Predicted Close: 1664.92138671875\n",
            "Date: 1038, Predicted Close: 1666.5181884765625\n",
            "Date: 1039, Predicted Close: 1668.1151123046875\n",
            "Date: 1040, Predicted Close: 1669.7119140625\n",
            "Date: 1041, Predicted Close: 1671.30859375\n",
            "Date: 1042, Predicted Close: 1672.905517578125\n",
            "Date: 1043, Predicted Close: 1674.5023193359375\n",
            "Date: 1044, Predicted Close: 1676.0992431640625\n",
            "Date: 1045, Predicted Close: 1677.6959228515625\n",
            "Date: 1046, Predicted Close: 1679.292724609375\n",
            "Date: 1047, Predicted Close: 1680.8895263671875\n",
            "Date: 1048, Predicted Close: 1682.4864501953125\n",
            "Date: 1049, Predicted Close: 1684.0831298828125\n",
            "Date: 1050, Predicted Close: 1685.6800537109375\n",
            "Date: 1051, Predicted Close: 1687.2767333984375\n",
            "Date: 1052, Predicted Close: 1688.87353515625\n",
            "Date: 1053, Predicted Close: 1690.4703369140625\n",
            "Date: 1054, Predicted Close: 1692.067138671875\n",
            "Date: 1055, Predicted Close: 1693.6640625\n",
            "Date: 1056, Predicted Close: 1695.2608642578125\n",
            "Date: 1057, Predicted Close: 1696.8575439453125\n",
            "Date: 1058, Predicted Close: 1698.4544677734375\n",
            "Date: 1059, Predicted Close: 1700.05126953125\n",
            "Date: 1060, Predicted Close: 1701.6480712890625\n",
            "Date: 1061, Predicted Close: 1703.244873046875\n",
            "Date: 1062, Predicted Close: 1704.841552734375\n",
            "Date: 1063, Predicted Close: 1706.4385986328125\n",
            "Date: 1064, Predicted Close: 1708.0352783203125\n",
            "Date: 1065, Predicted Close: 1709.6322021484375\n",
            "Date: 1066, Predicted Close: 1711.2288818359375\n",
            "Date: 1067, Predicted Close: 1712.82568359375\n",
            "Date: 1068, Predicted Close: 1714.4224853515625\n",
            "Date: 1069, Predicted Close: 1716.0191650390625\n",
            "Date: 1070, Predicted Close: 1717.6160888671875\n",
            "Date: 1071, Predicted Close: 1719.213134765625\n",
            "Date: 1072, Predicted Close: 1720.8099365234375\n",
            "Date: 1073, Predicted Close: 1722.4066162109375\n",
            "Date: 1074, Predicted Close: 1724.0032958984375\n",
            "Date: 1075, Predicted Close: 1725.6002197265625\n",
            "Date: 1076, Predicted Close: 1727.197021484375\n",
            "Date: 1077, Predicted Close: 1728.7938232421875\n",
            "Date: 1078, Predicted Close: 1730.390869140625\n",
            "Date: 1079, Predicted Close: 1731.987548828125\n",
            "Date: 1080, Predicted Close: 1733.5841064453125\n",
            "Date: 1081, Predicted Close: 1735.1810302734375\n",
            "Date: 1082, Predicted Close: 1736.7779541015625\n",
            "Date: 1083, Predicted Close: 1738.3746337890625\n",
            "Date: 1084, Predicted Close: 1739.971435546875\n",
            "Date: 1085, Predicted Close: 1741.5682373046875\n",
            "Date: 1086, Predicted Close: 1743.1651611328125\n",
            "Date: 1087, Predicted Close: 1744.7618408203125\n",
            "Date: 1088, Predicted Close: 1746.3587646484375\n",
            "Date: 1089, Predicted Close: 1747.95556640625\n",
            "Date: 1090, Predicted Close: 1749.5523681640625\n",
            "Date: 1091, Predicted Close: 1751.149169921875\n",
            "Date: 1092, Predicted Close: 1752.7459716796875\n",
            "Date: 1093, Predicted Close: 1754.3428955078125\n",
            "Date: 1094, Predicted Close: 1755.9395751953125\n",
            "Date: 1095, Predicted Close: 1757.5364990234375\n",
            "Date: 1096, Predicted Close: 1759.1331787109375\n",
            "Date: 1097, Predicted Close: 1760.7301025390625\n",
            "Date: 1098, Predicted Close: 1762.3267822265625\n",
            "Date: 1099, Predicted Close: 1763.9237060546875\n",
            "Date: 1100, Predicted Close: 1765.5203857421875\n",
            "Date: 1101, Predicted Close: 1767.117431640625\n",
            "Date: 1102, Predicted Close: 1768.7142333984375\n",
            "Date: 1103, Predicted Close: 1770.3109130859375\n",
            "Date: 1104, Predicted Close: 1771.9078369140625\n",
            "Date: 1105, Predicted Close: 1773.5045166015625\n",
            "Date: 1106, Predicted Close: 1775.1014404296875\n",
            "Date: 1107, Predicted Close: 1776.6981201171875\n",
            "Date: 1108, Predicted Close: 1778.2947998046875\n",
            "Date: 1109, Predicted Close: 1779.8917236328125\n",
            "Date: 1110, Predicted Close: 1781.4886474609375\n",
            "Date: 1111, Predicted Close: 1783.08544921875\n",
            "Date: 1112, Predicted Close: 1784.68212890625\n",
            "Date: 1113, Predicted Close: 1786.2789306640625\n",
            "Date: 1114, Predicted Close: 1787.875732421875\n",
            "Date: 1115, Predicted Close: 1789.47265625\n",
            "Date: 1116, Predicted Close: 1791.0694580078125\n",
            "Date: 1117, Predicted Close: 1792.666259765625\n",
            "Date: 1118, Predicted Close: 1794.2630615234375\n",
            "Date: 1119, Predicted Close: 1795.8597412109375\n",
            "Date: 1120, Predicted Close: 1797.4566650390625\n",
            "Date: 1121, Predicted Close: 1799.0535888671875\n",
            "Date: 1122, Predicted Close: 1800.6502685546875\n",
            "Date: 1123, Predicted Close: 1802.2470703125\n",
            "Date: 1124, Predicted Close: 1803.8438720703125\n",
            "Date: 1125, Predicted Close: 1805.440673828125\n",
            "Date: 1126, Predicted Close: 1807.037353515625\n",
            "Date: 1127, Predicted Close: 1808.63427734375\n",
            "Date: 1128, Predicted Close: 1810.2313232421875\n",
            "Date: 1129, Predicted Close: 1811.8280029296875\n",
            "Date: 1130, Predicted Close: 1813.4246826171875\n",
            "Date: 1131, Predicted Close: 1815.0213623046875\n",
            "Date: 1132, Predicted Close: 1816.618408203125\n",
            "Date: 1133, Predicted Close: 1818.21533203125\n",
            "Date: 1134, Predicted Close: 1819.8121337890625\n",
            "Date: 1135, Predicted Close: 1821.4088134765625\n",
            "Date: 1136, Predicted Close: 1823.005615234375\n",
            "Date: 1137, Predicted Close: 1824.6024169921875\n",
            "Date: 1138, Predicted Close: 1826.1990966796875\n",
            "Date: 1139, Predicted Close: 1827.7960205078125\n",
            "Date: 1140, Predicted Close: 1829.392822265625\n",
            "Date: 1141, Predicted Close: 1830.9896240234375\n",
            "Date: 1142, Predicted Close: 1832.5863037109375\n",
            "Date: 1143, Predicted Close: 1834.1832275390625\n",
            "Date: 1144, Predicted Close: 1835.7801513671875\n",
            "Date: 1145, Predicted Close: 1837.376953125\n",
            "Date: 1146, Predicted Close: 1838.9737548828125\n",
            "Date: 1147, Predicted Close: 1840.5704345703125\n",
            "Date: 1148, Predicted Close: 1842.1673583984375\n",
            "Date: 1149, Predicted Close: 1843.7640380859375\n",
            "Date: 1150, Predicted Close: 1845.3609619140625\n",
            "Date: 1151, Predicted Close: 1846.9578857421875\n",
            "Date: 1152, Predicted Close: 1848.5548095703125\n",
            "Date: 1153, Predicted Close: 1850.1513671875\n",
            "Date: 1154, Predicted Close: 1851.7481689453125\n",
            "Date: 1155, Predicted Close: 1853.344970703125\n",
            "Date: 1156, Predicted Close: 1854.9417724609375\n",
            "Date: 1157, Predicted Close: 1856.5386962890625\n",
            "Date: 1158, Predicted Close: 1858.135498046875\n",
            "Date: 1159, Predicted Close: 1859.7320556640625\n",
            "Date: 1160, Predicted Close: 1861.3289794921875\n",
            "Date: 1161, Predicted Close: 1862.9259033203125\n",
            "Date: 1162, Predicted Close: 1864.522705078125\n",
            "Date: 1163, Predicted Close: 1866.1195068359375\n",
            "Date: 1164, Predicted Close: 1867.71630859375\n",
            "Date: 1165, Predicted Close: 1869.3131103515625\n",
            "Date: 1166, Predicted Close: 1870.909912109375\n",
            "Date: 1167, Predicted Close: 1872.5067138671875\n",
            "Date: 1168, Predicted Close: 1874.1036376953125\n",
            "Date: 1169, Predicted Close: 1875.7003173828125\n",
            "Date: 1170, Predicted Close: 1877.2972412109375\n",
            "Date: 1171, Predicted Close: 1878.8939208984375\n",
            "Date: 1172, Predicted Close: 1880.49072265625\n",
            "Date: 1173, Predicted Close: 1882.0875244140625\n",
            "Date: 1174, Predicted Close: 1883.6844482421875\n",
            "Date: 1175, Predicted Close: 1885.28125\n",
            "Date: 1176, Predicted Close: 1886.8780517578125\n",
            "Date: 1177, Predicted Close: 1888.4747314453125\n",
            "Date: 1178, Predicted Close: 1890.0716552734375\n",
            "Date: 1179, Predicted Close: 1891.6683349609375\n",
            "Date: 1180, Predicted Close: 1893.2652587890625\n",
            "Date: 1181, Predicted Close: 1894.862060546875\n",
            "Date: 1182, Predicted Close: 1896.458984375\n",
            "Date: 1183, Predicted Close: 1898.0557861328125\n",
            "Date: 1184, Predicted Close: 1899.6524658203125\n",
            "Date: 1185, Predicted Close: 1901.2493896484375\n",
            "Date: 1186, Predicted Close: 1902.8460693359375\n",
            "Date: 1187, Predicted Close: 1904.4429931640625\n",
            "Date: 1188, Predicted Close: 1906.039794921875\n",
            "Date: 1189, Predicted Close: 1907.6365966796875\n",
            "Date: 1190, Predicted Close: 1909.2333984375\n",
            "Date: 1191, Predicted Close: 1910.8302001953125\n",
            "Date: 1192, Predicted Close: 1912.4268798828125\n",
            "Date: 1193, Predicted Close: 1914.023681640625\n",
            "Date: 1194, Predicted Close: 1915.6204833984375\n",
            "Date: 1195, Predicted Close: 1917.2174072265625\n",
            "Date: 1196, Predicted Close: 1918.814208984375\n",
            "Date: 1197, Predicted Close: 1920.4110107421875\n",
            "Date: 1198, Predicted Close: 1922.0076904296875\n",
            "Date: 1199, Predicted Close: 1923.6046142578125\n",
            "Date: 1200, Predicted Close: 1925.201416015625\n",
            "Date: 1201, Predicted Close: 1926.7982177734375\n",
            "Date: 1202, Predicted Close: 1928.3951416015625\n",
            "Date: 1203, Predicted Close: 1929.9920654296875\n",
            "Date: 1204, Predicted Close: 1931.5887451171875\n",
            "Date: 1205, Predicted Close: 1933.185546875\n",
            "Date: 1206, Predicted Close: 1934.7823486328125\n",
            "Date: 1207, Predicted Close: 1936.379150390625\n",
            "Date: 1208, Predicted Close: 1937.975830078125\n",
            "Date: 1209, Predicted Close: 1939.57275390625\n",
            "Date: 1210, Predicted Close: 1941.1695556640625\n",
            "Date: 1211, Predicted Close: 1942.766357421875\n",
            "Date: 1212, Predicted Close: 1944.3631591796875\n",
            "Date: 1213, Predicted Close: 1945.9598388671875\n",
            "Date: 1214, Predicted Close: 1947.556640625\n",
            "Date: 1215, Predicted Close: 1949.1536865234375\n",
            "Date: 1216, Predicted Close: 1950.7503662109375\n",
            "Date: 1217, Predicted Close: 1952.3472900390625\n",
            "Date: 1218, Predicted Close: 1953.944091796875\n",
            "Date: 1219, Predicted Close: 1955.540771484375\n",
            "Date: 1220, Predicted Close: 1957.1375732421875\n",
            "Date: 1221, Predicted Close: 1958.734375\n",
            "Date: 1222, Predicted Close: 1960.3311767578125\n",
            "Date: 1223, Predicted Close: 1961.927978515625\n",
            "Date: 1224, Predicted Close: 1963.52490234375\n",
            "Date: 1225, Predicted Close: 1965.1217041015625\n",
            "Date: 1226, Predicted Close: 1966.718505859375\n",
            "Date: 1227, Predicted Close: 1968.315185546875\n",
            "Date: 1228, Predicted Close: 1969.912109375\n",
            "Date: 1229, Predicted Close: 1971.5089111328125\n",
            "Date: 1230, Predicted Close: 1973.105712890625\n",
            "Date: 1231, Predicted Close: 1974.7025146484375\n",
            "Date: 1232, Predicted Close: 1976.2994384765625\n",
            "Date: 1233, Predicted Close: 1977.8961181640625\n",
            "Date: 1234, Predicted Close: 1979.4930419921875\n",
            "Date: 1235, Predicted Close: 1981.0899658203125\n",
            "Date: 1236, Predicted Close: 1982.686767578125\n",
            "Date: 1237, Predicted Close: 1984.2833251953125\n",
            "Date: 1238, Predicted Close: 1985.880126953125\n",
            "Date: 1239, Predicted Close: 1987.47705078125\n",
            "Date: 1240, Predicted Close: 1989.0738525390625\n",
            "Date: 1241, Predicted Close: 1990.670654296875\n",
            "Date: 1242, Predicted Close: 1992.2674560546875\n",
            "Date: 1243, Predicted Close: 1993.8643798828125\n",
            "Date: 1244, Predicted Close: 1995.4610595703125\n",
            "Date: 1245, Predicted Close: 1997.057861328125\n",
            "Date: 1246, Predicted Close: 1998.65478515625\n",
            "Date: 1247, Predicted Close: 2000.2515869140625\n"
          ]
        }
      ]
    },
    {
      "cell_type": "code",
      "source": [
        "# In kết quả dự đoán trên tập validation\n",
        "print('Kết quả dự đoán trên tập validation:')\n",
        "for i in range(len(val_dates)):\n",
        "    print(f'Date: {val_dates[i]}, Predicted Close: {y_pred_val[i].item()}')\n"
      ],
      "metadata": {
        "colab": {
          "base_uri": "https://localhost:8080/"
        },
        "id": "ueQj67iHZdjD",
        "outputId": "0364046d-1a84-4f7a-cb40-61c8324cf4eb"
      },
      "execution_count": 185,
      "outputs": [
        {
          "output_type": "stream",
          "name": "stdout",
          "text": [
            "Kết quả dự đoán trên tập validation:\n",
            "Date: 1248, Predicted Close: 2001.8482666015625\n",
            "Date: 1249, Predicted Close: 2003.445068359375\n",
            "Date: 1250, Predicted Close: 2005.0419921875\n",
            "Date: 1251, Predicted Close: 2006.6387939453125\n",
            "Date: 1252, Predicted Close: 2008.2357177734375\n",
            "Date: 1253, Predicted Close: 2009.832275390625\n",
            "Date: 1254, Predicted Close: 2011.4293212890625\n",
            "Date: 1255, Predicted Close: 2013.0260009765625\n",
            "Date: 1256, Predicted Close: 2014.622802734375\n",
            "Date: 1257, Predicted Close: 2016.2196044921875\n",
            "Date: 1258, Predicted Close: 2017.8162841796875\n",
            "Date: 1259, Predicted Close: 2019.413330078125\n",
            "Date: 1260, Predicted Close: 2021.010009765625\n",
            "Date: 1261, Predicted Close: 2022.6068115234375\n",
            "Date: 1262, Predicted Close: 2024.20361328125\n",
            "Date: 1263, Predicted Close: 2025.800537109375\n",
            "Date: 1264, Predicted Close: 2027.3973388671875\n",
            "Date: 1265, Predicted Close: 2028.9942626953125\n",
            "Date: 1266, Predicted Close: 2030.5909423828125\n",
            "Date: 1267, Predicted Close: 2032.187744140625\n",
            "Date: 1268, Predicted Close: 2033.7845458984375\n",
            "Date: 1269, Predicted Close: 2035.3812255859375\n",
            "Date: 1270, Predicted Close: 2036.9781494140625\n",
            "Date: 1271, Predicted Close: 2038.574951171875\n",
            "Date: 1272, Predicted Close: 2040.171875\n",
            "Date: 1273, Predicted Close: 2041.7684326171875\n",
            "Date: 1274, Predicted Close: 2043.365234375\n",
            "Date: 1275, Predicted Close: 2044.9622802734375\n",
            "Date: 1276, Predicted Close: 2046.55908203125\n",
            "Date: 1277, Predicted Close: 2048.15576171875\n",
            "Date: 1278, Predicted Close: 2049.752685546875\n",
            "Date: 1279, Predicted Close: 2051.349365234375\n",
            "Date: 1280, Predicted Close: 2052.9462890625\n",
            "Date: 1281, Predicted Close: 2054.543212890625\n",
            "Date: 1282, Predicted Close: 2056.139892578125\n",
            "Date: 1283, Predicted Close: 2057.737060546875\n",
            "Date: 1284, Predicted Close: 2059.333740234375\n",
            "Date: 1285, Predicted Close: 2060.930419921875\n",
            "Date: 1286, Predicted Close: 2062.527099609375\n",
            "Date: 1287, Predicted Close: 2064.1240234375\n",
            "Date: 1288, Predicted Close: 2065.720947265625\n",
            "Date: 1289, Predicted Close: 2067.317626953125\n",
            "Date: 1290, Predicted Close: 2068.914794921875\n",
            "Date: 1291, Predicted Close: 2070.51123046875\n",
            "Date: 1292, Predicted Close: 2072.108154296875\n",
            "Date: 1293, Predicted Close: 2073.704833984375\n",
            "Date: 1294, Predicted Close: 2075.3017578125\n",
            "Date: 1295, Predicted Close: 2076.898681640625\n",
            "Date: 1296, Predicted Close: 2078.495361328125\n",
            "Date: 1297, Predicted Close: 2080.092041015625\n",
            "Date: 1298, Predicted Close: 2081.68896484375\n",
            "Date: 1299, Predicted Close: 2083.28564453125\n",
            "Date: 1300, Predicted Close: 2084.882568359375\n",
            "Date: 1301, Predicted Close: 2086.479248046875\n",
            "Date: 1302, Predicted Close: 2088.076171875\n",
            "Date: 1303, Predicted Close: 2089.673095703125\n",
            "Date: 1304, Predicted Close: 2091.269775390625\n",
            "Date: 1305, Predicted Close: 2092.866455078125\n",
            "Date: 1306, Predicted Close: 2094.46337890625\n",
            "Date: 1307, Predicted Close: 2096.060302734375\n",
            "Date: 1308, Predicted Close: 2097.656982421875\n",
            "Date: 1309, Predicted Close: 2099.253662109375\n",
            "Date: 1310, Predicted Close: 2100.8505859375\n",
            "Date: 1311, Predicted Close: 2102.447509765625\n",
            "Date: 1312, Predicted Close: 2104.044189453125\n",
            "Date: 1313, Predicted Close: 2105.64111328125\n",
            "Date: 1314, Predicted Close: 2107.238037109375\n",
            "Date: 1315, Predicted Close: 2108.834716796875\n",
            "Date: 1316, Predicted Close: 2110.431396484375\n",
            "Date: 1317, Predicted Close: 2112.0283203125\n",
            "Date: 1318, Predicted Close: 2113.625244140625\n",
            "Date: 1319, Predicted Close: 2115.22216796875\n",
            "Date: 1320, Predicted Close: 2116.818603515625\n",
            "Date: 1321, Predicted Close: 2118.41552734375\n",
            "Date: 1322, Predicted Close: 2120.012451171875\n",
            "Date: 1323, Predicted Close: 2121.609130859375\n",
            "Date: 1324, Predicted Close: 2123.2060546875\n",
            "Date: 1325, Predicted Close: 2124.802734375\n",
            "Date: 1326, Predicted Close: 2126.399658203125\n",
            "Date: 1327, Predicted Close: 2127.99658203125\n",
            "Date: 1328, Predicted Close: 2129.593505859375\n",
            "Date: 1329, Predicted Close: 2131.190185546875\n",
            "Date: 1330, Predicted Close: 2132.786865234375\n",
            "Date: 1331, Predicted Close: 2134.383544921875\n",
            "Date: 1332, Predicted Close: 2135.980712890625\n",
            "Date: 1333, Predicted Close: 2137.5771484375\n",
            "Date: 1334, Predicted Close: 2139.174072265625\n",
            "Date: 1335, Predicted Close: 2140.770751953125\n",
            "Date: 1336, Predicted Close: 2142.36767578125\n",
            "Date: 1337, Predicted Close: 2143.964599609375\n",
            "Date: 1338, Predicted Close: 2145.561279296875\n",
            "Date: 1339, Predicted Close: 2147.158203125\n",
            "Date: 1340, Predicted Close: 2148.755126953125\n",
            "Date: 1341, Predicted Close: 2150.351806640625\n",
            "Date: 1342, Predicted Close: 2151.948486328125\n",
            "Date: 1343, Predicted Close: 2153.545654296875\n",
            "Date: 1344, Predicted Close: 2155.142333984375\n",
            "Date: 1345, Predicted Close: 2156.739013671875\n",
            "Date: 1346, Predicted Close: 2158.335693359375\n",
            "Date: 1347, Predicted Close: 2159.9326171875\n",
            "Date: 1348, Predicted Close: 2161.529541015625\n",
            "Date: 1349, Predicted Close: 2163.126220703125\n",
            "Date: 1350, Predicted Close: 2164.722900390625\n",
            "Date: 1351, Predicted Close: 2166.31982421875\n",
            "Date: 1352, Predicted Close: 2167.916748046875\n",
            "Date: 1353, Predicted Close: 2169.513427734375\n",
            "Date: 1354, Predicted Close: 2171.110107421875\n",
            "Date: 1355, Predicted Close: 2172.707275390625\n",
            "Date: 1356, Predicted Close: 2174.303955078125\n",
            "Date: 1357, Predicted Close: 2175.900634765625\n",
            "Date: 1358, Predicted Close: 2177.497314453125\n",
            "Date: 1359, Predicted Close: 2179.09423828125\n",
            "Date: 1360, Predicted Close: 2180.691162109375\n",
            "Date: 1361, Predicted Close: 2182.287841796875\n",
            "Date: 1362, Predicted Close: 2183.884765625\n",
            "Date: 1363, Predicted Close: 2185.481689453125\n",
            "Date: 1364, Predicted Close: 2187.078369140625\n",
            "Date: 1365, Predicted Close: 2188.675048828125\n",
            "Date: 1366, Predicted Close: 2190.27197265625\n",
            "Date: 1367, Predicted Close: 2191.86865234375\n",
            "Date: 1368, Predicted Close: 2193.465576171875\n",
            "Date: 1369, Predicted Close: 2195.0625\n",
            "Date: 1370, Predicted Close: 2196.659423828125\n",
            "Date: 1371, Predicted Close: 2198.256103515625\n",
            "Date: 1372, Predicted Close: 2199.852783203125\n",
            "Date: 1373, Predicted Close: 2201.44970703125\n",
            "Date: 1374, Predicted Close: 2203.046630859375\n",
            "Date: 1375, Predicted Close: 2204.643310546875\n",
            "Date: 1376, Predicted Close: 2206.239990234375\n",
            "Date: 1377, Predicted Close: 2207.836669921875\n",
            "Date: 1378, Predicted Close: 2209.433837890625\n",
            "Date: 1379, Predicted Close: 2211.030517578125\n",
            "Date: 1380, Predicted Close: 2212.627197265625\n",
            "Date: 1381, Predicted Close: 2214.22412109375\n",
            "Date: 1382, Predicted Close: 2215.821044921875\n",
            "Date: 1383, Predicted Close: 2217.417724609375\n",
            "Date: 1384, Predicted Close: 2219.0146484375\n",
            "Date: 1385, Predicted Close: 2220.611572265625\n",
            "Date: 1386, Predicted Close: 2222.208251953125\n",
            "Date: 1387, Predicted Close: 2223.804931640625\n"
          ]
        }
      ]
    },
    {
      "cell_type": "code",
      "source": [
        "last_index =  data.index[-1]\n",
        "last_data = pd.RangeIndex(start=last_index, stop=last_index+30, step=1)\n",
        "\n",
        "# Create an array of 30 consecutive integers starting from last_index\n",
        "#x_next_30_days = np.array(range(last_index+1, last_index+31)).reshape(-1, 1)\n",
        "\n",
        "x_next_30_days = torch.from_numpy(np.array(range(last_index+1, last_index+31)).reshape(-1, 1)).float()\n",
        "# Dự đoán giá đóng cửa cho 30 ngày tiếp theo\n",
        "model.eval()\n",
        "with torch.no_grad():\n",
        "    y_pred_next = model(x_next_30_days)\n",
        "\n",
        "# Chuyển đổi kết quả dự đoán thành mảng numpy\n",
        "y_pred_next = y_pred_next.numpy().flatten()\n",
        "\n",
        "# Hiển thị kết quả dự đoán\n",
        "for i in range(len(x_next_30_days)):\n",
        "    print(f'Date: {x_next_30_days[i]}, Predicted Close: {y_pred_next[i]}')"
      ],
      "metadata": {
        "colab": {
          "base_uri": "https://localhost:8080/"
        },
        "id": "2NoST-cajM6O",
        "outputId": "c112d833-0db2-4fdd-9ca9-cf9a162211f1"
      },
      "execution_count": 186,
      "outputs": [
        {
          "output_type": "stream",
          "name": "stdout",
          "text": [
            "Date: tensor([1388.]), Predicted Close: 2225.401611328125\n",
            "Date: tensor([1389.]), Predicted Close: 2226.99853515625\n",
            "Date: tensor([1390.]), Predicted Close: 2228.595458984375\n",
            "Date: tensor([1391.]), Predicted Close: 2230.192138671875\n",
            "Date: tensor([1392.]), Predicted Close: 2231.789306640625\n",
            "Date: tensor([1393.]), Predicted Close: 2233.385986328125\n",
            "Date: tensor([1394.]), Predicted Close: 2234.982666015625\n",
            "Date: tensor([1395.]), Predicted Close: 2236.57958984375\n",
            "Date: tensor([1396.]), Predicted Close: 2238.17626953125\n",
            "Date: tensor([1397.]), Predicted Close: 2239.773193359375\n",
            "Date: tensor([1398.]), Predicted Close: 2241.3701171875\n",
            "Date: tensor([1399.]), Predicted Close: 2242.966796875\n",
            "Date: tensor([1400.]), Predicted Close: 2244.563720703125\n",
            "Date: tensor([1401.]), Predicted Close: 2246.160400390625\n",
            "Date: tensor([1402.]), Predicted Close: 2247.757080078125\n",
            "Date: tensor([1403.]), Predicted Close: 2249.354248046875\n",
            "Date: tensor([1404.]), Predicted Close: 2250.950927734375\n",
            "Date: tensor([1405.]), Predicted Close: 2252.547607421875\n",
            "Date: tensor([1406.]), Predicted Close: 2254.144287109375\n",
            "Date: tensor([1407.]), Predicted Close: 2255.741455078125\n",
            "Date: tensor([1408.]), Predicted Close: 2257.338134765625\n",
            "Date: tensor([1409.]), Predicted Close: 2258.934814453125\n",
            "Date: tensor([1410.]), Predicted Close: 2260.53173828125\n",
            "Date: tensor([1411.]), Predicted Close: 2262.128662109375\n",
            "Date: tensor([1412.]), Predicted Close: 2263.725341796875\n",
            "Date: tensor([1413.]), Predicted Close: 2265.322021484375\n",
            "Date: tensor([1414.]), Predicted Close: 2266.9189453125\n",
            "Date: tensor([1415.]), Predicted Close: 2268.515869140625\n",
            "Date: tensor([1416.]), Predicted Close: 2270.112548828125\n",
            "Date: tensor([1417.]), Predicted Close: 2271.709228515625\n"
          ]
        }
      ]
    },
    {
      "cell_type": "code",
      "source": [
        "plt.plot(train_data.index, train_data['Close'])\n",
        "plt.plot(test_data.index, test_data['Close'])\n",
        "plt.plot(val_data.index, val_data['Close'])\n",
        "plt.plot(test_data.index, y_pred_test)\n",
        "plt.plot(val_data.index, y_pred_val)\n",
        "plt.plot(last_data, y_pred_next)\n",
        "plt.legend(['Train', 'Test','val', 'Test_Predictions','Validate_Predictions','Next30Day'])\n",
        "plt.show()"
      ],
      "metadata": {
        "colab": {
          "base_uri": "https://localhost:8080/",
          "height": 430
        },
        "id": "DQS_2jQOddo4",
        "outputId": "14fba271-e318-4aae-e9a1-756fe01ec2dc"
      },
      "execution_count": 187,
      "outputs": [
        {
          "output_type": "display_data",
          "data": {
            "text/plain": [
              "<Figure size 640x480 with 1 Axes>"
            ],
            "image/png": "[encoded data removed]"
          },
          "metadata": {}
        }
      ]
    }
  ]
}