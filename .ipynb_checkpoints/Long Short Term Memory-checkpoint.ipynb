{
 "cells": [
  {
   "cell_type": "code",
   "execution_count": 23,
   "id": "4fd8123f",
   "metadata": {},
   "outputs": [
    {
     "name": "stdout",
     "output_type": "stream",
     "text": [
      "[*********************100%***********************]  1 of 1 completed\n"
     ]
    }
   ],
   "source": [
    "import yfinance as yf\n",
    "\n",
    "data = yf.download(tickers = \"GC=F\", start=\"2017-12-01\", end=\"2023-06-02\", interval='1d')\n"
   ]
  },
  {
   "cell_type": "code",
   "execution_count": 24,
   "id": "c9d1ccc3",
   "metadata": {},
   "outputs": [],
   "source": [
    "data = data.reset_index('Date', inplace=False)"
   ]
  },
  {
   "cell_type": "code",
   "execution_count": 25,
   "id": "bcc8d0f8",
   "metadata": {},
   "outputs": [],
   "source": [
    "df = data"
   ]
  },
  {
   "cell_type": "code",
   "execution_count": 26,
   "id": "361506b9",
   "metadata": {},
   "outputs": [],
   "source": [
    "# 1. Import thư viện cần thiết\n",
    "import numpy as np\n",
    "import pandas as pd\n",
    "import matplotlib.pyplot as plt\n",
    "from sklearn.preprocessing import MinMaxScaler\n",
    "from keras.models import Sequential\n",
    "from keras.layers import Dense, LSTM"
   ]
  },
  {
   "cell_type": "markdown",
   "id": "be3f06a8",
   "metadata": {},
   "source": [
    "gắng index với giá Close"
   ]
  },
  {
   "cell_type": "code",
   "execution_count": 27,
   "id": "26b577f1",
   "metadata": {},
   "outputs": [],
   "source": [
    "df1=df.reset_index()['Close']"
   ]
  },
  {
   "cell_type": "code",
   "execution_count": 28,
   "id": "8c861eb6",
   "metadata": {},
   "outputs": [],
   "source": [
    "# 3. Scaler data\n",
    "scaler=MinMaxScaler(feature_range=(0,1))\n",
    "df1=scaler.fit_transform(np.array(df1).reshape(-1,1))"
   ]
  },
  {
   "cell_type": "code",
   "execution_count": 29,
   "id": "76416094",
   "metadata": {},
   "outputs": [],
   "source": [
    "# 4. Chia train test\n",
    "train_size = int(0.7 * len(df1))\n",
    "test_size = int(0.2 * len(df1))\n",
    "val_size = len(df1) - train_size - test_size\n",
    "\n",
    "train_data = df1[:train_size]\n",
    "test_data = df1[train_size:train_size+test_size]\n",
    "val_data = df1[train_size+test_size:]"
   ]
  },
  {
   "cell_type": "code",
   "execution_count": 30,
   "id": "fe9dabb4",
   "metadata": {},
   "outputs": [],
   "source": [
    "# 5. Hàm Create Dataset\n",
    "import numpy\n",
    "# convert an array of values into a dataset matrix\n",
    "def create_dataset(dataset, time_step=1):\n",
    "\tdataX, dataY = [], []\n",
    "\tfor i in range(len(dataset)-time_step-1):\n",
    "\t\ta = dataset[i:(i+time_step), 0]   ###i=0, X=0,1,2,3-----99   Y=100 \n",
    "\t\tdataX.append(a)\n",
    "\t\tdataY.append(dataset[i + time_step, 0])\n",
    "\treturn numpy.array(dataX), numpy.array(dataY)"
   ]
  },
  {
   "cell_type": "code",
   "execution_count": 31,
   "id": "a932ab4b",
   "metadata": {},
   "outputs": [],
   "source": [
    "#6. Reshape into X=t,t+1,t+2..t+99 and Y=t+100\n",
    "\n",
    "time_step = 100\n",
    "X_train, y_train = create_dataset(train_data, time_step)\n",
    "X_val, yval = create_dataset(val_data, time_step)\n",
    "X_test, ytest = create_dataset(test_data, time_step)"
   ]
  },
  {
   "cell_type": "code",
   "execution_count": 32,
   "id": "2d1d0e35",
   "metadata": {},
   "outputs": [],
   "source": [
    "# 7. Reshape input to be [samples, time steps, features] which is required for LSTM\n",
    "X_train =X_train.reshape(X_train.shape[0],X_train.shape[1] , 1)\n",
    "X_test = X_test.reshape(X_test.shape[0],X_test.shape[1] , 1)\n",
    "X_val = X_val.reshape(X_val.shape[0],X_val.shape[1] , 1)"
   ]
  },
  {
   "cell_type": "code",
   "execution_count": 33,
   "id": "7a0dc9ad",
   "metadata": {},
   "outputs": [],
   "source": [
    "# 8. Define LSTM Model\n",
    "\n",
    "model=Sequential()\n",
    "model.add(LSTM(50,return_sequences=True,input_shape=(100,1)))\n",
    "model.add(LSTM(50,return_sequences=True))\n",
    "model.add(LSTM(50))\n",
    "model.add(Dense(1))\n",
    "model.compile(loss='mean_squared_error',optimizer='adam')"
   ]
  },
  {
   "cell_type": "code",
   "execution_count": 34,
   "id": "7ea1239c",
   "metadata": {},
   "outputs": [
    {
     "name": "stdout",
     "output_type": "stream",
     "text": [
      "Epoch 1/100\n",
      "14/14 [==============================] - 12s 332ms/step - loss: 0.0909 - val_loss: 0.0187\n",
      "Epoch 2/100\n",
      "14/14 [==============================] - 3s 222ms/step - loss: 0.0170 - val_loss: 0.0115\n",
      "Epoch 3/100\n",
      "14/14 [==============================] - 3s 226ms/step - loss: 0.0056 - val_loss: 0.0037\n",
      "Epoch 4/100\n",
      "14/14 [==============================] - 3s 232ms/step - loss: 0.0028 - val_loss: 0.0031\n",
      "Epoch 5/100\n",
      "14/14 [==============================] - 3s 241ms/step - loss: 0.0024 - val_loss: 0.0031\n",
      "Epoch 6/100\n",
      "14/14 [==============================] - 3s 233ms/step - loss: 0.0024 - val_loss: 0.0030\n",
      "Epoch 7/100\n",
      "14/14 [==============================] - 4s 270ms/step - loss: 0.0024 - val_loss: 0.0030\n",
      "Epoch 8/100\n",
      "14/14 [==============================] - 4s 260ms/step - loss: 0.0023 - val_loss: 0.0034\n",
      "Epoch 9/100\n",
      "14/14 [==============================] - 4s 253ms/step - loss: 0.0022 - val_loss: 0.0032\n",
      "Epoch 10/100\n",
      "14/14 [==============================] - 4s 252ms/step - loss: 0.0021 - val_loss: 0.0035\n",
      "Epoch 11/100\n",
      "14/14 [==============================] - 4s 294ms/step - loss: 0.0022 - val_loss: 0.0028\n",
      "Epoch 12/100\n",
      "14/14 [==============================] - 4s 266ms/step - loss: 0.0022 - val_loss: 0.0028\n",
      "Epoch 13/100\n",
      "14/14 [==============================] - 4s 253ms/step - loss: 0.0021 - val_loss: 0.0027\n",
      "Epoch 14/100\n",
      "14/14 [==============================] - 4s 286ms/step - loss: 0.0020 - val_loss: 0.0028\n",
      "Epoch 15/100\n",
      "14/14 [==============================] - 4s 295ms/step - loss: 0.0019 - val_loss: 0.0030\n",
      "Epoch 16/100\n",
      "14/14 [==============================] - 4s 285ms/step - loss: 0.0019 - val_loss: 0.0030\n",
      "Epoch 17/100\n",
      "14/14 [==============================] - 4s 311ms/step - loss: 0.0019 - val_loss: 0.0032\n",
      "Epoch 18/100\n",
      "14/14 [==============================] - 5s 326ms/step - loss: 0.0019 - val_loss: 0.0024\n",
      "Epoch 19/100\n",
      "14/14 [==============================] - 4s 303ms/step - loss: 0.0018 - val_loss: 0.0024\n",
      "Epoch 20/100\n",
      "14/14 [==============================] - 4s 272ms/step - loss: 0.0018 - val_loss: 0.0027\n",
      "Epoch 21/100\n",
      "14/14 [==============================] - 4s 305ms/step - loss: 0.0017 - val_loss: 0.0026\n",
      "Epoch 22/100\n",
      "14/14 [==============================] - 4s 303ms/step - loss: 0.0017 - val_loss: 0.0022\n",
      "Epoch 23/100\n",
      "14/14 [==============================] - 4s 301ms/step - loss: 0.0016 - val_loss: 0.0021\n",
      "Epoch 24/100\n",
      "14/14 [==============================] - 4s 318ms/step - loss: 0.0017 - val_loss: 0.0033\n",
      "Epoch 25/100\n",
      "14/14 [==============================] - 4s 322ms/step - loss: 0.0018 - val_loss: 0.0021\n",
      "Epoch 26/100\n",
      "14/14 [==============================] - 4s 303ms/step - loss: 0.0016 - val_loss: 0.0022\n",
      "Epoch 27/100\n",
      "14/14 [==============================] - 5s 327ms/step - loss: 0.0015 - val_loss: 0.0019\n",
      "Epoch 28/100\n",
      "14/14 [==============================] - 5s 365ms/step - loss: 0.0015 - val_loss: 0.0020\n",
      "Epoch 29/100\n",
      "14/14 [==============================] - 4s 321ms/step - loss: 0.0015 - val_loss: 0.0019\n",
      "Epoch 30/100\n",
      "14/14 [==============================] - 5s 346ms/step - loss: 0.0015 - val_loss: 0.0023\n",
      "Epoch 31/100\n",
      "14/14 [==============================] - 6s 399ms/step - loss: 0.0015 - val_loss: 0.0018\n",
      "Epoch 32/100\n",
      "14/14 [==============================] - 5s 389ms/step - loss: 0.0014 - val_loss: 0.0017\n",
      "Epoch 33/100\n",
      "14/14 [==============================] - 4s 310ms/step - loss: 0.0017 - val_loss: 0.0018\n",
      "Epoch 34/100\n",
      "14/14 [==============================] - 5s 343ms/step - loss: 0.0014 - val_loss: 0.0018\n",
      "Epoch 35/100\n",
      "14/14 [==============================] - 5s 394ms/step - loss: 0.0015 - val_loss: 0.0018\n",
      "Epoch 36/100\n",
      "14/14 [==============================] - 5s 350ms/step - loss: 0.0013 - val_loss: 0.0016\n",
      "Epoch 37/100\n",
      "14/14 [==============================] - 6s 427ms/step - loss: 0.0013 - val_loss: 0.0031\n",
      "Epoch 38/100\n",
      "14/14 [==============================] - 5s 361ms/step - loss: 0.0015 - val_loss: 0.0016\n",
      "Epoch 39/100\n",
      "14/14 [==============================] - 4s 295ms/step - loss: 0.0013 - val_loss: 0.0015\n",
      "Epoch 40/100\n",
      "14/14 [==============================] - 4s 284ms/step - loss: 0.0013 - val_loss: 0.0016\n",
      "Epoch 41/100\n",
      "14/14 [==============================] - 4s 293ms/step - loss: 0.0014 - val_loss: 0.0015\n",
      "Epoch 42/100\n",
      "14/14 [==============================] - 5s 349ms/step - loss: 0.0014 - val_loss: 0.0017\n",
      "Epoch 43/100\n",
      "14/14 [==============================] - 4s 253ms/step - loss: 0.0012 - val_loss: 0.0014\n",
      "Epoch 44/100\n",
      "14/14 [==============================] - 3s 233ms/step - loss: 0.0012 - val_loss: 0.0014\n",
      "Epoch 45/100\n",
      "14/14 [==============================] - 3s 243ms/step - loss: 0.0012 - val_loss: 0.0017\n",
      "Epoch 46/100\n",
      "14/14 [==============================] - 3s 227ms/step - loss: 0.0012 - val_loss: 0.0014\n",
      "Epoch 47/100\n",
      "14/14 [==============================] - 3s 232ms/step - loss: 0.0012 - val_loss: 0.0015\n",
      "Epoch 48/100\n",
      "14/14 [==============================] - 3s 241ms/step - loss: 0.0012 - val_loss: 0.0013\n",
      "Epoch 49/100\n",
      "14/14 [==============================] - 4s 274ms/step - loss: 0.0013 - val_loss: 0.0014\n",
      "Epoch 50/100\n",
      "14/14 [==============================] - 4s 243ms/step - loss: 0.0012 - val_loss: 0.0019\n",
      "Epoch 51/100\n",
      "14/14 [==============================] - 4s 249ms/step - loss: 0.0012 - val_loss: 0.0014\n",
      "Epoch 52/100\n",
      "14/14 [==============================] - 4s 297ms/step - loss: 0.0011 - val_loss: 0.0013\n",
      "Epoch 53/100\n",
      "14/14 [==============================] - 5s 339ms/step - loss: 0.0011 - val_loss: 0.0024\n",
      "Epoch 54/100\n",
      "14/14 [==============================] - 5s 383ms/step - loss: 0.0012 - val_loss: 0.0015\n",
      "Epoch 55/100\n",
      "14/14 [==============================] - 4s 300ms/step - loss: 0.0012 - val_loss: 0.0013\n",
      "Epoch 56/100\n",
      "14/14 [==============================] - 4s 312ms/step - loss: 0.0012 - val_loss: 0.0014\n",
      "Epoch 57/100\n",
      "14/14 [==============================] - 4s 294ms/step - loss: 0.0011 - val_loss: 0.0015\n",
      "Epoch 58/100\n",
      "14/14 [==============================] - 4s 286ms/step - loss: 0.0011 - val_loss: 0.0014\n",
      "Epoch 59/100\n",
      "14/14 [==============================] - 4s 288ms/step - loss: 0.0011 - val_loss: 0.0012\n",
      "Epoch 60/100\n",
      "14/14 [==============================] - 4s 318ms/step - loss: 0.0011 - val_loss: 0.0016\n",
      "Epoch 61/100\n",
      "14/14 [==============================] - 5s 330ms/step - loss: 0.0011 - val_loss: 0.0015\n",
      "Epoch 62/100\n",
      "14/14 [==============================] - 4s 285ms/step - loss: 0.0011 - val_loss: 0.0013\n",
      "Epoch 63/100\n",
      "14/14 [==============================] - 4s 307ms/step - loss: 0.0011 - val_loss: 0.0012\n",
      "Epoch 64/100\n",
      "14/14 [==============================] - 4s 284ms/step - loss: 0.0011 - val_loss: 0.0015\n",
      "Epoch 65/100\n",
      "14/14 [==============================] - 3s 238ms/step - loss: 0.0011 - val_loss: 0.0017\n",
      "Epoch 66/100\n",
      "14/14 [==============================] - 4s 286ms/step - loss: 0.0013 - val_loss: 0.0015\n",
      "Epoch 67/100\n",
      "14/14 [==============================] - 4s 280ms/step - loss: 0.0011 - val_loss: 0.0012\n",
      "Epoch 68/100\n",
      "14/14 [==============================] - 4s 282ms/step - loss: 0.0010 - val_loss: 0.0012\n",
      "Epoch 69/100\n",
      "14/14 [==============================] - 4s 293ms/step - loss: 0.0010 - val_loss: 0.0012\n",
      "Epoch 70/100\n",
      "14/14 [==============================] - 4s 305ms/step - loss: 9.9300e-04 - val_loss: 0.0011\n",
      "Epoch 71/100\n",
      "14/14 [==============================] - 4s 272ms/step - loss: 0.0010 - val_loss: 0.0011\n",
      "Epoch 72/100\n",
      "14/14 [==============================] - 3s 239ms/step - loss: 0.0010 - val_loss: 0.0011\n",
      "Epoch 73/100\n",
      "14/14 [==============================] - 4s 294ms/step - loss: 0.0012 - val_loss: 0.0015\n",
      "Epoch 74/100\n",
      "14/14 [==============================] - 4s 317ms/step - loss: 0.0011 - val_loss: 0.0011\n",
      "Epoch 75/100\n",
      "14/14 [==============================] - 4s 268ms/step - loss: 0.0010 - val_loss: 0.0011\n",
      "Epoch 76/100\n",
      "14/14 [==============================] - 4s 255ms/step - loss: 9.8381e-04 - val_loss: 0.0011\n",
      "Epoch 77/100\n",
      "14/14 [==============================] - 3s 246ms/step - loss: 0.0010 - val_loss: 0.0012\n",
      "Epoch 78/100\n",
      "14/14 [==============================] - 3s 241ms/step - loss: 9.7647e-04 - val_loss: 0.0011\n",
      "Epoch 79/100\n",
      "14/14 [==============================] - 4s 277ms/step - loss: 9.4564e-04 - val_loss: 0.0012\n",
      "Epoch 80/100\n",
      "14/14 [==============================] - 5s 335ms/step - loss: 9.9586e-04 - val_loss: 0.0011\n",
      "Epoch 81/100\n"
     ]
    },
    {
     "name": "stdout",
     "output_type": "stream",
     "text": [
      "14/14 [==============================] - 5s 380ms/step - loss: 9.3698e-04 - val_loss: 0.0011\n",
      "Epoch 82/100\n",
      "14/14 [==============================] - 5s 338ms/step - loss: 0.0010 - val_loss: 0.0017\n",
      "Epoch 83/100\n",
      "14/14 [==============================] - 4s 311ms/step - loss: 9.4677e-04 - val_loss: 0.0011\n",
      "Epoch 84/100\n",
      "14/14 [==============================] - 4s 308ms/step - loss: 9.7614e-04 - val_loss: 0.0010\n",
      "Epoch 85/100\n",
      "14/14 [==============================] - 4s 300ms/step - loss: 9.2448e-04 - val_loss: 0.0013\n",
      "Epoch 86/100\n",
      "14/14 [==============================] - 5s 353ms/step - loss: 9.5735e-04 - val_loss: 0.0010\n",
      "Epoch 87/100\n",
      "14/14 [==============================] - 4s 286ms/step - loss: 9.1871e-04 - val_loss: 8.9987e-04\n",
      "Epoch 88/100\n",
      "14/14 [==============================] - 4s 311ms/step - loss: 8.9339e-04 - val_loss: 0.0011\n",
      "Epoch 89/100\n",
      "14/14 [==============================] - 4s 304ms/step - loss: 9.1960e-04 - val_loss: 8.7490e-04\n",
      "Epoch 90/100\n",
      "14/14 [==============================] - 4s 307ms/step - loss: 0.0010 - val_loss: 9.1206e-04\n",
      "Epoch 91/100\n",
      "14/14 [==============================] - 4s 307ms/step - loss: 8.8607e-04 - val_loss: 8.8201e-04\n",
      "Epoch 92/100\n",
      "14/14 [==============================] - 4s 268ms/step - loss: 8.4535e-04 - val_loss: 8.5202e-04\n",
      "Epoch 93/100\n",
      "14/14 [==============================] - 4s 286ms/step - loss: 8.3072e-04 - val_loss: 8.8330e-04\n",
      "Epoch 94/100\n",
      "14/14 [==============================] - 5s 386ms/step - loss: 9.0220e-04 - val_loss: 8.1314e-04\n",
      "Epoch 95/100\n",
      "14/14 [==============================] - 4s 323ms/step - loss: 8.9059e-04 - val_loss: 8.1918e-04\n",
      "Epoch 96/100\n",
      "14/14 [==============================] - 5s 342ms/step - loss: 8.0702e-04 - val_loss: 8.9584e-04\n",
      "Epoch 97/100\n",
      "14/14 [==============================] - 4s 270ms/step - loss: 8.2860e-04 - val_loss: 0.0010\n",
      "Epoch 98/100\n",
      "14/14 [==============================] - 3s 247ms/step - loss: 7.8316e-04 - val_loss: 8.8186e-04\n",
      "Epoch 99/100\n",
      "14/14 [==============================] - 7s 490ms/step - loss: 8.2412e-04 - val_loss: 7.8646e-04\n",
      "Epoch 100/100\n",
      "14/14 [==============================] - 5s 324ms/step - loss: 7.9268e-04 - val_loss: 7.1936e-04\n"
     ]
    },
    {
     "data": {
      "text/plain": [
       "<keras.callbacks.History at 0x20fcb6ede90>"
      ]
     },
     "execution_count": 34,
     "metadata": {},
     "output_type": "execute_result"
    }
   ],
   "source": [
    "# 9. Fit mô hình với dữ liệu train\n",
    "model.fit(X_train,y_train,validation_data=(X_test,ytest),epochs=100,batch_size=64,verbose=1)"
   ]
  },
  {
   "cell_type": "code",
   "execution_count": 35,
   "id": "dbfbe995",
   "metadata": {},
   "outputs": [
    {
     "name": "stdout",
     "output_type": "stream",
     "text": [
      "28/28 [==============================] - 4s 61ms/step\n",
      "6/6 [==============================] - 0s 58ms/step\n",
      "2/2 [==============================] - 0s 38ms/step\n"
     ]
    }
   ],
   "source": [
    "# 10. Dự báo dữ liệu test, val\n",
    "train_predict=model.predict(X_train)\n",
    "y_pred=model.predict(X_test)\n",
    "y_pred_val=model.predict(X_val)"
   ]
  },
  {
   "cell_type": "code",
   "execution_count": 39,
   "id": "d7fd733d",
   "metadata": {},
   "outputs": [],
   "source": [
    "# 11. Chuẩn hóa dữ liệu y_pred, y_pred_val\n",
    "train_predict=scaler.inverse_transform(train_predict)\n",
    "y_pred=scaler.inverse_transform(y_pred)\n",
    "y_pred_val=scaler.inverse_transform(y_pred_val)"
   ]
  },
  {
   "cell_type": "code",
   "execution_count": 42,
   "id": "cb890a99",
   "metadata": {},
   "outputs": [
    {
     "data": {
      "text/plain": [
       "array([[0.79458467, 0.80109681, 0.78830111, 0.78441684, 0.77196394,\n",
       "        0.77436309, 0.75174222, 0.7606535 , 0.75882559, 0.75037132,\n",
       "        0.74922885, 0.73323433, 0.72272371, 0.73209187, 0.74568724,\n",
       "        0.75574085, 0.75094255, 0.7671655 , 0.76739408, 0.72855025,\n",
       "        0.72717921, 0.74614425, 0.78350281, 0.84028328, 0.83399972,\n",
       "        0.85730605, 0.84862334, 0.90666063, 0.9173997 , 0.87033018,\n",
       "        0.88038393, 0.9340798 , 0.92071287, 0.88678171, 0.90963102,\n",
       "        0.90243343, 0.91865652, 0.90574661, 0.92276937, 0.96652571,\n",
       "        0.96504059, 0.9547584 , 0.92871013, 0.94664692, 0.95361593,\n",
       "        0.98834691, 0.9436764 , 0.93453668, 0.9496173 , 0.93567914,\n",
       "        0.94984574, 0.91774249, 0.92871013, 0.93430824, 0.92482572,\n",
       "        0.92962416, 0.9298526 , 0.92219814, 0.95750034, 0.97383751,\n",
       "        0.99600137, 0.96104196, 0.97120993, 0.98252022, 0.97600823,\n",
       "        0.95795722, 0.95772878, 0.96172741, 0.92791046, 0.9191134 ,\n",
       "        0.89146579, 0.91682846, 0.91237296, 0.90963102, 0.89866338,\n",
       "        0.87615673, 0.87729919, 0.89317949, 0.89992006, 0.91602879]])"
      ]
     },
     "execution_count": 42,
     "metadata": {},
     "output_type": "execute_result"
    }
   ],
   "source": [
    "x_input"
   ]
  },
  {
   "cell_type": "code",
   "execution_count": 44,
   "id": "76be3665",
   "metadata": {},
   "outputs": [
    {
     "ename": "ValueError",
     "evalue": "cannot reshape array of size 80 into shape (1,100,1)",
     "output_type": "error",
     "traceback": [
      "\u001b[1;31m---------------------------------------------------------------------------\u001b[0m",
      "\u001b[1;31mValueError\u001b[0m                                Traceback (most recent call last)",
      "Cell \u001b[1;32mIn[44], line 30\u001b[0m\n\u001b[0;32m     28\u001b[0m     i\u001b[38;5;241m=\u001b[39mi\u001b[38;5;241m+\u001b[39m\u001b[38;5;241m1\u001b[39m\n\u001b[0;32m     29\u001b[0m \u001b[38;5;28;01melse\u001b[39;00m:\n\u001b[1;32m---> 30\u001b[0m     x_input \u001b[38;5;241m=\u001b[39m \u001b[43mx_input\u001b[49m\u001b[38;5;241;43m.\u001b[39;49m\u001b[43mreshape\u001b[49m\u001b[43m(\u001b[49m\u001b[43m(\u001b[49m\u001b[38;5;241;43m1\u001b[39;49m\u001b[43m,\u001b[49m\u001b[43m \u001b[49m\u001b[43mn_steps\u001b[49m\u001b[43m,\u001b[49m\u001b[38;5;241;43m1\u001b[39;49m\u001b[43m)\u001b[49m\u001b[43m)\u001b[49m\n\u001b[0;32m     31\u001b[0m     yhat \u001b[38;5;241m=\u001b[39m model\u001b[38;5;241m.\u001b[39mpredict(x_input, verbose\u001b[38;5;241m=\u001b[39m\u001b[38;5;241m0\u001b[39m)\n\u001b[0;32m     32\u001b[0m     \u001b[38;5;28mprint\u001b[39m(yhat[\u001b[38;5;241m0\u001b[39m])\n",
      "\u001b[1;31mValueError\u001b[0m: cannot reshape array of size 80 into shape (1,100,1)"
     ]
    }
   ],
   "source": [
    "# 13. Dự báo 30 ngày tiếp theo\n",
    "x_input=val_data[60:].reshape(1,-1)\n",
    "x_input.shape\n",
    "\n",
    "temp_input=list(x_input)\n",
    "temp_input=temp_input[0].tolist()\n",
    "\n",
    "from numpy import array\n",
    "\n",
    "lst_output=[]\n",
    "n_steps=100\n",
    "i=0\n",
    "while(i<30):\n",
    "    \n",
    "    if(len(temp_input)>100):\n",
    "        #print(temp_input)\n",
    "        x_input=np.array(temp_input[1:])\n",
    "        print(\"{} day input {}\".format(i,x_input))\n",
    "        x_input=x_input.reshape(1,-1)\n",
    "        x_input = x_input.reshape((1, n_steps, 1))\n",
    "        #print(x_input)\n",
    "        yhat = model.predict(x_input, verbose=0)\n",
    "        print(\"{} day output {}\".format(i,yhat))\n",
    "        temp_input.extend(yhat[0].tolist())\n",
    "        temp_input=temp_input[1:]\n",
    "        #print(temp_input)\n",
    "        lst_output.extend(yhat.tolist())\n",
    "        i=i+1\n",
    "    else:\n",
    "        x_input = x_input.reshape((1, n_steps,1))\n",
    "        yhat = model.predict(x_input, verbose=0)\n",
    "        print(yhat[0])\n",
    "        temp_input.extend(yhat[0].tolist())\n",
    "        print(len(temp_input))\n",
    "        lst_output.extend(yhat.tolist())\n",
    "        i=i+1\n"
   ]
  },
  {
   "cell_type": "code",
   "execution_count": null,
   "id": "b853ea20",
   "metadata": {},
   "outputs": [],
   "source": [
    "# 14.Vẽ hình\n",
    "\n",
    "train_data_index = pd.RangeIndex(start=0, stop=train_size, step=1)\n",
    "plt.plot(scaler.inverse_transform(train_data))\n",
    "test_data_index = pd.RangeIndex(start=train_size, stop=train_size+test_size, step=1)\n",
    "plt.plot(test_data_index,scaler.inverse_transform(test_data))\n",
    "test_data_index = pd.RangeIndex(start=train_size+101, stop=train_size+test_size, step=1)\n",
    "plt.plot(test_data_index,(y_pred))\n",
    "val_data_index = pd.RangeIndex(start=train_size+test_size, stop=train_size+test_size+val_size, step=1)\n",
    "plt.plot(val_data_index,scaler.inverse_transform(val_data))\n",
    "val_data_index = pd.RangeIndex(start=train_size+test_size+101, stop=train_size+test_size+val_size, step=1)\n",
    "plt.plot(val_data_index,y_pred_val)\n",
    "prediect_data_index = pd.RangeIndex(start=len(df1)-1, stop=len(df1)+29, step=1)\n",
    "plt.plot(prediect_data_index,scaler.inverse_transform(lst_output))\n",
    "plt.legend(['Train','Test','Predict','Validate','ValidatePred','Predict30days'])\n",
    "plt.show()"
   ]
  },
  {
   "cell_type": "code",
   "execution_count": null,
   "id": "bed4d604",
   "metadata": {},
   "outputs": [],
   "source": []
  }
 ],
 "metadata": {
  "kernelspec": {
   "display_name": "Python 3 (ipykernel)",
   "language": "python",
   "name": "python3"
  },
  "language_info": {
   "codemirror_mode": {
    "name": "ipython",
    "version": 3
   },
   "file_extension": ".py",
   "mimetype": "text/x-python",
   "name": "python",
   "nbconvert_exporter": "python",
   "pygments_lexer": "ipython3",
   "version": "3.11.2"
  }
 },
 "nbformat": 4,
 "nbformat_minor": 5
}
