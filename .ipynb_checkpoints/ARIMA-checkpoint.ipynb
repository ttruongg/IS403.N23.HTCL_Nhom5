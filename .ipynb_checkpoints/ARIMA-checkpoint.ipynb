{
 "cells": [
  {
   "cell_type": "code",
   "execution_count": 19,
   "id": "e8cb34d8",
   "metadata": {},
   "outputs": [
    {
     "name": "stdout",
     "output_type": "stream",
     "text": [
      "[*********************100%***********************]  1 of 1 completed\n"
     ]
    },
    {
     "data": {
      "text/html": [
       "<div>\n",
       "<style scoped>\n",
       "    .dataframe tbody tr th:only-of-type {\n",
       "        vertical-align: middle;\n",
       "    }\n",
       "\n",
       "    .dataframe tbody tr th {\n",
       "        vertical-align: top;\n",
       "    }\n",
       "\n",
       "    .dataframe thead th {\n",
       "        text-align: right;\n",
       "    }\n",
       "</style>\n",
       "<table border=\"1\" class=\"dataframe\">\n",
       "  <thead>\n",
       "    <tr style=\"text-align: right;\">\n",
       "      <th></th>\n",
       "      <th>Open</th>\n",
       "      <th>High</th>\n",
       "      <th>Low</th>\n",
       "      <th>Close</th>\n",
       "      <th>Adj Close</th>\n",
       "      <th>Volume</th>\n",
       "    </tr>\n",
       "    <tr>\n",
       "      <th>Date</th>\n",
       "      <th></th>\n",
       "      <th></th>\n",
       "      <th></th>\n",
       "      <th></th>\n",
       "      <th></th>\n",
       "      <th></th>\n",
       "    </tr>\n",
       "  </thead>\n",
       "  <tbody>\n",
       "    <tr>\n",
       "      <th>2017-12-01</th>\n",
       "      <td>1274.099976</td>\n",
       "      <td>1288.599976</td>\n",
       "      <td>1271.000000</td>\n",
       "      <td>1278.800049</td>\n",
       "      <td>1278.800049</td>\n",
       "      <td>823</td>\n",
       "    </tr>\n",
       "    <tr>\n",
       "      <th>2017-12-04</th>\n",
       "      <td>1272.500000</td>\n",
       "      <td>1276.099976</td>\n",
       "      <td>1270.300049</td>\n",
       "      <td>1274.300049</td>\n",
       "      <td>1274.300049</td>\n",
       "      <td>850</td>\n",
       "    </tr>\n",
       "    <tr>\n",
       "      <th>2017-12-05</th>\n",
       "      <td>1275.400024</td>\n",
       "      <td>1275.800049</td>\n",
       "      <td>1260.000000</td>\n",
       "      <td>1261.599976</td>\n",
       "      <td>1261.599976</td>\n",
       "      <td>1499</td>\n",
       "    </tr>\n",
       "    <tr>\n",
       "      <th>2017-12-06</th>\n",
       "      <td>1264.900024</td>\n",
       "      <td>1267.800049</td>\n",
       "      <td>1261.599976</td>\n",
       "      <td>1262.800049</td>\n",
       "      <td>1262.800049</td>\n",
       "      <td>373</td>\n",
       "    </tr>\n",
       "    <tr>\n",
       "      <th>2017-12-07</th>\n",
       "      <td>1262.300049</td>\n",
       "      <td>1262.400024</td>\n",
       "      <td>1243.900024</td>\n",
       "      <td>1249.800049</td>\n",
       "      <td>1249.800049</td>\n",
       "      <td>358</td>\n",
       "    </tr>\n",
       "    <tr>\n",
       "      <th>...</th>\n",
       "      <td>...</td>\n",
       "      <td>...</td>\n",
       "      <td>...</td>\n",
       "      <td>...</td>\n",
       "      <td>...</td>\n",
       "      <td>...</td>\n",
       "    </tr>\n",
       "    <tr>\n",
       "      <th>2023-05-25</th>\n",
       "      <td>1943.099976</td>\n",
       "      <td>1943.099976</td>\n",
       "      <td>1943.099976</td>\n",
       "      <td>1943.099976</td>\n",
       "      <td>1943.099976</td>\n",
       "      <td>1</td>\n",
       "    </tr>\n",
       "    <tr>\n",
       "      <th>2023-05-26</th>\n",
       "      <td>1948.199951</td>\n",
       "      <td>1948.400024</td>\n",
       "      <td>1944.099976</td>\n",
       "      <td>1944.099976</td>\n",
       "      <td>1944.099976</td>\n",
       "      <td>166036</td>\n",
       "    </tr>\n",
       "    <tr>\n",
       "      <th>2023-05-30</th>\n",
       "      <td>1942.699951</td>\n",
       "      <td>1962.599976</td>\n",
       "      <td>1931.000000</td>\n",
       "      <td>1958.000000</td>\n",
       "      <td>1958.000000</td>\n",
       "      <td>37838</td>\n",
       "    </tr>\n",
       "    <tr>\n",
       "      <th>2023-05-31</th>\n",
       "      <td>1958.199951</td>\n",
       "      <td>1973.000000</td>\n",
       "      <td>1953.000000</td>\n",
       "      <td>1963.900024</td>\n",
       "      <td>1963.900024</td>\n",
       "      <td>5959</td>\n",
       "    </tr>\n",
       "    <tr>\n",
       "      <th>2023-06-01</th>\n",
       "      <td>1963.199951</td>\n",
       "      <td>1983.000000</td>\n",
       "      <td>1954.300049</td>\n",
       "      <td>1978.000000</td>\n",
       "      <td>1978.000000</td>\n",
       "      <td>5959</td>\n",
       "    </tr>\n",
       "  </tbody>\n",
       "</table>\n",
       "<p>1384 rows × 6 columns</p>\n",
       "</div>"
      ],
      "text/plain": [
       "                   Open         High          Low        Close    Adj Close  \\\n",
       "Date                                                                          \n",
       "2017-12-01  1274.099976  1288.599976  1271.000000  1278.800049  1278.800049   \n",
       "2017-12-04  1272.500000  1276.099976  1270.300049  1274.300049  1274.300049   \n",
       "2017-12-05  1275.400024  1275.800049  1260.000000  1261.599976  1261.599976   \n",
       "2017-12-06  1264.900024  1267.800049  1261.599976  1262.800049  1262.800049   \n",
       "2017-12-07  1262.300049  1262.400024  1243.900024  1249.800049  1249.800049   \n",
       "...                 ...          ...          ...          ...          ...   \n",
       "2023-05-25  1943.099976  1943.099976  1943.099976  1943.099976  1943.099976   \n",
       "2023-05-26  1948.199951  1948.400024  1944.099976  1944.099976  1944.099976   \n",
       "2023-05-30  1942.699951  1962.599976  1931.000000  1958.000000  1958.000000   \n",
       "2023-05-31  1958.199951  1973.000000  1953.000000  1963.900024  1963.900024   \n",
       "2023-06-01  1963.199951  1983.000000  1954.300049  1978.000000  1978.000000   \n",
       "\n",
       "            Volume  \n",
       "Date                \n",
       "2017-12-01     823  \n",
       "2017-12-04     850  \n",
       "2017-12-05    1499  \n",
       "2017-12-06     373  \n",
       "2017-12-07     358  \n",
       "...            ...  \n",
       "2023-05-25       1  \n",
       "2023-05-26  166036  \n",
       "2023-05-30   37838  \n",
       "2023-05-31    5959  \n",
       "2023-06-01    5959  \n",
       "\n",
       "[1384 rows x 6 columns]"
      ]
     },
     "execution_count": 19,
     "metadata": {},
     "output_type": "execute_result"
    }
   ],
   "source": [
    "import yfinance as yf\n",
    "\n",
    "data = yf.download(tickers = \"GC=F\", start=\"2017-12-01\", end=\"2023-06-02\", interval='1d')\n",
    "data\n"
   ]
  },
  {
   "cell_type": "code",
   "execution_count": 20,
   "id": "7781b365",
   "metadata": {},
   "outputs": [],
   "source": [
    "data = data.reset_index('Date', inplace=False)"
   ]
  },
  {
   "cell_type": "code",
   "execution_count": 21,
   "id": "9fafce0e",
   "metadata": {},
   "outputs": [],
   "source": [
    "# 1. Các thư viện cần thiết\n",
    "import numpy as np\n",
    "import pandas as pd\n",
    "import matplotlib.pyplot as plt\n",
    "from sklearn.preprocessing import MinMaxScaler\n",
    "from sklearn.linear_model import LinearRegression"
   ]
  },
  {
   "cell_type": "code",
   "execution_count": 22,
   "id": "a037dd14",
   "metadata": {},
   "outputs": [],
   "source": [
    "# 2. Đọc file dữ liệu giá vàng GC=F và chia train test validate theo tỉ lệ 7:2:1\n",
    "data = data[['Close']]\n",
    "data = data.dropna() # Drop missing values\n",
    "data = data.reset_index(drop=True) # Reset the index\n",
    "\n",
    "# Split the data into training, testing, and validation sets\n",
    "train_size = int(0.7 * len(data))\n",
    "test_size = int(0.2 * len(data))\n",
    "val_size = len(data) - train_size - test_size\n",
    "\n",
    "train_data = data[:train_size]\n",
    "test_data = data[train_size:train_size+test_size]\n",
    "val_data = data[train_size+test_size:]"
   ]
  },
  {
   "cell_type": "code",
   "execution_count": 23,
   "id": "edd4625e",
   "metadata": {},
   "outputs": [
    {
     "data": {
      "text/html": [
       "<div>\n",
       "<style scoped>\n",
       "    .dataframe tbody tr th:only-of-type {\n",
       "        vertical-align: middle;\n",
       "    }\n",
       "\n",
       "    .dataframe tbody tr th {\n",
       "        vertical-align: top;\n",
       "    }\n",
       "\n",
       "    .dataframe thead th {\n",
       "        text-align: right;\n",
       "    }\n",
       "</style>\n",
       "<table border=\"1\" class=\"dataframe\">\n",
       "  <thead>\n",
       "    <tr style=\"text-align: right;\">\n",
       "      <th></th>\n",
       "      <th>Close</th>\n",
       "    </tr>\n",
       "  </thead>\n",
       "  <tbody>\n",
       "    <tr>\n",
       "      <th>0</th>\n",
       "      <td>1278.800049</td>\n",
       "    </tr>\n",
       "    <tr>\n",
       "      <th>1</th>\n",
       "      <td>1274.300049</td>\n",
       "    </tr>\n",
       "    <tr>\n",
       "      <th>2</th>\n",
       "      <td>1261.599976</td>\n",
       "    </tr>\n",
       "    <tr>\n",
       "      <th>3</th>\n",
       "      <td>1262.800049</td>\n",
       "    </tr>\n",
       "    <tr>\n",
       "      <th>4</th>\n",
       "      <td>1249.800049</td>\n",
       "    </tr>\n",
       "    <tr>\n",
       "      <th>...</th>\n",
       "      <td>...</td>\n",
       "    </tr>\n",
       "    <tr>\n",
       "      <th>1379</th>\n",
       "      <td>1943.099976</td>\n",
       "    </tr>\n",
       "    <tr>\n",
       "      <th>1380</th>\n",
       "      <td>1944.099976</td>\n",
       "    </tr>\n",
       "    <tr>\n",
       "      <th>1381</th>\n",
       "      <td>1958.000000</td>\n",
       "    </tr>\n",
       "    <tr>\n",
       "      <th>1382</th>\n",
       "      <td>1963.900024</td>\n",
       "    </tr>\n",
       "    <tr>\n",
       "      <th>1383</th>\n",
       "      <td>1978.000000</td>\n",
       "    </tr>\n",
       "  </tbody>\n",
       "</table>\n",
       "<p>1384 rows × 1 columns</p>\n",
       "</div>"
      ],
      "text/plain": [
       "            Close\n",
       "0     1278.800049\n",
       "1     1274.300049\n",
       "2     1261.599976\n",
       "3     1262.800049\n",
       "4     1249.800049\n",
       "...           ...\n",
       "1379  1943.099976\n",
       "1380  1944.099976\n",
       "1381  1958.000000\n",
       "1382  1963.900024\n",
       "1383  1978.000000\n",
       "\n",
       "[1384 rows x 1 columns]"
      ]
     },
     "execution_count": 23,
     "metadata": {},
     "output_type": "execute_result"
    }
   ],
   "source": [
    "data"
   ]
  },
  {
   "cell_type": "code",
   "execution_count": 24,
   "id": "4701c48c",
   "metadata": {},
   "outputs": [
    {
     "name": "stdout",
     "output_type": "stream",
     "text": [
      "Performing stepwise search to minimize aic\n",
      " ARIMA(2,1,2)(0,0,0)[0] intercept   : AIC=8100.062, Time=1.74 sec\n",
      " ARIMA(0,1,0)(0,0,0)[0] intercept   : AIC=8097.666, Time=0.03 sec\n",
      " ARIMA(1,1,0)(0,0,0)[0] intercept   : AIC=8099.396, Time=0.06 sec\n",
      " ARIMA(0,1,1)(0,0,0)[0] intercept   : AIC=8099.408, Time=0.12 sec\n",
      " ARIMA(0,1,0)(0,0,0)[0]             : AIC=8096.605, Time=0.02 sec\n",
      " ARIMA(1,1,1)(0,0,0)[0] intercept   : AIC=8101.194, Time=0.50 sec\n",
      "\n",
      "Best model:  ARIMA(0,1,0)(0,0,0)[0]          \n",
      "Total fit time: 2.508 seconds\n"
     ]
    },
    {
     "data": {
      "text/html": [
       "<style>#sk-container-id-4 {color: black;background-color: white;}#sk-container-id-4 pre{padding: 0;}#sk-container-id-4 div.sk-toggleable {background-color: white;}#sk-container-id-4 label.sk-toggleable__label {cursor: pointer;display: block;width: 100%;margin-bottom: 0;padding: 0.3em;box-sizing: border-box;text-align: center;}#sk-container-id-4 label.sk-toggleable__label-arrow:before {content: \"▸\";float: left;margin-right: 0.25em;color: #696969;}#sk-container-id-4 label.sk-toggleable__label-arrow:hover:before {color: black;}#sk-container-id-4 div.sk-estimator:hover label.sk-toggleable__label-arrow:before {color: black;}#sk-container-id-4 div.sk-toggleable__content {max-height: 0;max-width: 0;overflow: hidden;text-align: left;background-color: #f0f8ff;}#sk-container-id-4 div.sk-toggleable__content pre {margin: 0.2em;color: black;border-radius: 0.25em;background-color: #f0f8ff;}#sk-container-id-4 input.sk-toggleable__control:checked~div.sk-toggleable__content {max-height: 200px;max-width: 100%;overflow: auto;}#sk-container-id-4 input.sk-toggleable__control:checked~label.sk-toggleable__label-arrow:before {content: \"▾\";}#sk-container-id-4 div.sk-estimator input.sk-toggleable__control:checked~label.sk-toggleable__label {background-color: #d4ebff;}#sk-container-id-4 div.sk-label input.sk-toggleable__control:checked~label.sk-toggleable__label {background-color: #d4ebff;}#sk-container-id-4 input.sk-hidden--visually {border: 0;clip: rect(1px 1px 1px 1px);clip: rect(1px, 1px, 1px, 1px);height: 1px;margin: -1px;overflow: hidden;padding: 0;position: absolute;width: 1px;}#sk-container-id-4 div.sk-estimator {font-family: monospace;background-color: #f0f8ff;border: 1px dotted black;border-radius: 0.25em;box-sizing: border-box;margin-bottom: 0.5em;}#sk-container-id-4 div.sk-estimator:hover {background-color: #d4ebff;}#sk-container-id-4 div.sk-parallel-item::after {content: \"\";width: 100%;border-bottom: 1px solid gray;flex-grow: 1;}#sk-container-id-4 div.sk-label:hover label.sk-toggleable__label {background-color: #d4ebff;}#sk-container-id-4 div.sk-serial::before {content: \"\";position: absolute;border-left: 1px solid gray;box-sizing: border-box;top: 0;bottom: 0;left: 50%;z-index: 0;}#sk-container-id-4 div.sk-serial {display: flex;flex-direction: column;align-items: center;background-color: white;padding-right: 0.2em;padding-left: 0.2em;position: relative;}#sk-container-id-4 div.sk-item {position: relative;z-index: 1;}#sk-container-id-4 div.sk-parallel {display: flex;align-items: stretch;justify-content: center;background-color: white;position: relative;}#sk-container-id-4 div.sk-item::before, #sk-container-id-4 div.sk-parallel-item::before {content: \"\";position: absolute;border-left: 1px solid gray;box-sizing: border-box;top: 0;bottom: 0;left: 50%;z-index: -1;}#sk-container-id-4 div.sk-parallel-item {display: flex;flex-direction: column;z-index: 1;position: relative;background-color: white;}#sk-container-id-4 div.sk-parallel-item:first-child::after {align-self: flex-end;width: 50%;}#sk-container-id-4 div.sk-parallel-item:last-child::after {align-self: flex-start;width: 50%;}#sk-container-id-4 div.sk-parallel-item:only-child::after {width: 0;}#sk-container-id-4 div.sk-dashed-wrapped {border: 1px dashed gray;margin: 0 0.4em 0.5em 0.4em;box-sizing: border-box;padding-bottom: 0.4em;background-color: white;}#sk-container-id-4 div.sk-label label {font-family: monospace;font-weight: bold;display: inline-block;line-height: 1.2em;}#sk-container-id-4 div.sk-label-container {text-align: center;}#sk-container-id-4 div.sk-container {/* jupyter's `normalize.less` sets `[hidden] { display: none; }` but bootstrap.min.css set `[hidden] { display: none !important; }` so we also need the `!important` here to be able to override the default hidden behavior on the sphinx rendered scikit-learn.org. See: https://github.com/scikit-learn/scikit-learn/issues/21755 */display: inline-block !important;position: relative;}#sk-container-id-4 div.sk-text-repr-fallback {display: none;}</style><div id=\"sk-container-id-4\" class=\"sk-top-container\"><div class=\"sk-text-repr-fallback\"><pre> ARIMA(0,1,0)(0,0,0)[0]          </pre><b>In a Jupyter environment, please rerun this cell to show the HTML representation or trust the notebook. <br />On GitHub, the HTML representation is unable to render, please try loading this page with nbviewer.org.</b></div><div class=\"sk-container\" hidden><div class=\"sk-item\"><div class=\"sk-estimator sk-toggleable\"><input class=\"sk-toggleable__control sk-hidden--visually\" id=\"sk-estimator-id-4\" type=\"checkbox\" checked><label for=\"sk-estimator-id-4\" class=\"sk-toggleable__label sk-toggleable__label-arrow\">ARIMA</label><div class=\"sk-toggleable__content\"><pre> ARIMA(0,1,0)(0,0,0)[0]          </pre></div></div></div></div></div>"
      ],
      "text/plain": [
       "ARIMA(order=(0, 1, 0), scoring_args={}, suppress_warnings=True,\n",
       "      with_intercept=False)"
      ]
     },
     "execution_count": 24,
     "metadata": {},
     "output_type": "execute_result"
    }
   ],
   "source": [
    "# 3. Quá trình Training\n",
    "x_train = np.array(train_data.index).reshape(-1, 1)\n",
    "y_train = np.array(train_data['Close'])\n",
    "\n",
    "# Find the best ARIMA model using auto_arima\n",
    "from pmdarima.arima import auto_arima\n",
    "model = auto_arima(y_train, trace=True, error_action='ignore', suppress_warnings=True)\n",
    "\n",
    "# Fit the model\n",
    "model.fit(y_train)"
   ]
  },
  {
   "cell_type": "code",
   "execution_count": 25,
   "id": "ffa2cc53",
   "metadata": {},
   "outputs": [],
   "source": [
    "# 4. Quá trình testing \n",
    "x_test = np.array(test_data.index).reshape(-1, 1)\n",
    "y_test = np.array(test_data['Close'])\n",
    "y_pred = model.predict(n_periods=len(y_test))\n",
    "\n",
    "# 5. Quá trình Validate\n",
    "x_val= np.array(val_data.index).reshape(-1, 1)\n",
    "y_val = np.array(val_data['Close'])\n",
    "y_pred_val =  model.predict(n_periods=len(y_val))"
   ]
  },
  {
   "cell_type": "code",
   "execution_count": 28,
   "id": "906f3ced",
   "metadata": {},
   "outputs": [
    {
     "name": "stdout",
     "output_type": "stream",
     "text": [
      "Predicted closing prices for the next 30 days:\n",
      "[1757.90002441 1757.90002441 1757.90002441 1757.90002441 1757.90002441\n",
      " 1757.90002441 1757.90002441 1757.90002441 1757.90002441 1757.90002441\n",
      " 1757.90002441 1757.90002441 1757.90002441 1757.90002441 1757.90002441\n",
      " 1757.90002441 1757.90002441 1757.90002441 1757.90002441 1757.90002441\n",
      " 1757.90002441 1757.90002441 1757.90002441 1757.90002441 1757.90002441\n",
      " 1757.90002441 1757.90002441 1757.90002441 1757.90002441 1757.90002441]\n"
     ]
    }
   ],
   "source": [
    "# 6. Quá trình tạo index predict 30 ngày tiếp theo\n",
    "last_index =  data.index[-1]\n",
    "last_data = pd.RangeIndex(start=last_index, stop=last_index+30, step=1)\n",
    "\n",
    "# Create an array of 30 consecutive integers starting from last_index\n",
    "x_next_30_days = np.array(range(last_index+1, last_index+31)).reshape(-1, 1)\n",
    "\n",
    "# Predict the closing prices for the next 30 days\n",
    "y_next_30_days = model.predict(n_periods=len(x_next_30_days))\n",
    "\n",
    "# Print the predicted closing prices for the next 30 days\n",
    "print('Predicted closing prices for the next 30 days:')\n",
    "print(y_next_30_days)"
   ]
  },
  {
   "cell_type": "code",
   "execution_count": 30,
   "id": "53e61a92",
   "metadata": {},
   "outputs": [
    {
     "name": "stdout",
     "output_type": "stream",
     "text": [
      "Validation RMSE: 163.37369344232266\n",
      "Testing RMSE: 99.04450428742771\n"
     ]
    }
   ],
   "source": [
    "# 7. Đánh giá độ chính xác validate, test\n",
    "valid_rmse = np.sqrt(np.mean((y_pred_val - y_val)**2))\n",
    "test_rmse = np.sqrt(np.mean((y_pred - y_test)**2))\n",
    "print('Validation RMSE:', valid_rmse)\n",
    "print('Testing RMSE:', test_rmse)"
   ]
  },
  {
   "cell_type": "code",
   "execution_count": 31,
   "id": "4d263587",
   "metadata": {},
   "outputs": [
    {
     "data": {
      "image/png": "[encoded data removed]",
      "text/plain": [
       "<Figure size 640x480 with 1 Axes>"
      ]
     },
     "metadata": {},
     "output_type": "display_data"
    }
   ],
   "source": [
    "plt.plot(train_data.index, train_data['Close'])\n",
    "plt.plot(test_data.index, test_data['Close'])\n",
    "plt.plot(test_data.index, y_pred)\n",
    "plt.plot(val_data.index, y_pred_val)\n",
    "plt.plot(last_data,y_next_30_days)\n",
    "plt.legend(['Train', 'Test', 'Predictions','Validate','Next30Day'])\n",
    "plt.show()"
   ]
  },
  {
   "cell_type": "code",
   "execution_count": null,
   "id": "7c980be9",
   "metadata": {},
   "outputs": [],
   "source": []
  }
 ],
 "metadata": {
  "kernelspec": {
   "display_name": "Python 3 (ipykernel)",
   "language": "python",
   "name": "python3"
  },
  "language_info": {
   "codemirror_mode": {
    "name": "ipython",
    "version": 3
   },
   "file_extension": ".py",
   "mimetype": "text/x-python",
   "name": "python",
   "nbconvert_exporter": "python",
   "pygments_lexer": "ipython3",
   "version": "3.11.2"
  }
 },
 "nbformat": 4,
 "nbformat_minor": 5
}
