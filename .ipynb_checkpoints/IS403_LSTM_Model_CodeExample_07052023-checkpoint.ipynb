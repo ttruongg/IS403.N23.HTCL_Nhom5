{
 "cells": [
  {
   "cell_type": "code",
   "execution_count": 80,
   "metadata": {
    "colab": {
     "base_uri": "https://localhost:8080/"
    },
    "id": "FMDKda-XIUAK",
    "outputId": "be988c00-2f6c-43b6-a7bf-69a486a7845c"
   },
   "outputs": [
    {
     "name": "stdout",
     "output_type": "stream",
     "text": [
      "Drive already mounted at /content/drive; to attempt to forcibly remount, call drive.mount(\"/content/drive\", force_remount=True).\n"
     ]
    }
   ],
   "source": [
    "# 1. Import thư viện cần thiết\n",
    "from google.colab import drive\n",
    "drive.mount('/content/drive')\n",
    "import numpy as np\n",
    "import pandas as pd\n",
    "import matplotlib.pyplot as plt\n",
    "from sklearn.preprocessing import MinMaxScaler\n",
    "from keras.models import Sequential\n",
    "from keras.layers import Dense, LSTM"
   ]
  },
  {
   "cell_type": "code",
   "execution_count": 81,
   "metadata": {
    "id": "aRm9GQ8KJJ5N"
   },
   "outputs": [],
   "source": [
    "# 2. Đọc file csv và gắng index với giá Close\n",
    "df = pd.read_csv('/content/drive/MyDrive/StockData/AAPL_stock_data.csv')\n",
    "df1=df.reset_index()['Close']"
   ]
  },
  {
   "cell_type": "code",
   "execution_count": 82,
   "metadata": {
    "id": "RdVpDho2JgL5"
   },
   "outputs": [],
   "source": [
    "# 3. Scaler data\n",
    "scaler=MinMaxScaler(feature_range=(0,1))\n",
    "df1=scaler.fit_transform(np.array(df1).reshape(-1,1))"
   ]
  },
  {
   "cell_type": "code",
   "execution_count": 89,
   "metadata": {
    "id": "B5JXpenzJoR3"
   },
   "outputs": [],
   "source": [
    "# 4. Chia train test\n",
    "train_size = int(0.7 * len(df1))\n",
    "test_size = int(0.2 * len(df1))\n",
    "val_size = len(df1) - train_size - test_size\n",
    "\n",
    "train_data = df1[:train_size]\n",
    "test_data = df1[train_size:train_size+test_size]\n",
    "val_data = df1[train_size+test_size:]"
   ]
  },
  {
   "cell_type": "code",
   "execution_count": 90,
   "metadata": {
    "id": "yJfmuBORLSfC"
   },
   "outputs": [],
   "source": [
    "# 5. Hàm Create Dataset\n",
    "import numpy\n",
    "# convert an array of values into a dataset matrix\n",
    "def create_dataset(dataset, time_step=1):\n",
    "\tdataX, dataY = [], []\n",
    "\tfor i in range(len(dataset)-time_step-1):\n",
    "\t\ta = dataset[i:(i+time_step), 0]   ###i=0, X=0,1,2,3-----99   Y=100 \n",
    "\t\tdataX.append(a)\n",
    "\t\tdataY.append(dataset[i + time_step, 0])\n",
    "\treturn numpy.array(dataX), numpy.array(dataY)"
   ]
  },
  {
   "cell_type": "code",
   "execution_count": 91,
   "metadata": {
    "id": "e81cKq03LXFB"
   },
   "outputs": [],
   "source": [
    "#6. Reshape into X=t,t+1,t+2..t+99 and Y=t+100\n",
    "\n",
    "time_step = 100\n",
    "X_train, y_train = create_dataset(train_data, time_step)\n",
    "X_val, yval = create_dataset(val_data, time_step)\n",
    "X_test, ytest = create_dataset(test_data, time_step)"
   ]
  },
  {
   "cell_type": "code",
   "execution_count": 95,
   "metadata": {
    "id": "RdBVfku7O2qb"
   },
   "outputs": [],
   "source": [
    "# 7. Reshape input to be [samples, time steps, features] which is required for LSTM\n",
    "X_train =X_train.reshape(X_train.shape[0],X_train.shape[1] , 1)\n",
    "X_test = X_test.reshape(X_test.shape[0],X_test.shape[1] , 1)\n",
    "X_val = X_val.reshape(X_val.shape[0],X_val.shape[1] , 1)"
   ]
  },
  {
   "cell_type": "code",
   "execution_count": 105,
   "metadata": {
    "id": "sSfxrE7BO9vX"
   },
   "outputs": [],
   "source": [
    "# 8. Define LSTM Model\n",
    "\n",
    "model=Sequential()\n",
    "model.add(LSTM(50,return_sequences=True,input_shape=(100,1)))\n",
    "model.add(LSTM(50,return_sequences=True))\n",
    "model.add(LSTM(50))\n",
    "model.add(Dense(1))\n",
    "model.compile(loss='mean_squared_error',optimizer='adam')"
   ]
  },
  {
   "cell_type": "code",
   "execution_count": 97,
   "metadata": {
    "colab": {
     "base_uri": "https://localhost:8080/"
    },
    "id": "zgfeujZSPEKr",
    "outputId": "87151598-3792-46b5-857d-e7626c6a63de"
   },
   "outputs": [
    {
     "name": "stdout",
     "output_type": "stream",
     "text": [
      "Epoch 1/100\n",
      "16/16 [==============================] - 12s 296ms/step - loss: 0.0256 - val_loss: 0.0533\n",
      "Epoch 2/100\n",
      "16/16 [==============================] - 4s 236ms/step - loss: 0.0023 - val_loss: 0.0049\n",
      "Epoch 3/100\n",
      "16/16 [==============================] - 5s 302ms/step - loss: 0.0010 - val_loss: 0.0045\n",
      "Epoch 4/100\n",
      "16/16 [==============================] - 3s 209ms/step - loss: 8.6782e-04 - val_loss: 0.0044\n",
      "Epoch 5/100\n",
      "16/16 [==============================] - 3s 213ms/step - loss: 8.3340e-04 - val_loss: 0.0040\n",
      "Epoch 6/100\n",
      "16/16 [==============================] - 4s 279ms/step - loss: 8.0179e-04 - val_loss: 0.0038\n",
      "Epoch 7/100\n",
      "16/16 [==============================] - 4s 269ms/step - loss: 7.9046e-04 - val_loss: 0.0045\n",
      "Epoch 8/100\n",
      "16/16 [==============================] - 3s 216ms/step - loss: 7.4902e-04 - val_loss: 0.0054\n",
      "Epoch 9/100\n",
      "16/16 [==============================] - 3s 209ms/step - loss: 7.3029e-04 - val_loss: 0.0058\n",
      "Epoch 10/100\n",
      "16/16 [==============================] - 5s 318ms/step - loss: 7.4497e-04 - val_loss: 0.0050\n",
      "Epoch 11/100\n",
      "16/16 [==============================] - 4s 228ms/step - loss: 6.8061e-04 - val_loss: 0.0058\n",
      "Epoch 12/100\n",
      "16/16 [==============================] - 3s 212ms/step - loss: 6.8366e-04 - val_loss: 0.0044\n",
      "Epoch 13/100\n",
      "16/16 [==============================] - 3s 206ms/step - loss: 6.7389e-04 - val_loss: 0.0048\n",
      "Epoch 14/100\n",
      "16/16 [==============================] - 5s 347ms/step - loss: 6.3041e-04 - val_loss: 0.0056\n",
      "Epoch 15/100\n",
      "16/16 [==============================] - 3s 212ms/step - loss: 6.1032e-04 - val_loss: 0.0037\n",
      "Epoch 16/100\n",
      "16/16 [==============================] - 3s 210ms/step - loss: 6.1597e-04 - val_loss: 0.0083\n",
      "Epoch 17/100\n",
      "16/16 [==============================] - 3s 212ms/step - loss: 6.8798e-04 - val_loss: 0.0047\n",
      "Epoch 18/100\n",
      "16/16 [==============================] - 5s 323ms/step - loss: 6.0030e-04 - val_loss: 0.0034\n",
      "Epoch 19/100\n",
      "16/16 [==============================] - 3s 212ms/step - loss: 5.6206e-04 - val_loss: 0.0060\n",
      "Epoch 20/100\n",
      "16/16 [==============================] - 3s 218ms/step - loss: 5.7490e-04 - val_loss: 0.0061\n",
      "Epoch 21/100\n",
      "16/16 [==============================] - 4s 242ms/step - loss: 5.5596e-04 - val_loss: 0.0071\n",
      "Epoch 22/100\n",
      "16/16 [==============================] - 5s 300ms/step - loss: 5.2061e-04 - val_loss: 0.0055\n",
      "Epoch 23/100\n",
      "16/16 [==============================] - 3s 210ms/step - loss: 4.9335e-04 - val_loss: 0.0027\n",
      "Epoch 24/100\n",
      "16/16 [==============================] - 3s 210ms/step - loss: 5.1571e-04 - val_loss: 0.0028\n",
      "Epoch 25/100\n",
      "16/16 [==============================] - 5s 292ms/step - loss: 4.8799e-04 - val_loss: 0.0024\n",
      "Epoch 26/100\n",
      "16/16 [==============================] - 4s 254ms/step - loss: 5.0746e-04 - val_loss: 0.0029\n",
      "Epoch 27/100\n",
      "16/16 [==============================] - 3s 211ms/step - loss: 4.6182e-04 - val_loss: 0.0042\n",
      "Epoch 28/100\n",
      "16/16 [==============================] - 3s 208ms/step - loss: 4.6504e-04 - val_loss: 0.0025\n",
      "Epoch 29/100\n",
      "16/16 [==============================] - 5s 311ms/step - loss: 4.2445e-04 - val_loss: 0.0050\n",
      "Epoch 30/100\n",
      "16/16 [==============================] - 4s 233ms/step - loss: 4.5796e-04 - val_loss: 0.0069\n",
      "Epoch 31/100\n",
      "16/16 [==============================] - 3s 216ms/step - loss: 5.5670e-04 - val_loss: 0.0081\n",
      "Epoch 32/100\n",
      "16/16 [==============================] - 3s 215ms/step - loss: 5.1789e-04 - val_loss: 0.0093\n",
      "Epoch 33/100\n",
      "16/16 [==============================] - 5s 340ms/step - loss: 5.4847e-04 - val_loss: 0.0050\n",
      "Epoch 34/100\n",
      "16/16 [==============================] - 3s 209ms/step - loss: 4.3770e-04 - val_loss: 0.0034\n",
      "Epoch 35/100\n",
      "16/16 [==============================] - 3s 212ms/step - loss: 4.4706e-04 - val_loss: 0.0024\n",
      "Epoch 36/100\n",
      "16/16 [==============================] - 4s 244ms/step - loss: 4.4113e-04 - val_loss: 0.0027\n",
      "Epoch 37/100\n",
      "16/16 [==============================] - 5s 307ms/step - loss: 3.8278e-04 - val_loss: 0.0032\n",
      "Epoch 38/100\n",
      "16/16 [==============================] - 3s 211ms/step - loss: 4.0853e-04 - val_loss: 0.0043\n",
      "Epoch 39/100\n",
      "16/16 [==============================] - 3s 211ms/step - loss: 3.6854e-04 - val_loss: 0.0042\n",
      "Epoch 40/100\n",
      "16/16 [==============================] - 4s 264ms/step - loss: 3.8283e-04 - val_loss: 0.0056\n",
      "Epoch 41/100\n",
      "16/16 [==============================] - 4s 278ms/step - loss: 4.4316e-04 - val_loss: 0.0033\n",
      "Epoch 42/100\n",
      "16/16 [==============================] - 3s 211ms/step - loss: 3.7904e-04 - val_loss: 0.0030\n",
      "Epoch 43/100\n",
      "16/16 [==============================] - 3s 211ms/step - loss: 3.6788e-04 - val_loss: 0.0021\n",
      "Epoch 44/100\n",
      "16/16 [==============================] - 5s 293ms/step - loss: 4.1853e-04 - val_loss: 0.0020\n",
      "Epoch 45/100\n",
      "16/16 [==============================] - 4s 255ms/step - loss: 3.7303e-04 - val_loss: 0.0024\n",
      "Epoch 46/100\n",
      "16/16 [==============================] - 3s 214ms/step - loss: 4.1835e-04 - val_loss: 0.0026\n",
      "Epoch 47/100\n",
      "16/16 [==============================] - 3s 218ms/step - loss: 3.5414e-04 - val_loss: 0.0018\n",
      "Epoch 48/100\n",
      "16/16 [==============================] - 5s 324ms/step - loss: 4.0398e-04 - val_loss: 0.0031\n",
      "Epoch 49/100\n",
      "16/16 [==============================] - 4s 214ms/step - loss: 3.3823e-04 - val_loss: 0.0035\n",
      "Epoch 50/100\n",
      "16/16 [==============================] - 3s 217ms/step - loss: 3.5908e-04 - val_loss: 0.0020\n",
      "Epoch 51/100\n",
      "16/16 [==============================] - 3s 214ms/step - loss: 3.3325e-04 - val_loss: 0.0018\n",
      "Epoch 52/100\n",
      "16/16 [==============================] - 5s 343ms/step - loss: 3.2448e-04 - val_loss: 0.0040\n",
      "Epoch 53/100\n",
      "16/16 [==============================] - 3s 220ms/step - loss: 3.1724e-04 - val_loss: 0.0029\n",
      "Epoch 54/100\n",
      "16/16 [==============================] - 3s 212ms/step - loss: 3.3284e-04 - val_loss: 0.0019\n",
      "Epoch 55/100\n",
      "16/16 [==============================] - 4s 239ms/step - loss: 3.1861e-04 - val_loss: 0.0021\n",
      "Epoch 56/100\n",
      "16/16 [==============================] - 5s 302ms/step - loss: 3.3320e-04 - val_loss: 0.0026\n",
      "Epoch 57/100\n",
      "16/16 [==============================] - 3s 211ms/step - loss: 3.4263e-04 - val_loss: 0.0022\n",
      "Epoch 58/100\n",
      "16/16 [==============================] - 3s 211ms/step - loss: 3.4478e-04 - val_loss: 0.0048\n",
      "Epoch 59/100\n",
      "16/16 [==============================] - 4s 286ms/step - loss: 3.5079e-04 - val_loss: 0.0029\n",
      "Epoch 60/100\n",
      "16/16 [==============================] - 4s 267ms/step - loss: 3.0618e-04 - val_loss: 0.0019\n",
      "Epoch 61/100\n",
      "16/16 [==============================] - 3s 216ms/step - loss: 3.0214e-04 - val_loss: 0.0020\n",
      "Epoch 62/100\n",
      "16/16 [==============================] - 3s 214ms/step - loss: 3.1326e-04 - val_loss: 0.0049\n",
      "Epoch 63/100\n",
      "16/16 [==============================] - 5s 333ms/step - loss: 3.9027e-04 - val_loss: 0.0014\n",
      "Epoch 64/100\n",
      "16/16 [==============================] - 4s 213ms/step - loss: 3.5272e-04 - val_loss: 0.0015\n",
      "Epoch 65/100\n",
      "16/16 [==============================] - 3s 212ms/step - loss: 3.3116e-04 - val_loss: 0.0019\n",
      "Epoch 66/100\n",
      "16/16 [==============================] - 3s 211ms/step - loss: 3.7718e-04 - val_loss: 0.0035\n",
      "Epoch 67/100\n",
      "16/16 [==============================] - 5s 341ms/step - loss: 2.9740e-04 - val_loss: 0.0040\n",
      "Epoch 68/100\n",
      "16/16 [==============================] - 3s 214ms/step - loss: 3.1385e-04 - val_loss: 0.0050\n",
      "Epoch 69/100\n",
      "16/16 [==============================] - 3s 216ms/step - loss: 2.9417e-04 - val_loss: 0.0026\n",
      "Epoch 70/100\n",
      "16/16 [==============================] - 4s 240ms/step - loss: 2.9050e-04 - val_loss: 0.0018\n",
      "Epoch 71/100\n",
      "16/16 [==============================] - 5s 310ms/step - loss: 3.0080e-04 - val_loss: 0.0021\n",
      "Epoch 72/100\n",
      "16/16 [==============================] - 3s 214ms/step - loss: 3.1073e-04 - val_loss: 0.0013\n",
      "Epoch 73/100\n",
      "16/16 [==============================] - 3s 212ms/step - loss: 3.3678e-04 - val_loss: 0.0011\n",
      "Epoch 74/100\n",
      "16/16 [==============================] - 4s 283ms/step - loss: 3.6023e-04 - val_loss: 0.0038\n",
      "Epoch 75/100\n",
      "16/16 [==============================] - 4s 266ms/step - loss: 2.8828e-04 - val_loss: 0.0033\n",
      "Epoch 76/100\n",
      "16/16 [==============================] - 3s 210ms/step - loss: 2.6906e-04 - val_loss: 0.0036\n",
      "Epoch 77/100\n",
      "16/16 [==============================] - 3s 212ms/step - loss: 2.8922e-04 - val_loss: 0.0032\n",
      "Epoch 78/100\n",
      "16/16 [==============================] - 5s 325ms/step - loss: 2.7188e-04 - val_loss: 0.0021\n",
      "Epoch 79/100\n",
      "16/16 [==============================] - 4s 224ms/step - loss: 2.6426e-04 - val_loss: 0.0011\n",
      "Epoch 80/100\n",
      "16/16 [==============================] - 3s 208ms/step - loss: 3.8041e-04 - val_loss: 0.0030\n",
      "Epoch 81/100\n",
      "16/16 [==============================] - 3s 217ms/step - loss: 3.4098e-04 - val_loss: 0.0027\n",
      "Epoch 82/100\n",
      "16/16 [==============================] - 5s 340ms/step - loss: 2.7773e-04 - val_loss: 0.0038\n",
      "Epoch 83/100\n",
      "16/16 [==============================] - 3s 216ms/step - loss: 2.6318e-04 - val_loss: 0.0016\n",
      "Epoch 84/100\n",
      "16/16 [==============================] - 3s 209ms/step - loss: 2.5087e-04 - val_loss: 0.0024\n",
      "Epoch 85/100\n",
      "16/16 [==============================] - 4s 228ms/step - loss: 2.5972e-04 - val_loss: 0.0018\n",
      "Epoch 86/100\n",
      "16/16 [==============================] - 5s 317ms/step - loss: 2.6938e-04 - val_loss: 0.0025\n",
      "Epoch 87/100\n",
      "16/16 [==============================] - 3s 210ms/step - loss: 2.5496e-04 - val_loss: 0.0030\n",
      "Epoch 88/100\n",
      "16/16 [==============================] - 3s 214ms/step - loss: 2.4490e-04 - val_loss: 0.0028\n",
      "Epoch 89/100\n",
      "16/16 [==============================] - 4s 260ms/step - loss: 2.3752e-04 - val_loss: 0.0012\n",
      "Epoch 90/100\n",
      "16/16 [==============================] - 5s 284ms/step - loss: 2.9545e-04 - val_loss: 0.0022\n",
      "Epoch 91/100\n",
      "16/16 [==============================] - 3s 220ms/step - loss: 2.4652e-04 - val_loss: 0.0023\n",
      "Epoch 92/100\n",
      "16/16 [==============================] - 3s 211ms/step - loss: 2.3755e-04 - val_loss: 0.0014\n",
      "Epoch 93/100\n",
      "16/16 [==============================] - 5s 292ms/step - loss: 2.6898e-04 - val_loss: 0.0024\n",
      "Epoch 94/100\n",
      "16/16 [==============================] - 4s 249ms/step - loss: 2.3502e-04 - val_loss: 0.0033\n",
      "Epoch 95/100\n",
      "16/16 [==============================] - 3s 213ms/step - loss: 2.7382e-04 - val_loss: 0.0011\n",
      "Epoch 96/100\n",
      "16/16 [==============================] - 3s 216ms/step - loss: 2.3341e-04 - val_loss: 0.0017\n",
      "Epoch 97/100\n",
      "16/16 [==============================] - 5s 349ms/step - loss: 2.3023e-04 - val_loss: 0.0029\n",
      "Epoch 98/100\n",
      "16/16 [==============================] - 3s 214ms/step - loss: 2.2213e-04 - val_loss: 0.0023\n",
      "Epoch 99/100\n",
      "16/16 [==============================] - 3s 210ms/step - loss: 2.2016e-04 - val_loss: 0.0029\n",
      "Epoch 100/100\n",
      "16/16 [==============================] - 3s 216ms/step - loss: 2.4061e-04 - val_loss: 0.0017\n"
     ]
    },
    {
     "data": {
      "text/plain": [
       "<keras.callbacks.History at 0x7fce677575b0>"
      ]
     },
     "execution_count": 97,
     "metadata": {},
     "output_type": "execute_result"
    }
   ],
   "source": [
    "# 9. Fit mô hình với dữ liệu train\n",
    "model.fit(X_train,y_train,validation_data=(X_test,ytest),epochs=100,batch_size=64,verbose=1)"
   ]
  },
  {
   "cell_type": "code",
   "execution_count": 98,
   "metadata": {
    "colab": {
     "base_uri": "https://localhost:8080/"
    },
    "id": "Rxx_KQSkQpBG",
    "outputId": "838b0243-c20c-4627-f6a3-a1d23b99fffc"
   },
   "outputs": [
    {
     "name": "stdout",
     "output_type": "stream",
     "text": [
      "32/32 [==============================] - 3s 48ms/step\n",
      "7/7 [==============================] - 0s 64ms/step\n",
      "2/2 [==============================] - 0s 43ms/step\n"
     ]
    }
   ],
   "source": [
    "# 10. Dự báo dữ liệu test, val\n",
    "train_predict=model.predict(X_train)\n",
    "y_pred=model.predict(X_test)\n",
    "y_pred_val=model.predict(X_val)"
   ]
  },
  {
   "cell_type": "code",
   "execution_count": 99,
   "metadata": {
    "id": "5rwTN10LQ7rj"
   },
   "outputs": [],
   "source": [
    "# 11. Chuẩn hóa dữ liệu y_pred, y_pred_val\n",
    "train_predict=scaler.inverse_transform(train_predict)\n",
    "y_pred=scaler.inverse_transform(y_pred)\n",
    "y_pred_val=scaler.inverse_transform(y_pred_val)"
   ]
  },
  {
   "cell_type": "code",
   "execution_count": 100,
   "metadata": {
    "colab": {
     "base_uri": "https://localhost:8080/"
    },
    "id": "wu_9j94kRonD",
    "outputId": "5eaf0ce1-4445-4f88-f264-ad1df25df699"
   },
   "outputs": [
    {
     "name": "stdout",
     "output_type": "stream",
     "text": [
      "Validation RMSE: 152.99334542109813\n",
      "Testing RMSE: 155.30697156599558\n"
     ]
    }
   ],
   "source": [
    "# 12. Đánh giá độ chính xác thuật toán bằng RMSE\n",
    "valid_rmse = np.sqrt(np.mean((y_pred_val - yval)**2))\n",
    "test_rmse = np.sqrt(np.mean((y_pred - ytest)**2))\n",
    "print('Validation RMSE:', valid_rmse)\n",
    "print('Testing RMSE:', test_rmse)"
   ]
  },
  {
   "cell_type": "code",
   "execution_count": 74,
   "metadata": {
    "colab": {
     "base_uri": "https://localhost:8080/"
    },
    "id": "izQZ1iQyYl6N",
    "outputId": "0873396e-ffed-4413-e6e9-84e9cb303174"
   },
   "outputs": [
    {
     "data": {
      "text/plain": [
       "(1, 100)"
      ]
     },
     "execution_count": 74,
     "metadata": {},
     "output_type": "execute_result"
    }
   ],
   "source": [
    "# 13. Dự báo 30 ngày tiếp theo\n",
    "x_input=val_data[60:].reshape(1,-1)\n",
    "x_input.shape\n",
    "\n",
    "temp_input=list(x_input)\n",
    "temp_input=temp_input[0].tolist()\n",
    "\n",
    "from numpy import array\n",
    "\n",
    "lst_output=[]\n",
    "n_steps=100\n",
    "i=0\n",
    "while(i<30):\n",
    "    \n",
    "    if(len(temp_input)>100):\n",
    "        #print(temp_input)\n",
    "        x_input=np.array(temp_input[1:])\n",
    "        print(\"{} day input {}\".format(i,x_input))\n",
    "        x_input=x_input.reshape(1,-1)\n",
    "        x_input = x_input.reshape((1, n_steps, 1))\n",
    "        #print(x_input)\n",
    "        yhat = model.predict(x_input, verbose=0)\n",
    "        print(\"{} day output {}\".format(i,yhat))\n",
    "        temp_input.extend(yhat[0].tolist())\n",
    "        temp_input=temp_input[1:]\n",
    "        #print(temp_input)\n",
    "        lst_output.extend(yhat.tolist())\n",
    "        i=i+1\n",
    "    else:\n",
    "        x_input = x_input.reshape((1, n_steps,1))\n",
    "        yhat = model.predict(x_input, verbose=0)\n",
    "        print(yhat[0])\n",
    "        temp_input.extend(yhat[0].tolist())\n",
    "        print(len(temp_input))\n",
    "        lst_output.extend(yhat.tolist())\n",
    "        i=i+1\n"
   ]
  },
  {
   "cell_type": "code",
   "execution_count": 104,
   "metadata": {
    "colab": {
     "base_uri": "https://localhost:8080/",
     "height": 430
    },
    "id": "KSa_mX51a654",
    "outputId": "a46b0393-ed53-41d8-b391-c22820d72e83"
   },
   "outputs": [
    {
     "data": {
      "image/png": "[encoded data removed]",
      "text/plain": [
       "<Figure size 640x480 with 1 Axes>"
      ]
     },
     "metadata": {},
     "output_type": "display_data"
    }
   ],
   "source": [
    "# 14.Vẽ hình\n",
    "\n",
    "train_data_index = pd.RangeIndex(start=0, stop=train_size, step=1)\n",
    "plt.plot(scaler.inverse_transform(train_data))\n",
    "test_data_index = pd.RangeIndex(start=train_size, stop=train_size+test_size, step=1)\n",
    "plt.plot(test_data_index,scaler.inverse_transform(test_data))\n",
    "test_data_index = pd.RangeIndex(start=train_size+101, stop=train_size+test_size, step=1)\n",
    "plt.plot(test_data_index,(y_pred))\n",
    "val_data_index = pd.RangeIndex(start=train_size+test_size, stop=train_size+test_size+val_size, step=1)\n",
    "plt.plot(val_data_index,scaler.inverse_transform(val_data))\n",
    "val_data_index = pd.RangeIndex(start=train_size+test_size+101, stop=train_size+test_size+val_size, step=1)\n",
    "plt.plot(val_data_index,y_pred_val)\n",
    "prediect_data_index = pd.RangeIndex(start=len(df1)-1, stop=len(df1)+29, step=1)\n",
    "plt.plot(prediect_data_index,scaler.inverse_transform(lst_output))\n",
    "plt.legend(['Train','Test','Predict','Validate','ValidatePred','Predict30days'])\n",
    "plt.show()"
   ]
  }
 ],
 "metadata": {
  "colab": {
   "provenance": []
  },
  "kernelspec": {
   "display_name": "Python 3 (ipykernel)",
   "language": "python",
   "name": "python3"
  },
  "language_info": {
   "codemirror_mode": {
    "name": "ipython",
    "version": 3
   },
   "file_extension": ".py",
   "mimetype": "text/x-python",
   "name": "python",
   "nbconvert_exporter": "python",
   "pygments_lexer": "ipython3",
   "version": "3.11.2"
  }
 },
 "nbformat": 4,
 "nbformat_minor": 1
}
