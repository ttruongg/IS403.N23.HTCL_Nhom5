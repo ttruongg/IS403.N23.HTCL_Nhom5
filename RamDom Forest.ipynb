{
 "cells": [
  {
   "cell_type": "code",
   "execution_count": 169,
   "id": "54f02191",
   "metadata": {},
   "outputs": [
    {
     "name": "stdout",
     "output_type": "stream",
     "text": [
      "[*********************100%***********************]  1 of 1 completed\n"
     ]
    }
   ],
   "source": [
    "import yfinance as yf\n",
    "\n",
    "data = yf.download(tickers = \"GC=F\", start=\"2017-12-01\", end=\"2023-06-11\", interval='1d')"
   ]
  },
  {
   "cell_type": "code",
   "execution_count": 170,
   "id": "5a4e3f8b",
   "metadata": {},
   "outputs": [],
   "source": [
    "data = data.reset_index('Date', inplace=False)"
   ]
  },
  {
   "cell_type": "code",
   "execution_count": 171,
   "id": "8a17a99a",
   "metadata": {},
   "outputs": [
    {
     "data": {
      "text/html": [
       "<div>\n",
       "<style scoped>\n",
       "    .dataframe tbody tr th:only-of-type {\n",
       "        vertical-align: middle;\n",
       "    }\n",
       "\n",
       "    .dataframe tbody tr th {\n",
       "        vertical-align: top;\n",
       "    }\n",
       "\n",
       "    .dataframe thead th {\n",
       "        text-align: right;\n",
       "    }\n",
       "</style>\n",
       "<table border=\"1\" class=\"dataframe\">\n",
       "  <thead>\n",
       "    <tr style=\"text-align: right;\">\n",
       "      <th></th>\n",
       "      <th>Date</th>\n",
       "      <th>Open</th>\n",
       "      <th>High</th>\n",
       "      <th>Low</th>\n",
       "      <th>Close</th>\n",
       "      <th>Adj Close</th>\n",
       "      <th>Volume</th>\n",
       "    </tr>\n",
       "  </thead>\n",
       "  <tbody>\n",
       "    <tr>\n",
       "      <th>0</th>\n",
       "      <td>2017-12-01</td>\n",
       "      <td>1274.099976</td>\n",
       "      <td>1288.599976</td>\n",
       "      <td>1271.000000</td>\n",
       "      <td>1278.800049</td>\n",
       "      <td>1278.800049</td>\n",
       "      <td>823</td>\n",
       "    </tr>\n",
       "    <tr>\n",
       "      <th>1</th>\n",
       "      <td>2017-12-04</td>\n",
       "      <td>1272.500000</td>\n",
       "      <td>1276.099976</td>\n",
       "      <td>1270.300049</td>\n",
       "      <td>1274.300049</td>\n",
       "      <td>1274.300049</td>\n",
       "      <td>850</td>\n",
       "    </tr>\n",
       "    <tr>\n",
       "      <th>2</th>\n",
       "      <td>2017-12-05</td>\n",
       "      <td>1275.400024</td>\n",
       "      <td>1275.800049</td>\n",
       "      <td>1260.000000</td>\n",
       "      <td>1261.599976</td>\n",
       "      <td>1261.599976</td>\n",
       "      <td>1499</td>\n",
       "    </tr>\n",
       "    <tr>\n",
       "      <th>3</th>\n",
       "      <td>2017-12-06</td>\n",
       "      <td>1264.900024</td>\n",
       "      <td>1267.800049</td>\n",
       "      <td>1261.599976</td>\n",
       "      <td>1262.800049</td>\n",
       "      <td>1262.800049</td>\n",
       "      <td>373</td>\n",
       "    </tr>\n",
       "    <tr>\n",
       "      <th>4</th>\n",
       "      <td>2017-12-07</td>\n",
       "      <td>1262.300049</td>\n",
       "      <td>1262.400024</td>\n",
       "      <td>1243.900024</td>\n",
       "      <td>1249.800049</td>\n",
       "      <td>1249.800049</td>\n",
       "      <td>358</td>\n",
       "    </tr>\n",
       "    <tr>\n",
       "      <th>...</th>\n",
       "      <td>...</td>\n",
       "      <td>...</td>\n",
       "      <td>...</td>\n",
       "      <td>...</td>\n",
       "      <td>...</td>\n",
       "      <td>...</td>\n",
       "      <td>...</td>\n",
       "    </tr>\n",
       "    <tr>\n",
       "      <th>1385</th>\n",
       "      <td>2023-06-05</td>\n",
       "      <td>1947.500000</td>\n",
       "      <td>1961.900024</td>\n",
       "      <td>1937.800049</td>\n",
       "      <td>1958.000000</td>\n",
       "      <td>1958.000000</td>\n",
       "      <td>713</td>\n",
       "    </tr>\n",
       "    <tr>\n",
       "      <th>1386</th>\n",
       "      <td>2023-06-06</td>\n",
       "      <td>1960.800049</td>\n",
       "      <td>1965.500000</td>\n",
       "      <td>1958.800049</td>\n",
       "      <td>1965.500000</td>\n",
       "      <td>1965.500000</td>\n",
       "      <td>164</td>\n",
       "    </tr>\n",
       "    <tr>\n",
       "      <th>1387</th>\n",
       "      <td>2023-06-07</td>\n",
       "      <td>1959.000000</td>\n",
       "      <td>1968.400024</td>\n",
       "      <td>1940.699951</td>\n",
       "      <td>1942.699951</td>\n",
       "      <td>1942.699951</td>\n",
       "      <td>139</td>\n",
       "    </tr>\n",
       "    <tr>\n",
       "      <th>1388</th>\n",
       "      <td>2023-06-08</td>\n",
       "      <td>1943.199951</td>\n",
       "      <td>1969.000000</td>\n",
       "      <td>1943.099976</td>\n",
       "      <td>1963.599976</td>\n",
       "      <td>1963.599976</td>\n",
       "      <td>433</td>\n",
       "    </tr>\n",
       "    <tr>\n",
       "      <th>1389</th>\n",
       "      <td>2023-06-09</td>\n",
       "      <td>1965.099976</td>\n",
       "      <td>1969.800049</td>\n",
       "      <td>1960.300049</td>\n",
       "      <td>1962.199951</td>\n",
       "      <td>1962.199951</td>\n",
       "      <td>49</td>\n",
       "    </tr>\n",
       "  </tbody>\n",
       "</table>\n",
       "<p>1390 rows × 7 columns</p>\n",
       "</div>"
      ],
      "text/plain": [
       "           Date         Open         High          Low        Close  \\\n",
       "0    2017-12-01  1274.099976  1288.599976  1271.000000  1278.800049   \n",
       "1    2017-12-04  1272.500000  1276.099976  1270.300049  1274.300049   \n",
       "2    2017-12-05  1275.400024  1275.800049  1260.000000  1261.599976   \n",
       "3    2017-12-06  1264.900024  1267.800049  1261.599976  1262.800049   \n",
       "4    2017-12-07  1262.300049  1262.400024  1243.900024  1249.800049   \n",
       "...         ...          ...          ...          ...          ...   \n",
       "1385 2023-06-05  1947.500000  1961.900024  1937.800049  1958.000000   \n",
       "1386 2023-06-06  1960.800049  1965.500000  1958.800049  1965.500000   \n",
       "1387 2023-06-07  1959.000000  1968.400024  1940.699951  1942.699951   \n",
       "1388 2023-06-08  1943.199951  1969.000000  1943.099976  1963.599976   \n",
       "1389 2023-06-09  1965.099976  1969.800049  1960.300049  1962.199951   \n",
       "\n",
       "        Adj Close  Volume  \n",
       "0     1278.800049     823  \n",
       "1     1274.300049     850  \n",
       "2     1261.599976    1499  \n",
       "3     1262.800049     373  \n",
       "4     1249.800049     358  \n",
       "...           ...     ...  \n",
       "1385  1958.000000     713  \n",
       "1386  1965.500000     164  \n",
       "1387  1942.699951     139  \n",
       "1388  1963.599976     433  \n",
       "1389  1962.199951      49  \n",
       "\n",
       "[1390 rows x 7 columns]"
      ]
     },
     "execution_count": 171,
     "metadata": {},
     "output_type": "execute_result"
    }
   ],
   "source": [
    "data"
   ]
  },
  {
   "cell_type": "code",
   "execution_count": 172,
   "id": "1c9536be",
   "metadata": {},
   "outputs": [],
   "source": [
    "import numpy as np\n",
    "import pandas as pd\n",
    "import matplotlib.pyplot as plt\n",
    "from sklearn.preprocessing import MinMaxScaler\n",
    "from keras.models import Sequential\n",
    "from keras.layers import Dense, Dropout, Conv1D, MaxPooling1D, Bidirectional\n",
    "from sklearn.ensemble import RandomForestRegressor"
   ]
  },
  {
   "cell_type": "code",
   "execution_count": 173,
   "id": "44500798",
   "metadata": {},
   "outputs": [],
   "source": [
    "data['Date'] = pd.to_datetime(data['Date'])"
   ]
  },
  {
   "cell_type": "code",
   "execution_count": 174,
   "id": "55934df7",
   "metadata": {},
   "outputs": [],
   "source": [
    "features = data[['Date']]\n",
    "labels = data['Close']"
   ]
  },
  {
   "cell_type": "code",
   "execution_count": 175,
   "id": "d20f18fb",
   "metadata": {},
   "outputs": [],
   "source": [
    "from sklearn.model_selection import train_test_split\n",
    "train_features, test_valid_features, train_labels, test_valid_labels = train_test_split(features, labels, test_size=0.3, random_state=42)\n",
    "\n",
    "# Chia tập kiểm tra + xác thực thành tập kiểm tra và tập xác thực\n",
    "test_features, valid_features, test_labels, valid_labels = train_test_split(test_valid_features, test_valid_labels, test_size=0.67, random_state=42)\n"
   ]
  },
  {
   "cell_type": "markdown",
   "id": "efa38b9c",
   "metadata": {},
   "source": [
    "train_size = int(0.7 * len(data))\n",
    "test_size = int(0.2 * len(data))\n",
    "val_size = len(data) - train_size - test_size\n",
    "\n",
    "train_data = data[:train_size]\n",
    "test_data = data[train_size:train_size+test_size]\n",
    "val_data = data[train_size+test_size:]"
   ]
  },
  {
   "cell_type": "markdown",
   "id": "1a66c543",
   "metadata": {},
   "source": [
    "x_train = train_data[['Date']]\n",
    "y_train = train_data['Close']"
   ]
  },
  {
   "cell_type": "markdown",
   "id": "63dd058a",
   "metadata": {},
   "source": [
    "x_test = test_data[['Date']]\n",
    "y_test = test_data['Close']"
   ]
  },
  {
   "cell_type": "markdown",
   "id": "ae7a88f9",
   "metadata": {},
   "source": [
    "x_val = val_data[['Date']]\n",
    "y_val = val_data['Close']"
   ]
  },
  {
   "cell_type": "code",
   "execution_count": 176,
   "id": "6b44fec5",
   "metadata": {},
   "outputs": [
    {
     "name": "stdout",
     "output_type": "stream",
     "text": [
      "Best parameters: {'n_estimators': 100, 'max_depth': 5, 'random_state': 42}\n"
     ]
    }
   ],
   "source": [
    "from sklearn.ensemble import RandomForestRegressor\n",
    "from sklearn.metrics import mean_squared_error\n",
    "\n",
    "best_score = float('-inf')\n",
    "best_params = {}\n",
    "\n",
    "for n_estimators in [100, 200, 500, 1000]:\n",
    "    for max_depth in [5, 10, 15, 20]:\n",
    "        for random_state in [1, 42, 77, 123]:\n",
    "            model = RandomForestRegressor(n_estimators=n_estimators, random_state=random_state, max_depth=max_depth)\n",
    "            model.fit(x_train, y_train)\n",
    "            y_pred = model.predict(x_test)\n",
    "            score = model.score(x_test, y_test)  # R-squared score\n",
    "            \n",
    "            if score > best_score:\n",
    "                best_score = score\n",
    "                best_params = {\n",
    "                    'n_estimators': n_estimators,\n",
    "                    'max_depth': max_depth,\n",
    "                    'random_state': random_state\n",
    "                }\n",
    "\n",
    "print(\"Best parameters:\", best_params)"
   ]
  },
  {
   "cell_type": "code",
   "execution_count": 178,
   "id": "d9a73207",
   "metadata": {},
   "outputs": [
    {
     "data": {
      "text/html": [
       "<style>#sk-container-id-17 {color: black;background-color: white;}#sk-container-id-17 pre{padding: 0;}#sk-container-id-17 div.sk-toggleable {background-color: white;}#sk-container-id-17 label.sk-toggleable__label {cursor: pointer;display: block;width: 100%;margin-bottom: 0;padding: 0.3em;box-sizing: border-box;text-align: center;}#sk-container-id-17 label.sk-toggleable__label-arrow:before {content: \"▸\";float: left;margin-right: 0.25em;color: #696969;}#sk-container-id-17 label.sk-toggleable__label-arrow:hover:before {color: black;}#sk-container-id-17 div.sk-estimator:hover label.sk-toggleable__label-arrow:before {color: black;}#sk-container-id-17 div.sk-toggleable__content {max-height: 0;max-width: 0;overflow: hidden;text-align: left;background-color: #f0f8ff;}#sk-container-id-17 div.sk-toggleable__content pre {margin: 0.2em;color: black;border-radius: 0.25em;background-color: #f0f8ff;}#sk-container-id-17 input.sk-toggleable__control:checked~div.sk-toggleable__content {max-height: 200px;max-width: 100%;overflow: auto;}#sk-container-id-17 input.sk-toggleable__control:checked~label.sk-toggleable__label-arrow:before {content: \"▾\";}#sk-container-id-17 div.sk-estimator input.sk-toggleable__control:checked~label.sk-toggleable__label {background-color: #d4ebff;}#sk-container-id-17 div.sk-label input.sk-toggleable__control:checked~label.sk-toggleable__label {background-color: #d4ebff;}#sk-container-id-17 input.sk-hidden--visually {border: 0;clip: rect(1px 1px 1px 1px);clip: rect(1px, 1px, 1px, 1px);height: 1px;margin: -1px;overflow: hidden;padding: 0;position: absolute;width: 1px;}#sk-container-id-17 div.sk-estimator {font-family: monospace;background-color: #f0f8ff;border: 1px dotted black;border-radius: 0.25em;box-sizing: border-box;margin-bottom: 0.5em;}#sk-container-id-17 div.sk-estimator:hover {background-color: #d4ebff;}#sk-container-id-17 div.sk-parallel-item::after {content: \"\";width: 100%;border-bottom: 1px solid gray;flex-grow: 1;}#sk-container-id-17 div.sk-label:hover label.sk-toggleable__label {background-color: #d4ebff;}#sk-container-id-17 div.sk-serial::before {content: \"\";position: absolute;border-left: 1px solid gray;box-sizing: border-box;top: 0;bottom: 0;left: 50%;z-index: 0;}#sk-container-id-17 div.sk-serial {display: flex;flex-direction: column;align-items: center;background-color: white;padding-right: 0.2em;padding-left: 0.2em;position: relative;}#sk-container-id-17 div.sk-item {position: relative;z-index: 1;}#sk-container-id-17 div.sk-parallel {display: flex;align-items: stretch;justify-content: center;background-color: white;position: relative;}#sk-container-id-17 div.sk-item::before, #sk-container-id-17 div.sk-parallel-item::before {content: \"\";position: absolute;border-left: 1px solid gray;box-sizing: border-box;top: 0;bottom: 0;left: 50%;z-index: -1;}#sk-container-id-17 div.sk-parallel-item {display: flex;flex-direction: column;z-index: 1;position: relative;background-color: white;}#sk-container-id-17 div.sk-parallel-item:first-child::after {align-self: flex-end;width: 50%;}#sk-container-id-17 div.sk-parallel-item:last-child::after {align-self: flex-start;width: 50%;}#sk-container-id-17 div.sk-parallel-item:only-child::after {width: 0;}#sk-container-id-17 div.sk-dashed-wrapped {border: 1px dashed gray;margin: 0 0.4em 0.5em 0.4em;box-sizing: border-box;padding-bottom: 0.4em;background-color: white;}#sk-container-id-17 div.sk-label label {font-family: monospace;font-weight: bold;display: inline-block;line-height: 1.2em;}#sk-container-id-17 div.sk-label-container {text-align: center;}#sk-container-id-17 div.sk-container {/* jupyter's `normalize.less` sets `[hidden] { display: none; }` but bootstrap.min.css set `[hidden] { display: none !important; }` so we also need the `!important` here to be able to override the default hidden behavior on the sphinx rendered scikit-learn.org. See: https://github.com/scikit-learn/scikit-learn/issues/21755 */display: inline-block !important;position: relative;}#sk-container-id-17 div.sk-text-repr-fallback {display: none;}</style><div id=\"sk-container-id-17\" class=\"sk-top-container\"><div class=\"sk-text-repr-fallback\"><pre>RandomForestRegressor(max_depth=5, random_state=42)</pre><b>In a Jupyter environment, please rerun this cell to show the HTML representation or trust the notebook. <br />On GitHub, the HTML representation is unable to render, please try loading this page with nbviewer.org.</b></div><div class=\"sk-container\" hidden><div class=\"sk-item\"><div class=\"sk-estimator sk-toggleable\"><input class=\"sk-toggleable__control sk-hidden--visually\" id=\"sk-estimator-id-17\" type=\"checkbox\" checked><label for=\"sk-estimator-id-17\" class=\"sk-toggleable__label sk-toggleable__label-arrow\">RandomForestRegressor</label><div class=\"sk-toggleable__content\"><pre>RandomForestRegressor(max_depth=5, random_state=42)</pre></div></div></div></div></div>"
      ],
      "text/plain": [
       "RandomForestRegressor(max_depth=5, random_state=42)"
      ]
     },
     "execution_count": 178,
     "metadata": {},
     "output_type": "execute_result"
    }
   ],
   "source": [
    "model = RandomForestRegressor(n_estimators=100, random_state=42, max_depth=5)\n",
    "model.fit(train_features, train_labels)"
   ]
  },
  {
   "cell_type": "code",
   "execution_count": 179,
   "id": "53c8f6fc",
   "metadata": {},
   "outputs": [],
   "source": [
    "y_pred = model.predict(test_features)"
   ]
  },
  {
   "cell_type": "code",
   "execution_count": 181,
   "id": "c5c48f48",
   "metadata": {},
   "outputs": [],
   "source": [
    "y_val = model.predict(valid_features)"
   ]
  },
  {
   "cell_type": "code",
   "execution_count": 185,
   "id": "bb1e1550",
   "metadata": {},
   "outputs": [
    {
     "name": "stdout",
     "output_type": "stream",
     "text": [
      "                x            y\n",
      "712   1875.525581  1900.199951\n",
      "513   1475.113386  1472.599976\n",
      "591   1718.371389  1744.800049\n",
      "560   1637.174545  1640.000000\n",
      "411   1424.553905  1413.900024\n",
      "...           ...          ...\n",
      "894   1822.108800  1775.599976\n",
      "63    1328.416144  1326.000000\n",
      "277   1293.565092  1287.099976\n",
      "1185  1752.318853  1755.300049\n",
      "371   1295.699267  1280.599976\n",
      "\n",
      "[137 rows x 2 columns]\n"
     ]
    }
   ],
   "source": [
    "df = pd.DataFrame({'x': y_pred, 'y': test_labels})\n",
    "\n",
    "# In bảng\n",
    "print(df)"
   ]
  },
  {
   "cell_type": "code",
   "execution_count": null,
   "id": "78da0f88",
   "metadata": {},
   "outputs": [],
   "source": []
  }
 ],
 "metadata": {
  "kernelspec": {
   "display_name": "Python 3 (ipykernel)",
   "language": "python",
   "name": "python3"
  },
  "language_info": {
   "codemirror_mode": {
    "name": "ipython",
    "version": 3
   },
   "file_extension": ".py",
   "mimetype": "text/x-python",
   "name": "python",
   "nbconvert_exporter": "python",
   "pygments_lexer": "ipython3",
   "version": "3.11.2"
  }
 },
 "nbformat": 4,
 "nbformat_minor": 5
}
