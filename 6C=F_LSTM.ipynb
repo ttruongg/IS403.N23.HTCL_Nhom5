{
  "cells": [
    {
      "cell_type": "code",
      "execution_count": 65,
      "id": "c6ab17a8",
      "metadata": {
        "colab": {
          "base_uri": "https://localhost:8080/"
        },
        "id": "c6ab17a8",
        "outputId": "9937eb7c-b655-4e9b-cc8b-37e0f86fa8b4"
      },
      "outputs": [
        {
          "output_type": "stream",
          "name": "stdout",
          "text": [
            "\r[*********************100%***********************]  1 of 1 completed\n"
          ]
        }
      ],
      "source": [
        "import yfinance as yf\n",
        "\n",
        "data = yf.download(tickers = \"6C=F\", start=\"2017-12-01\", end=\"2023-06-16\", interval='1d')"
      ]
    },
    {
      "cell_type": "code",
      "execution_count": 66,
      "id": "02ed8782",
      "metadata": {
        "id": "02ed8782"
      },
      "outputs": [],
      "source": [
        "data = data.reset_index('Date', inplace=False)"
      ]
    },
    {
      "cell_type": "code",
      "execution_count": 67,
      "id": "81bd6bd7",
      "metadata": {
        "id": "81bd6bd7"
      },
      "outputs": [],
      "source": [
        "df = data"
      ]
    },
    {
      "cell_type": "code",
      "execution_count": 68,
      "id": "dce9a4d2",
      "metadata": {
        "id": "dce9a4d2"
      },
      "outputs": [],
      "source": [
        "import numpy as np\n",
        "import pandas as pd\n",
        "import matplotlib.pyplot as plt\n",
        "from sklearn.preprocessing import MinMaxScaler\n",
        "from keras.models import Sequential\n",
        "from keras.layers import Dense, Dropout, LSTM, Conv1D, MaxPooling1D, Bidirectional"
      ]
    },
    {
      "cell_type": "code",
      "execution_count": 69,
      "id": "8ff90c8b",
      "metadata": {
        "id": "8ff90c8b"
      },
      "outputs": [],
      "source": [
        "df1=df.reset_index()['Close']"
      ]
    },
    {
      "cell_type": "code",
      "execution_count": 70,
      "id": "d1bd3205",
      "metadata": {
        "id": "d1bd3205"
      },
      "outputs": [],
      "source": [
        "# 3. Scaler data\n",
        "scaler=MinMaxScaler(feature_range=(0,1))\n",
        "df1=scaler.fit_transform(np.array(df1).reshape(-1,1))"
      ]
    },
    {
      "cell_type": "code",
      "execution_count": 71,
      "id": "8b851ae5",
      "metadata": {
        "id": "8b851ae5"
      },
      "outputs": [],
      "source": [
        "# 4. Chia train test\n",
        "train_size = int(0.7 * len(df1))\n",
        "test_size = int(0.2 * len(df1))\n",
        "val_size = len(df1) - train_size - test_size\n",
        "\n",
        "train_data = df1[:train_size]\n",
        "test_data = df1[train_size:train_size+test_size]\n",
        "val_data = df1[train_size+test_size:]"
      ]
    },
    {
      "cell_type": "code",
      "execution_count": 72,
      "id": "49d5dc42",
      "metadata": {
        "id": "49d5dc42"
      },
      "outputs": [],
      "source": [
        "# 5. Hàm Create Dataset\n",
        "import numpy\n",
        "# convert an array of values into a dataset matrix\n",
        "def create_dataset(dataset, time_step=1):\n",
        "\tdataX, dataY = [], []\n",
        "\tfor i in range(len(dataset)-time_step-1):\n",
        "\t\ta = dataset[i:(i+time_step), 0]   ###i=0, X=0,1,2,3-----99   Y=100\n",
        "\t\tdataX.append(a)\n",
        "\t\tdataY.append(dataset[i + time_step, 0])\n",
        "\treturn numpy.array(dataX), numpy.array(dataY)"
      ]
    },
    {
      "cell_type": "code",
      "execution_count": 73,
      "id": "090f1902",
      "metadata": {
        "id": "090f1902"
      },
      "outputs": [],
      "source": [
        "#6. Reshape into X=t,t+1,t+2..t+99 and Y=t+100\n",
        "\n",
        "time_step = 100\n",
        "X_train, y_train = create_dataset(train_data, time_step)\n",
        "X_val, yval = create_dataset(val_data, time_step)\n",
        "X_test, ytest = create_dataset(test_data, time_step)"
      ]
    },
    {
      "cell_type": "code",
      "execution_count": 74,
      "id": "6b7c2a27",
      "metadata": {
        "id": "6b7c2a27"
      },
      "outputs": [],
      "source": [
        "# 7. Reshape input to be [samples, time steps, features] which is required for LSTM\n",
        "X_train =X_train.reshape(X_train.shape[0],X_train.shape[1] , 1)\n",
        "X_test = X_test.reshape(X_test.shape[0],X_test.shape[1] , 1)\n",
        "X_val = X_val.reshape(X_val.shape[0],X_val.shape[1] , 1)"
      ]
    },
    {
      "cell_type": "code",
      "execution_count": 75,
      "id": "4b9f20f4",
      "metadata": {
        "id": "4b9f20f4"
      },
      "outputs": [],
      "source": [
        "# 8. Define LSTM Model\n",
        "# Define the model\n",
        "model = Sequential()\n",
        "\n",
        "# Add a 1D convolutional layer\n",
        "model.add(Conv1D(filters=64, kernel_size=3, activation='relu', input_shape=(100,1)))\n",
        "\n",
        "# Add a max pooling layer\n",
        "model.add(MaxPooling1D(pool_size=2))\n",
        "\n",
        "# Add another 1D convolutional layer\n",
        "model.add(Conv1D(filters=32, kernel_size=3, activation='relu'))\n",
        "\n",
        "# Add a bidirectional LSTM layer\n",
        "model.add(Bidirectional(LSTM(100, activation='relu')))\n",
        "\n",
        "# Add a dense output layer\n",
        "model.add(Dense(1))\n",
        "model.compile(loss='mean_squared_error',optimizer='adam')"
      ]
    },
    {
      "cell_type": "code",
      "execution_count": 76,
      "id": "65e0d325",
      "metadata": {
        "colab": {
          "base_uri": "https://localhost:8080/"
        },
        "id": "65e0d325",
        "outputId": "eb2cfdb5-4641-420e-bbd6-883c2db725bb"
      },
      "outputs": [
        {
          "output_type": "stream",
          "name": "stdout",
          "text": [
            "Epoch 1/100\n",
            "14/14 [==============================] - 6s 168ms/step - loss: 0.1122 - val_loss: 0.0170\n",
            "Epoch 2/100\n",
            "14/14 [==============================] - 3s 209ms/step - loss: 0.0176 - val_loss: 0.0139\n",
            "Epoch 3/100\n",
            "14/14 [==============================] - 3s 191ms/step - loss: 0.0107 - val_loss: 0.0094\n",
            "Epoch 4/100\n",
            "14/14 [==============================] - 2s 144ms/step - loss: 0.0073 - val_loss: 0.0080\n",
            "Epoch 5/100\n",
            "14/14 [==============================] - 2s 135ms/step - loss: 0.0058 - val_loss: 0.0077\n",
            "Epoch 6/100\n",
            "14/14 [==============================] - 2s 131ms/step - loss: 0.0042 - val_loss: 0.0050\n",
            "Epoch 7/100\n",
            "14/14 [==============================] - 2s 142ms/step - loss: 0.0034 - val_loss: 0.0056\n",
            "Epoch 8/100\n",
            "14/14 [==============================] - 3s 213ms/step - loss: 0.0031 - val_loss: 0.0047\n",
            "Epoch 9/100\n",
            "14/14 [==============================] - 3s 182ms/step - loss: 0.0028 - val_loss: 0.0045\n",
            "Epoch 10/100\n",
            "14/14 [==============================] - 2s 133ms/step - loss: 0.0025 - val_loss: 0.0043\n",
            "Epoch 11/100\n",
            "14/14 [==============================] - 2s 133ms/step - loss: 0.0024 - val_loss: 0.0041\n",
            "Epoch 12/100\n",
            "14/14 [==============================] - 2s 136ms/step - loss: 0.0022 - val_loss: 0.0041\n",
            "Epoch 13/100\n",
            "14/14 [==============================] - 2s 151ms/step - loss: 0.0021 - val_loss: 0.0031\n",
            "Epoch 14/100\n",
            "14/14 [==============================] - 3s 256ms/step - loss: 0.0018 - val_loss: 0.0030\n",
            "Epoch 15/100\n",
            "14/14 [==============================] - 2s 160ms/step - loss: 0.0017 - val_loss: 0.0027\n",
            "Epoch 16/100\n",
            "14/14 [==============================] - 2s 148ms/step - loss: 0.0017 - val_loss: 0.0027\n",
            "Epoch 17/100\n",
            "14/14 [==============================] - 2s 142ms/step - loss: 0.0019 - val_loss: 0.0025\n",
            "Epoch 18/100\n",
            "14/14 [==============================] - 2s 136ms/step - loss: 0.0015 - val_loss: 0.0023\n",
            "Epoch 19/100\n",
            "14/14 [==============================] - 2s 144ms/step - loss: 0.0014 - val_loss: 0.0021\n",
            "Epoch 20/100\n",
            "14/14 [==============================] - 4s 273ms/step - loss: 0.0014 - val_loss: 0.0020\n",
            "Epoch 21/100\n",
            "14/14 [==============================] - 2s 150ms/step - loss: 0.0013 - val_loss: 0.0020\n",
            "Epoch 22/100\n",
            "14/14 [==============================] - 2s 140ms/step - loss: 0.0012 - val_loss: 0.0021\n",
            "Epoch 23/100\n",
            "14/14 [==============================] - 2s 152ms/step - loss: 0.0012 - val_loss: 0.0018\n",
            "Epoch 24/100\n",
            "14/14 [==============================] - 2s 137ms/step - loss: 0.0011 - val_loss: 0.0016\n",
            "Epoch 25/100\n",
            "14/14 [==============================] - 2s 159ms/step - loss: 0.0011 - val_loss: 0.0029\n",
            "Epoch 26/100\n",
            "14/14 [==============================] - 3s 223ms/step - loss: 0.0013 - val_loss: 0.0018\n",
            "Epoch 27/100\n",
            "14/14 [==============================] - 2s 135ms/step - loss: 0.0011 - val_loss: 0.0017\n",
            "Epoch 28/100\n",
            "14/14 [==============================] - 2s 135ms/step - loss: 0.0010 - val_loss: 0.0017\n",
            "Epoch 29/100\n",
            "14/14 [==============================] - 2s 144ms/step - loss: 9.5832e-04 - val_loss: 0.0015\n",
            "Epoch 30/100\n",
            "14/14 [==============================] - 2s 132ms/step - loss: 9.2426e-04 - val_loss: 0.0014\n",
            "Epoch 31/100\n",
            "14/14 [==============================] - 2s 143ms/step - loss: 9.5114e-04 - val_loss: 0.0014\n",
            "Epoch 32/100\n",
            "14/14 [==============================] - 3s 236ms/step - loss: 0.0011 - val_loss: 0.0015\n",
            "Epoch 33/100\n",
            "14/14 [==============================] - 2s 131ms/step - loss: 9.0046e-04 - val_loss: 0.0014\n",
            "Epoch 34/100\n",
            "14/14 [==============================] - 2s 132ms/step - loss: 9.2170e-04 - val_loss: 0.0015\n",
            "Epoch 35/100\n",
            "14/14 [==============================] - 2s 142ms/step - loss: 9.0524e-04 - val_loss: 0.0013\n",
            "Epoch 36/100\n",
            "14/14 [==============================] - 2s 139ms/step - loss: 8.4602e-04 - val_loss: 0.0013\n",
            "Epoch 37/100\n",
            "14/14 [==============================] - 2s 133ms/step - loss: 9.7706e-04 - val_loss: 0.0014\n",
            "Epoch 38/100\n",
            "14/14 [==============================] - 3s 253ms/step - loss: 9.0576e-04 - val_loss: 0.0013\n",
            "Epoch 39/100\n",
            "14/14 [==============================] - 2s 135ms/step - loss: 8.0856e-04 - val_loss: 0.0015\n",
            "Epoch 40/100\n",
            "14/14 [==============================] - 2s 142ms/step - loss: 8.7741e-04 - val_loss: 0.0012\n",
            "Epoch 41/100\n",
            "14/14 [==============================] - 2s 140ms/step - loss: 9.0553e-04 - val_loss: 0.0011\n",
            "Epoch 42/100\n",
            "14/14 [==============================] - 2s 136ms/step - loss: 8.9239e-04 - val_loss: 0.0012\n",
            "Epoch 43/100\n",
            "14/14 [==============================] - 2s 142ms/step - loss: 7.8348e-04 - val_loss: 0.0012\n",
            "Epoch 44/100\n",
            "14/14 [==============================] - 3s 252ms/step - loss: 7.9887e-04 - val_loss: 0.0011\n",
            "Epoch 45/100\n",
            "14/14 [==============================] - 2s 142ms/step - loss: 7.6745e-04 - val_loss: 0.0012\n",
            "Epoch 46/100\n",
            "14/14 [==============================] - 2s 141ms/step - loss: 7.7607e-04 - val_loss: 0.0011\n",
            "Epoch 47/100\n",
            "14/14 [==============================] - 2s 138ms/step - loss: 7.4189e-04 - val_loss: 0.0011\n",
            "Epoch 48/100\n",
            "14/14 [==============================] - 2s 141ms/step - loss: 7.9230e-04 - val_loss: 0.0015\n",
            "Epoch 49/100\n",
            "14/14 [==============================] - 2s 134ms/step - loss: 7.6091e-04 - val_loss: 0.0011\n",
            "Epoch 50/100\n",
            "14/14 [==============================] - 3s 252ms/step - loss: 7.3043e-04 - val_loss: 0.0012\n",
            "Epoch 51/100\n",
            "14/14 [==============================] - 2s 147ms/step - loss: 8.2118e-04 - val_loss: 0.0012\n",
            "Epoch 52/100\n",
            "14/14 [==============================] - 2s 144ms/step - loss: 9.1063e-04 - val_loss: 0.0014\n",
            "Epoch 53/100\n",
            "14/14 [==============================] - 2s 140ms/step - loss: 9.7594e-04 - val_loss: 0.0012\n",
            "Epoch 54/100\n",
            "14/14 [==============================] - 2s 143ms/step - loss: 7.6246e-04 - val_loss: 0.0012\n",
            "Epoch 55/100\n",
            "14/14 [==============================] - 2s 165ms/step - loss: 7.1669e-04 - val_loss: 0.0012\n",
            "Epoch 56/100\n",
            "14/14 [==============================] - 3s 237ms/step - loss: 7.7128e-04 - val_loss: 0.0016\n",
            "Epoch 57/100\n",
            "14/14 [==============================] - 2s 132ms/step - loss: 7.6269e-04 - val_loss: 0.0014\n",
            "Epoch 58/100\n",
            "14/14 [==============================] - 2s 142ms/step - loss: 7.3121e-04 - val_loss: 0.0012\n",
            "Epoch 59/100\n",
            "14/14 [==============================] - 2s 152ms/step - loss: 6.8840e-04 - val_loss: 0.0010\n",
            "Epoch 60/100\n",
            "14/14 [==============================] - 2s 149ms/step - loss: 6.7622e-04 - val_loss: 0.0011\n",
            "Epoch 61/100\n",
            "14/14 [==============================] - 3s 184ms/step - loss: 6.8537e-04 - val_loss: 0.0011\n",
            "Epoch 62/100\n",
            "14/14 [==============================] - 3s 208ms/step - loss: 7.4038e-04 - val_loss: 0.0012\n",
            "Epoch 63/100\n",
            "14/14 [==============================] - 2s 151ms/step - loss: 7.0084e-04 - val_loss: 0.0011\n",
            "Epoch 64/100\n",
            "14/14 [==============================] - 2s 150ms/step - loss: 7.2640e-04 - val_loss: 0.0011\n",
            "Epoch 65/100\n",
            "14/14 [==============================] - 2s 135ms/step - loss: 6.7273e-04 - val_loss: 0.0013\n",
            "Epoch 66/100\n",
            "14/14 [==============================] - 2s 142ms/step - loss: 6.9366e-04 - val_loss: 0.0011\n",
            "Epoch 67/100\n",
            "14/14 [==============================] - 3s 226ms/step - loss: 7.2913e-04 - val_loss: 0.0012\n",
            "Epoch 68/100\n",
            "14/14 [==============================] - 2s 158ms/step - loss: 7.4834e-04 - val_loss: 0.0012\n",
            "Epoch 69/100\n",
            "14/14 [==============================] - 2s 144ms/step - loss: 7.3700e-04 - val_loss: 0.0011\n",
            "Epoch 70/100\n",
            "14/14 [==============================] - 2s 137ms/step - loss: 6.7284e-04 - val_loss: 0.0011\n",
            "Epoch 71/100\n",
            "14/14 [==============================] - 2s 146ms/step - loss: 6.6138e-04 - val_loss: 0.0011\n",
            "Epoch 72/100\n",
            "14/14 [==============================] - 2s 136ms/step - loss: 6.7619e-04 - val_loss: 0.0012\n",
            "Epoch 73/100\n",
            "14/14 [==============================] - 3s 225ms/step - loss: 6.7751e-04 - val_loss: 0.0012\n",
            "Epoch 74/100\n",
            "14/14 [==============================] - 2s 171ms/step - loss: 6.9603e-04 - val_loss: 0.0013\n",
            "Epoch 75/100\n",
            "14/14 [==============================] - 2s 146ms/step - loss: 7.0997e-04 - val_loss: 0.0011\n",
            "Epoch 76/100\n",
            "14/14 [==============================] - 2s 137ms/step - loss: 8.1228e-04 - val_loss: 0.0011\n",
            "Epoch 77/100\n",
            "14/14 [==============================] - 2s 142ms/step - loss: 7.7700e-04 - val_loss: 0.0016\n",
            "Epoch 78/100\n",
            "14/14 [==============================] - 2s 147ms/step - loss: 9.0573e-04 - val_loss: 0.0014\n",
            "Epoch 79/100\n",
            "14/14 [==============================] - 3s 251ms/step - loss: 7.1812e-04 - val_loss: 0.0011\n",
            "Epoch 80/100\n",
            "14/14 [==============================] - 2s 144ms/step - loss: 6.8132e-04 - val_loss: 0.0011\n",
            "Epoch 81/100\n",
            "14/14 [==============================] - 2s 142ms/step - loss: 7.2097e-04 - val_loss: 0.0011\n",
            "Epoch 82/100\n",
            "14/14 [==============================] - 2s 135ms/step - loss: 6.8122e-04 - val_loss: 0.0012\n",
            "Epoch 83/100\n",
            "14/14 [==============================] - 2s 135ms/step - loss: 7.1185e-04 - val_loss: 0.0012\n",
            "Epoch 84/100\n",
            "14/14 [==============================] - 2s 139ms/step - loss: 6.3015e-04 - val_loss: 0.0012\n",
            "Epoch 85/100\n",
            "14/14 [==============================] - 3s 245ms/step - loss: 6.6112e-04 - val_loss: 0.0012\n",
            "Epoch 86/100\n",
            "14/14 [==============================] - 2s 135ms/step - loss: 6.7290e-04 - val_loss: 0.0012\n",
            "Epoch 87/100\n",
            "14/14 [==============================] - 2s 134ms/step - loss: 6.6835e-04 - val_loss: 0.0011\n",
            "Epoch 88/100\n",
            "14/14 [==============================] - 2s 147ms/step - loss: 6.3417e-04 - val_loss: 0.0011\n",
            "Epoch 89/100\n",
            "14/14 [==============================] - 2s 141ms/step - loss: 7.3496e-04 - val_loss: 0.0014\n",
            "Epoch 90/100\n",
            "14/14 [==============================] - 2s 138ms/step - loss: 6.6512e-04 - val_loss: 9.8784e-04\n",
            "Epoch 91/100\n",
            "14/14 [==============================] - 4s 265ms/step - loss: 6.3745e-04 - val_loss: 0.0011\n",
            "Epoch 92/100\n",
            "14/14 [==============================] - 2s 147ms/step - loss: 7.0047e-04 - val_loss: 0.0011\n",
            "Epoch 93/100\n",
            "14/14 [==============================] - 2s 134ms/step - loss: 6.9417e-04 - val_loss: 0.0012\n",
            "Epoch 94/100\n",
            "14/14 [==============================] - 2s 135ms/step - loss: 6.4470e-04 - val_loss: 0.0011\n",
            "Epoch 95/100\n",
            "14/14 [==============================] - 2s 143ms/step - loss: 7.1195e-04 - val_loss: 0.0012\n",
            "Epoch 96/100\n",
            "14/14 [==============================] - 2s 156ms/step - loss: 6.6947e-04 - val_loss: 0.0011\n",
            "Epoch 97/100\n",
            "14/14 [==============================] - 3s 244ms/step - loss: 6.6443e-04 - val_loss: 0.0011\n",
            "Epoch 98/100\n",
            "14/14 [==============================] - 2s 132ms/step - loss: 7.0971e-04 - val_loss: 0.0010\n",
            "Epoch 99/100\n",
            "14/14 [==============================] - 2s 135ms/step - loss: 6.2982e-04 - val_loss: 0.0010\n",
            "Epoch 100/100\n",
            "14/14 [==============================] - 2s 137ms/step - loss: 6.6226e-04 - val_loss: 0.0011\n"
          ]
        },
        {
          "output_type": "execute_result",
          "data": {
            "text/plain": [
              "<keras.callbacks.History at 0x7fa03aeb72b0>"
            ]
          },
          "metadata": {},
          "execution_count": 76
        }
      ],
      "source": [
        "# 9. Fit mô hình với dữ liệu train\n",
        "model.fit(X_train,y_train,validation_data=(X_test,ytest),epochs=100,batch_size=64,verbose=1)"
      ]
    },
    {
      "cell_type": "code",
      "execution_count": 77,
      "id": "4a8fbf7e",
      "metadata": {
        "colab": {
          "base_uri": "https://localhost:8080/"
        },
        "id": "4a8fbf7e",
        "outputId": "f24eec76-ba67-4d90-c34f-e88ba10a2e13"
      },
      "outputs": [
        {
          "output_type": "stream",
          "name": "stdout",
          "text": [
            "28/28 [==============================] - 1s 23ms/step\n",
            "6/6 [==============================] - 0s 35ms/step\n",
            "2/2 [==============================] - 0s 24ms/step\n"
          ]
        }
      ],
      "source": [
        "# 10. Dự báo dữ liệu test, val\n",
        "train_predict=model.predict(X_train)\n",
        "y_pred=model.predict(X_test)\n",
        "y_pred_val=model.predict(X_val)"
      ]
    },
    {
      "cell_type": "code",
      "execution_count": 78,
      "id": "da1dc6a0",
      "metadata": {
        "id": "da1dc6a0"
      },
      "outputs": [],
      "source": [
        "# 11. Chuẩn hóa dữ liệu y_pred, y_pred_val\n",
        "train_predict=scaler.inverse_transform(train_predict)\n",
        "y_pred=scaler.inverse_transform(y_pred)\n",
        "y_pred_val=scaler.inverse_transform(y_pred_val)"
      ]
    },
    {
      "cell_type": "code",
      "execution_count": 79,
      "id": "e725ee72",
      "metadata": {
        "id": "e725ee72"
      },
      "outputs": [],
      "source": [
        "ytest = scaler.inverse_transform(ytest.reshape(-1,1))\n",
        "\n",
        "yval = scaler.inverse_transform(yval.reshape(-1,1))"
      ]
    },
    {
      "cell_type": "code",
      "execution_count": 80,
      "id": "075c043d",
      "metadata": {
        "colab": {
          "base_uri": "https://localhost:8080/"
        },
        "id": "075c043d",
        "outputId": "b8aba2ed-b4e0-4596-e60c-60f147ab51b8"
      },
      "outputs": [
        {
          "output_type": "stream",
          "name": "stdout",
          "text": [
            "Validation RMSE: 0.003964227090117726\n",
            "Testing RMSE: 0.004750448712462271\n"
          ]
        }
      ],
      "source": [
        "# 12. Đánh giá độ chính xác thuật toán bằng RMSE\n",
        "valid_rmse = np.sqrt(np.mean((y_pred_val - yval)**2))\n",
        "test_rmse = np.sqrt(np.mean((y_pred - ytest)**2))\n",
        "print('Validation RMSE:', valid_rmse)\n",
        "print('Testing RMSE:', test_rmse)"
      ]
    },
    {
      "cell_type": "code",
      "execution_count": 81,
      "id": "cd0fec58",
      "metadata": {
        "colab": {
          "base_uri": "https://localhost:8080/"
        },
        "id": "cd0fec58",
        "outputId": "0bfb0cdb-7a51-482a-8b20-b936491ab6d2"
      },
      "outputs": [
        {
          "output_type": "stream",
          "name": "stdout",
          "text": [
            "Validation MAE: 0.003033909358476332\n",
            "Testing MAE: 0.0037582381205125237\n"
          ]
        }
      ],
      "source": [
        "from sklearn.metrics import mean_absolute_error\n",
        "valid_mae = mean_absolute_error(yval, y_pred_val)\n",
        "test_mae = mean_absolute_error(ytest, y_pred)\n",
        "print('Validation MAE:', valid_mae)\n",
        "print('Testing MAE:', test_mae)"
      ]
    },
    {
      "cell_type": "code",
      "execution_count": 82,
      "id": "b76b23cd",
      "metadata": {
        "id": "b76b23cd"
      },
      "outputs": [],
      "source": [
        "from sklearn.metrics import mean_absolute_percentage_error"
      ]
    },
    {
      "cell_type": "code",
      "execution_count": 83,
      "id": "a710400c",
      "metadata": {
        "colab": {
          "base_uri": "https://localhost:8080/"
        },
        "id": "a710400c",
        "outputId": "dfb32989-6f93-416a-d30e-8a12ae670cd6"
      },
      "outputs": [
        {
          "output_type": "stream",
          "name": "stdout",
          "text": [
            "Validation MAPE: 0.003964227090117726\n",
            "Testing MAPE: 0.004750448712462271\n"
          ]
        }
      ],
      "source": [
        "valid_mape = mean_absolute_percentage_error(yval, y_pred_val)\n",
        "test_mape = mean_absolute_percentage_error(ytest, y_pred)\n",
        "print('Validation MAPE:', valid_rmse)\n",
        "print('Testing MAPE:', test_rmse)"
      ]
    },
    {
      "cell_type": "code",
      "execution_count": 85,
      "id": "233fe6d3",
      "metadata": {
        "colab": {
          "base_uri": "https://localhost:8080/"
        },
        "id": "233fe6d3",
        "outputId": "9463729b-6481-4df1-9266-0e7dd3d5446e"
      },
      "outputs": [
        {
          "output_type": "stream",
          "name": "stdout",
          "text": [
            "0 day output [[0.4551571]]\n",
            "1 day output [[0.47884545]]\n",
            "2 day output [[0.4722085]]\n",
            "3 day output [[0.46757483]]\n",
            "4 day output [[0.4762966]]\n",
            "5 day output [[0.472222]]\n",
            "6 day output [[0.47283095]]\n",
            "7 day output [[0.48036256]]\n",
            "8 day output [[0.4779287]]\n",
            "9 day output [[0.48567253]]\n",
            "10 day output [[0.48733294]]\n",
            "11 day output [[0.49075428]]\n",
            "12 day output [[0.49468133]]\n",
            "13 day output [[0.49861854]]\n",
            "14 day output [[0.5005551]]\n",
            "15 day output [[0.50670147]]\n",
            "16 day output [[0.5070682]]\n",
            "17 day output [[0.5129246]]\n",
            "18 day output [[0.5133136]]\n",
            "19 day output [[0.51808023]]\n",
            "20 day output [[0.5187525]]\n",
            "21 day output [[0.5241312]]\n",
            "22 day output [[0.52361894]]\n",
            "23 day output [[0.5279817]]\n",
            "24 day output [[0.5259606]]\n",
            "25 day output [[0.53063744]]\n",
            "26 day output [[0.5283783]]\n",
            "27 day output [[0.5328708]]\n",
            "28 day output [[0.532027]]\n",
            "29 day output [[0.534374]]\n"
          ]
        }
      ],
      "source": [
        "x_input = val_data[40:].reshape(1, -1)\n",
        "x_input.shape\n",
        "\n",
        "temp_input = list(x_input)\n",
        "temp_input = temp_input[0].tolist()\n",
        "\n",
        "lst_output = []\n",
        "n_steps = 100\n",
        "i = 0\n",
        "\n",
        "while i < 30:\n",
        "    if len(temp_input) > n_steps:\n",
        "        x_input = np.array(temp_input[:n_steps])\n",
        "        print(\"{} day input {}\".format(i, x_input))\n",
        "        x_input = x_input.reshape(1, n_steps, 1)\n",
        "        yhat = model.predict(x_input, verbose=0)\n",
        "        print(\"{} day output {}\".format(i, yhat))\n",
        "        temp_input.extend(yhat[0].tolist())\n",
        "        temp_input = temp_input[n_steps:]\n",
        "        lst_output.extend(yhat.tolist())\n",
        "        i += 1\n",
        "    else:\n",
        "        if len(temp_input) > 0:\n",
        "            x_input = np.array(temp_input)\n",
        "            x_input = x_input.reshape(1, len(temp_input), 1)\n",
        "            yhat = model.predict(x_input, verbose=0)\n",
        "            print(\"{} day output {}\".format(i, yhat))\n",
        "            temp_input.extend(yhat[0].tolist())\n",
        "            temp_input = temp_input[1:]\n",
        "            lst_output.extend(yhat.tolist())\n",
        "        i += 1\n"
      ]
    },
    {
      "cell_type": "code",
      "execution_count": 86,
      "id": "3369c164",
      "metadata": {
        "colab": {
          "base_uri": "https://localhost:8080/",
          "height": 430
        },
        "id": "3369c164",
        "outputId": "5af3fd0a-747e-42f2-ab45-fb63c485a417"
      },
      "outputs": [
        {
          "output_type": "display_data",
          "data": {
            "text/plain": [
              "<Figure size 640x480 with 1 Axes>"
            ],
            "image/png": "[encoded data removed]"
          },
          "metadata": {}
        }
      ],
      "source": [
        "# 14.Vẽ hình\n",
        "\n",
        "train_data_index = pd.RangeIndex(start=0, stop=train_size, step=1)\n",
        "plt.plot(scaler.inverse_transform(train_data))\n",
        "test_data_index = pd.RangeIndex(start=train_size, stop=train_size+test_size, step=1)\n",
        "plt.plot(test_data_index,scaler.inverse_transform(test_data))\n",
        "test_data_index = pd.RangeIndex(start=train_size+101, stop=train_size+test_size, step=1)\n",
        "plt.plot(test_data_index,(y_pred))\n",
        "val_data_index = pd.RangeIndex(start=train_size+test_size, stop=train_size+test_size+val_size, step=1)\n",
        "plt.plot(val_data_index,scaler.inverse_transform(val_data))\n",
        "val_data_index = pd.RangeIndex(start=train_size+test_size+101, stop=train_size+test_size+val_size, step=1)\n",
        "plt.plot(val_data_index,y_pred_val)\n",
        "prediect_data_index = pd.RangeIndex(start=len(df1)-1, stop=len(df1)+29, step=1)\n",
        "plt.plot(prediect_data_index,scaler.inverse_transform(lst_output))\n",
        "plt.legend(['Train','Test','Predict','Validate','ValidatePred','Predict30days'])\n",
        "plt.show()"
      ]
    },
    {
      "cell_type": "code",
      "execution_count": 88,
      "id": "3875b76a",
      "metadata": {
        "colab": {
          "base_uri": "https://localhost:8080/"
        },
        "id": "3875b76a",
        "outputId": "13a4d61a-c0df-4d00-cc30-cec9daafa407"
      },
      "outputs": [
        {
          "output_type": "execute_result",
          "data": {
            "text/plain": [
              "array([[0.75215193],\n",
              "       [0.75557134],\n",
              "       [0.7546133 ],\n",
              "       [0.75394443],\n",
              "       [0.75520342],\n",
              "       [0.75461525],\n",
              "       [0.75470315],\n",
              "       [0.75579034],\n",
              "       [0.75543901],\n",
              "       [0.75655683],\n",
              "       [0.75679651],\n",
              "       [0.75729038],\n",
              "       [0.75785725],\n",
              "       [0.75842559],\n",
              "       [0.75870513],\n",
              "       [0.75959236],\n",
              "       [0.7596453 ],\n",
              "       [0.76049067],\n",
              "       [0.76054682],\n",
              "       [0.76123488],\n",
              "       [0.76133193],\n",
              "       [0.76210834],\n",
              "       [0.76203439],\n",
              "       [0.76266416],\n",
              "       [0.76237242],\n",
              "       [0.76304752],\n",
              "       [0.76272141],\n",
              "       [0.7633699 ],\n",
              "       [0.7632481 ],\n",
              "       [0.76358689]])"
            ]
          },
          "metadata": {},
          "execution_count": 88
        }
      ],
      "source": [
        "scaler.inverse_transform(lst_output)"
      ]
    },
    {
      "cell_type": "code",
      "execution_count": null,
      "id": "f461d6a4",
      "metadata": {
        "id": "f461d6a4"
      },
      "outputs": [],
      "source": []
    }
  ],
  "metadata": {
    "kernelspec": {
      "display_name": "Python 3 (ipykernel)",
      "language": "python",
      "name": "python3"
    },
    "language_info": {
      "codemirror_mode": {
        "name": "ipython",
        "version": 3
      },
      "file_extension": ".py",
      "mimetype": "text/x-python",
      "name": "python",
      "nbconvert_exporter": "python",
      "pygments_lexer": "ipython3",
      "version": "3.11.2"
    },
    "colab": {
      "provenance": []
    }
  },
  "nbformat": 4,
  "nbformat_minor": 5
}