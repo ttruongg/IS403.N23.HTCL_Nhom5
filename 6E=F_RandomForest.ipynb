{
  "cells": [
    {
      "cell_type": "code",
      "execution_count": 1,
      "metadata": {
        "colab": {
          "base_uri": "https://localhost:8080/"
        },
        "id": "ab7ziGpKHa5B",
        "outputId": "fc131631-cc52-43e4-c347-99360d3671e0"
      },
      "outputs": [
        {
          "output_type": "stream",
          "name": "stdout",
          "text": [
            "\r[*********************100%***********************]  1 of 1 completed\n"
          ]
        }
      ],
      "source": [
        "import yfinance as yf\n",
        "\n",
        "data = yf.download(tickers = \"6E=F\", start=\"2017-12-01\", end=\"2023-06-16\", interval='1d')"
      ]
    },
    {
      "cell_type": "code",
      "execution_count": 2,
      "metadata": {
        "id": "-riWd9A0Ho3p"
      },
      "outputs": [],
      "source": [
        "data = data.reset_index('Date', inplace=False)"
      ]
    },
    {
      "cell_type": "code",
      "execution_count": 3,
      "metadata": {
        "id": "nfHNdtZ7HskQ"
      },
      "outputs": [],
      "source": [
        "import numpy as np\n",
        "import pandas as pd\n",
        "import matplotlib.pyplot as plt\n",
        "from sklearn.preprocessing import MinMaxScaler\n",
        "from keras.models import Sequential\n",
        "from keras.layers import Dense, Dropout, Conv1D, MaxPooling1D, Bidirectional\n",
        "from sklearn.ensemble import RandomForestRegressor"
      ]
    },
    {
      "cell_type": "code",
      "execution_count": 4,
      "metadata": {
        "id": "PLDSAjn2MpGa"
      },
      "outputs": [],
      "source": [
        "# 3. Scaler data\n",
        "#scaler=MinMaxScaler(feature_range=(0,1))\n",
        "#df1=scaler.fit_transform(np.array(df1).reshape(-1,1))"
      ]
    },
    {
      "cell_type": "code",
      "execution_count": 5,
      "metadata": {
        "id": "lQhGrpQtMv4R"
      },
      "outputs": [],
      "source": [
        "data = data[['Close']]\n",
        "data = data.dropna() # Drop missing values\n",
        "data = data.reset_index(drop=True) # Reset the index\n",
        "\n",
        "# Split the data into training, testing, and validation sets\n",
        "train_size = int(0.7 * len(data))\n",
        "test_size = int(0.2 * len(data))\n",
        "val_size = len(data) - train_size - test_size\n",
        "\n",
        "train_data = data[:train_size]\n",
        "test_data = data[train_size:train_size+test_size]\n",
        "val_data = data[train_size+test_size:]"
      ]
    },
    {
      "cell_type": "code",
      "execution_count": 6,
      "metadata": {
        "id": "igN9uvAoNJnt"
      },
      "outputs": [],
      "source": [
        "# 3. Quá trình Training\n",
        "x_train = np.array(train_data.index).reshape(-1, 1)\n",
        "y_train = np.array(train_data['Close'])"
      ]
    },
    {
      "cell_type": "code",
      "execution_count": 7,
      "metadata": {
        "id": "0NSa2vtUPBtK"
      },
      "outputs": [],
      "source": [
        "# 4. Quá trình testing\n",
        "x_test = np.array(test_data.index).reshape(-1, 1)\n",
        "y_test = np.array(test_data['Close'])\n",
        "#y_pred = model.predict(n_periods=len(y_test))\n",
        "\n",
        "# 5. Quá trình Validate\n",
        "x_val= np.array(val_data.index).reshape(-1, 1)\n",
        "y_val = np.array(val_data['Close'])\n",
        "#y_pred_val =  model.predict(n_periods=len(y_val))"
      ]
    },
    {
      "cell_type": "code",
      "execution_count": 8,
      "metadata": {
        "colab": {
          "base_uri": "https://localhost:8080/"
        },
        "id": "urlQWpJKQr3x",
        "outputId": "ff2ddd04-1be0-4648-99f3-89c87fd5caed"
      },
      "outputs": [
        {
          "output_type": "stream",
          "name": "stdout",
          "text": [
            "Best parameters: {'n_estimators': 100, 'max_depth': 5, 'random_state': 42}\n"
          ]
        }
      ],
      "source": [
        "from sklearn.ensemble import RandomForestRegressor\n",
        "from sklearn.metrics import mean_squared_error\n",
        "\n",
        "best_score = float('-inf')\n",
        "best_params = {}\n",
        "\n",
        "for n_estimators in [100, 200, 500, 1000]:\n",
        "    for max_depth in [5, 10, 15, 20]:\n",
        "        for random_state in [1, 42, 77, 123]:\n",
        "            model = RandomForestRegressor(n_estimators=n_estimators, random_state=random_state, max_depth=max_depth)\n",
        "            model.fit(x_train, y_train)\n",
        "            y_pred = model.predict(x_test)\n",
        "            score = model.score(x_test, y_test)  # R-squared score\n",
        "\n",
        "            if score > best_score:\n",
        "                best_score = score\n",
        "                best_params = {\n",
        "                    'n_estimators': n_estimators,\n",
        "                    'max_depth': max_depth,\n",
        "                    'random_state': random_state\n",
        "                }\n",
        "\n",
        "print(\"Best parameters:\", best_params)"
      ]
    },
    {
      "cell_type": "code",
      "execution_count": 9,
      "metadata": {
        "colab": {
          "base_uri": "https://localhost:8080/",
          "height": 74
        },
        "id": "fY3cnpakM3fV",
        "outputId": "76efe162-a27a-48ae-e603-d0323248e03d"
      },
      "outputs": [
        {
          "output_type": "execute_result",
          "data": {
            "text/plain": [
              "RandomForestRegressor(max_depth=5, random_state=42)"
            ],
            "text/html": [
              "<style>#sk-container-id-1 {color: black;background-color: white;}#sk-container-id-1 pre{padding: 0;}#sk-container-id-1 div.sk-toggleable {background-color: white;}#sk-container-id-1 label.sk-toggleable__label {cursor: pointer;display: block;width: 100%;margin-bottom: 0;padding: 0.3em;box-sizing: border-box;text-align: center;}#sk-container-id-1 label.sk-toggleable__label-arrow:before {content: \"▸\";float: left;margin-right: 0.25em;color: #696969;}#sk-container-id-1 label.sk-toggleable__label-arrow:hover:before {color: black;}#sk-container-id-1 div.sk-estimator:hover label.sk-toggleable__label-arrow:before {color: black;}#sk-container-id-1 div.sk-toggleable__content {max-height: 0;max-width: 0;overflow: hidden;text-align: left;background-color: #f0f8ff;}#sk-container-id-1 div.sk-toggleable__content pre {margin: 0.2em;color: black;border-radius: 0.25em;background-color: #f0f8ff;}#sk-container-id-1 input.sk-toggleable__control:checked~div.sk-toggleable__content {max-height: 200px;max-width: 100%;overflow: auto;}#sk-container-id-1 input.sk-toggleable__control:checked~label.sk-toggleable__label-arrow:before {content: \"▾\";}#sk-container-id-1 div.sk-estimator input.sk-toggleable__control:checked~label.sk-toggleable__label {background-color: #d4ebff;}#sk-container-id-1 div.sk-label input.sk-toggleable__control:checked~label.sk-toggleable__label {background-color: #d4ebff;}#sk-container-id-1 input.sk-hidden--visually {border: 0;clip: rect(1px 1px 1px 1px);clip: rect(1px, 1px, 1px, 1px);height: 1px;margin: -1px;overflow: hidden;padding: 0;position: absolute;width: 1px;}#sk-container-id-1 div.sk-estimator {font-family: monospace;background-color: #f0f8ff;border: 1px dotted black;border-radius: 0.25em;box-sizing: border-box;margin-bottom: 0.5em;}#sk-container-id-1 div.sk-estimator:hover {background-color: #d4ebff;}#sk-container-id-1 div.sk-parallel-item::after {content: \"\";width: 100%;border-bottom: 1px solid gray;flex-grow: 1;}#sk-container-id-1 div.sk-label:hover label.sk-toggleable__label {background-color: #d4ebff;}#sk-container-id-1 div.sk-serial::before {content: \"\";position: absolute;border-left: 1px solid gray;box-sizing: border-box;top: 0;bottom: 0;left: 50%;z-index: 0;}#sk-container-id-1 div.sk-serial {display: flex;flex-direction: column;align-items: center;background-color: white;padding-right: 0.2em;padding-left: 0.2em;position: relative;}#sk-container-id-1 div.sk-item {position: relative;z-index: 1;}#sk-container-id-1 div.sk-parallel {display: flex;align-items: stretch;justify-content: center;background-color: white;position: relative;}#sk-container-id-1 div.sk-item::before, #sk-container-id-1 div.sk-parallel-item::before {content: \"\";position: absolute;border-left: 1px solid gray;box-sizing: border-box;top: 0;bottom: 0;left: 50%;z-index: -1;}#sk-container-id-1 div.sk-parallel-item {display: flex;flex-direction: column;z-index: 1;position: relative;background-color: white;}#sk-container-id-1 div.sk-parallel-item:first-child::after {align-self: flex-end;width: 50%;}#sk-container-id-1 div.sk-parallel-item:last-child::after {align-self: flex-start;width: 50%;}#sk-container-id-1 div.sk-parallel-item:only-child::after {width: 0;}#sk-container-id-1 div.sk-dashed-wrapped {border: 1px dashed gray;margin: 0 0.4em 0.5em 0.4em;box-sizing: border-box;padding-bottom: 0.4em;background-color: white;}#sk-container-id-1 div.sk-label label {font-family: monospace;font-weight: bold;display: inline-block;line-height: 1.2em;}#sk-container-id-1 div.sk-label-container {text-align: center;}#sk-container-id-1 div.sk-container {/* jupyter's `normalize.less` sets `[hidden] { display: none; }` but bootstrap.min.css set `[hidden] { display: none !important; }` so we also need the `!important` here to be able to override the default hidden behavior on the sphinx rendered scikit-learn.org. See: https://github.com/scikit-learn/scikit-learn/issues/21755 */display: inline-block !important;position: relative;}#sk-container-id-1 div.sk-text-repr-fallback {display: none;}</style><div id=\"sk-container-id-1\" class=\"sk-top-container\"><div class=\"sk-text-repr-fallback\"><pre>RandomForestRegressor(max_depth=5, random_state=42)</pre><b>In a Jupyter environment, please rerun this cell to show the HTML representation or trust the notebook. <br />On GitHub, the HTML representation is unable to render, please try loading this page with nbviewer.org.</b></div><div class=\"sk-container\" hidden><div class=\"sk-item\"><div class=\"sk-estimator sk-toggleable\"><input class=\"sk-toggleable__control sk-hidden--visually\" id=\"sk-estimator-id-1\" type=\"checkbox\" checked><label for=\"sk-estimator-id-1\" class=\"sk-toggleable__label sk-toggleable__label-arrow\">RandomForestRegressor</label><div class=\"sk-toggleable__content\"><pre>RandomForestRegressor(max_depth=5, random_state=42)</pre></div></div></div></div></div>"
            ]
          },
          "metadata": {},
          "execution_count": 9
        }
      ],
      "source": [
        "model = RandomForestRegressor(n_estimators=100, random_state=42, max_depth=5)\n",
        "model.fit(x_train, y_train)"
      ]
    },
    {
      "cell_type": "code",
      "execution_count": 10,
      "metadata": {
        "id": "6h_HZ_SkPB5O"
      },
      "outputs": [],
      "source": [
        "y_pred = model.predict(x_test)"
      ]
    },
    {
      "cell_type": "code",
      "execution_count": 11,
      "metadata": {
        "id": "rzqy8p57Smmp"
      },
      "outputs": [],
      "source": [
        "y_pred_val =  model.predict(x_val)"
      ]
    },
    {
      "cell_type": "code",
      "execution_count": 12,
      "metadata": {
        "colab": {
          "base_uri": "https://localhost:8080/"
        },
        "id": "coucMLVzXF4Q",
        "outputId": "668142b4-6897-484a-8f92-1dc989d4e7ed"
      },
      "outputs": [
        {
          "output_type": "stream",
          "name": "stdout",
          "text": [
            "Predicted closing prices for the next 30 days:\n",
            "[1.16096204 1.16096204 1.16096204 1.16096204 1.16096204 1.16096204\n",
            " 1.16096204 1.16096204 1.16096204 1.16096204 1.16096204 1.16096204\n",
            " 1.16096204 1.16096204 1.16096204 1.16096204 1.16096204 1.16096204\n",
            " 1.16096204 1.16096204 1.16096204 1.16096204 1.16096204 1.16096204\n",
            " 1.16096204 1.16096204 1.16096204 1.16096204 1.16096204 1.16096204]\n"
          ]
        }
      ],
      "source": [
        "last_index =  data.index[-1]\n",
        "# Create an array of 30 consecutive integers starting from last_index\n",
        "x_next_30_days = np.array(range(last_index+1, last_index+31)).reshape(-1, 1)\n",
        "\n",
        "# Predict the closing prices for the next 30 days\n",
        "y_next_30_days = model.predict(x_next_30_days)\n",
        "\n",
        "# Print the predicted closing prices for the next 30 days\n",
        "print('Predicted closing prices for the next 30 days:')\n",
        "print(y_next_30_days)"
      ]
    },
    {
      "cell_type": "code",
      "execution_count": 13,
      "metadata": {
        "colab": {
          "base_uri": "https://localhost:8080/"
        },
        "id": "fTyRYBQRXmuJ",
        "outputId": "8d5919c8-2563-47e6-df44-924bdce6cd50"
      },
      "outputs": [
        {
          "output_type": "stream",
          "name": "stdout",
          "text": [
            "Validation RMSE: 0.08566921558038172\n",
            "Testing RMSE: 0.10847326584703301\n"
          ]
        }
      ],
      "source": [
        "# 7. Đánh giá độ chính xác validate, test\n",
        "valid_rmse = np.sqrt(np.mean((y_pred_val - y_val)**2))\n",
        "test_rmse = np.sqrt(np.mean((y_pred - y_test)**2))\n",
        "print('Validation RMSE:', valid_rmse)\n",
        "print('Testing RMSE:', test_rmse)"
      ]
    },
    {
      "cell_type": "code",
      "execution_count": 14,
      "metadata": {
        "colab": {
          "base_uri": "https://localhost:8080/",
          "height": 430
        },
        "id": "Twzc6usQXnDt",
        "outputId": "515bb8e8-561b-4f50-e239-1d74ae673da0"
      },
      "outputs": [
        {
          "output_type": "display_data",
          "data": {
            "text/plain": [
              "<Figure size 640x480 with 1 Axes>"
            ],
            "image/png": "[encoded data removed]"
          },
          "metadata": {}
        }
      ],
      "source": [
        "plt.plot(train_data.index, train_data['Close'])\n",
        "plt.plot(test_data.index, test_data['Close'])\n",
        "plt.plot(val_data.index, val_data['Close'])\n",
        "plt.plot(test_data.index, y_pred)\n",
        "plt.plot(val_data.index, y_pred_val)\n",
        "plt.plot(range(last_index+1, last_index+31),y_next_30_days)\n",
        "plt.legend(['Train', 'Test', 'Validation', 'Predictions','Validate','Next30Day'])\n",
        "plt.show()"
      ]
    },
    {
      "cell_type": "markdown",
      "metadata": {
        "id": "mt4MwCn7So4l"
      },
      "source": [
        "## X: 'Open', 'High', 'Low', 'Close', 'Volume'\n",
        "\n",
        "## y= 'Adj Close'"
      ]
    },
    {
      "cell_type": "code",
      "execution_count": 15,
      "metadata": {
        "colab": {
          "base_uri": "https://localhost:8080/"
        },
        "id": "7wNg6R2bXreE",
        "outputId": "cad4150a-9048-4fb4-e272-8f43ac1a13df"
      },
      "outputs": [
        {
          "output_type": "stream",
          "name": "stdout",
          "text": [
            "\r[*********************100%***********************]  1 of 1 completed\n"
          ]
        }
      ],
      "source": [
        "import yfinance as yf\n",
        "\n",
        "df = yf.download(tickers = \"GC=F\", start=\"2017-12-01\", end=\"2023-06-08\", interval='1d')"
      ]
    },
    {
      "cell_type": "code",
      "execution_count": 16,
      "metadata": {
        "id": "PVLbZxQJY53t"
      },
      "outputs": [],
      "source": [
        "df = df.reset_index('Date', inplace=False)"
      ]
    },
    {
      "cell_type": "code",
      "execution_count": 17,
      "metadata": {
        "id": "ryOIP9IkZOQA"
      },
      "outputs": [],
      "source": [
        "from sklearn.model_selection import train_test_split\n",
        "from sklearn import metrics\n",
        "from sklearn.preprocessing import StandardScaler\n",
        "from sklearn.ensemble import RandomForestRegressor"
      ]
    },
    {
      "cell_type": "code",
      "execution_count": 18,
      "metadata": {
        "id": "Yebiv5LwOT6T"
      },
      "outputs": [],
      "source": [
        "# 4. Chia train test\n",
        "train_size = int(0.7 * len(df))\n",
        "test_size = int(0.2 * len(df))\n",
        "val_size = len(df) - train_size - test_size\n",
        "\n",
        "train_data = df[:train_size]\n",
        "test_data = df[train_size:train_size+test_size]\n",
        "val_data = df[train_size+test_size:]"
      ]
    },
    {
      "cell_type": "code",
      "execution_count": 19,
      "metadata": {
        "id": "noJJjr0tY5RH"
      },
      "outputs": [],
      "source": [
        "X_train= train_data[['Open', 'High', 'Low', 'Volume']]\n",
        "y_train= train_data['Close']\n",
        "\n",
        "X_test= test_data[['Open', 'High', 'Low','Volume']]\n",
        "y_test= test_data['Close']\n",
        "\n",
        "X_val= val_data[['Open', 'High', 'Low', 'Volume']]\n",
        "y_val= val_data['Close']\n",
        "#X_train, X_test, y_train, y_test = train_test_split(X, y, test_size=0.3, random_state=0)"
      ]
    },
    {
      "cell_type": "code",
      "execution_count": 20,
      "metadata": {
        "id": "NDnRkRZhZUyN"
      },
      "outputs": [],
      "source": [
        "scale = StandardScaler()\n",
        "X_train = scale.fit_transform(X_train)\n",
        "X_test = scale.transform(X_test)\n",
        "X_val = scale.transform(X_val)"
      ]
    },
    {
      "cell_type": "code",
      "execution_count": 21,
      "metadata": {
        "colab": {
          "base_uri": "https://localhost:8080/"
        },
        "id": "6RGrHXmNZX2Z",
        "outputId": "77dae67b-f25a-439f-aef5-bad24433c64a"
      },
      "outputs": [
        {
          "output_type": "stream",
          "name": "stdout",
          "text": [
            "[1774.12843749 1796.2670504  1776.32629257 1773.71045252 1776.32629257\n",
            " 1778.12827519 1786.00035746 1801.68357969 1802.06440576 1801.68357969\n",
            " 1794.17674708 1802.06440576 1780.8482234  1791.26416227 1791.26416227\n",
            " 1774.59676074 1783.34379228 1802.67894664 1816.04330414 1833.24297662\n",
            " 1842.48606413 1863.40486445 1860.23625895 1872.42118934 1858.84141556\n",
            " 1872.38892549 1864.69233073 1858.13146611 1835.50267075 1791.26416227\n",
            " 1786.71148561 1791.64498834 1791.26416227 1786.34302149 1782.79554763\n",
            " 1777.91033969 1774.12843749 1776.32629257 1781.92298887 1777.91033969\n",
            " 1781.92298887 1777.91033969 1776.32629257 1791.26416227 1776.32629257\n",
            " 1763.15742129 1788.53211619 1812.40927349 1796.06502097 1791.26416227\n",
            " 1801.68357969 1805.5548971  1812.78837612 1812.6119848  1802.06440576\n",
            " 1802.47623533 1816.27580848 1804.97010688 1802.81987163 1814.74049698\n",
            " 1791.26416227 1792.20856685 1795.08043709 1812.6119848  1815.5050954\n",
            " 1814.48112591 1814.48112591 1814.48112591 1837.00541154 1839.63430727\n",
            " 1837.40413513 1839.63430727 1851.36344528 1816.87137108 1791.64498834\n",
            " 1785.35843762 1794.69961102 1802.06440576 1802.21107882 1801.68357969\n",
            " 1802.47623533 1813.91892822 1816.04330414 1834.53983762 1837.23791588\n",
            " 1842.48606413 1864.10488087 1861.3615719  1864.29078059 1890.29114492\n",
            " 1896.21779907 1900.8889812  1900.8889812  1938.21127203 1899.84869955\n",
            " 1906.44230129 1932.73846731 1937.75880022 1939.05130068 1944.22726943\n",
            " 1970.91100264 2012.79788286 2012.47716737 1993.09118891 1968.15080784\n",
            " 1954.664192   1932.76267287 1916.80211448 1942.66996797 1939.05130068\n",
            " 1927.70546627 1917.84423098 1939.62835644 1953.77292146 1953.77292146\n",
            " 1939.05130068 1900.8889812  1933.16699723 1937.75880022 1934.14013294\n",
            " 1934.14013294 1936.97457534 1923.51616079 1934.14013294 1942.66996797\n",
            " 1950.4737807  1954.664192   1977.21334944 1957.95794228 1989.72874338\n",
            " 1952.00729294 1950.58246692 1949.13221111 1942.87616026 1902.19730011\n",
            " 1900.64847561 1891.86731774 1887.35973197 1913.15032625 1867.80419696\n",
            " 1874.94044521 1872.62869721 1891.19192353 1886.15546395 1863.65827419\n",
            " 1839.63430727 1844.57555768 1841.97966946 1813.54296989 1802.09540926\n",
            " 1816.04330414 1812.6119848  1836.44321385 1838.91347571 1856.33165017\n",
            " 1860.21187369 1853.07957169 1839.88394256 1856.35514059 1842.95323754\n",
            " 1837.89120279 1853.6972626  1856.07002947 1843.9608108  1842.13694008\n",
            " 1853.24125156 1843.44872873 1844.01830638 1844.77941925 1813.35022116\n",
            " 1836.21638122 1840.98605225 1842.95323754 1837.17730249 1837.23791588\n",
            " 1837.40413513 1815.5050954  1816.70515183 1815.21936227 1816.47264749\n",
            " 1806.0304429  1802.06440576 1781.86915472 1742.23233888 1741.72069451\n",
            " 1733.86084517 1732.88457318 1730.29259045 1727.04234396 1706.69928555\n",
            " 1706.41002125 1707.44617495 1707.54050181 1706.41002125 1700.22686666\n",
            " 1727.04234396 1728.07230932 1710.36335803 1710.96193631 1738.79193193\n",
            " 1758.27905762 1767.88733625 1774.12843749 1759.49671545 1776.32629257\n",
            " 1775.69627024 1777.91033969 1791.26416227 1801.68357969 1791.26416227\n",
            " 1795.88622433 1784.09572684 1777.91033969 1773.71045252 1759.68079975\n",
            " 1754.13428066 1731.39957637 1733.86084517 1752.48451185 1762.07937704\n",
            " 1747.62805325 1732.88457318 1729.26820957 1710.21108103 1706.41002125\n",
            " 1707.58717384 1707.59819115 1707.29790954 1708.72637922 1709.23292313\n",
            " 1722.43841889 1709.17492733 1706.41002125 1674.01854232 1654.33098483\n",
            " 1649.6435031  1646.9398693  1678.73219583 1674.43340249 1646.88380236\n",
            " 1630.6888868  1636.19404412 1639.06667326 1642.95586055 1655.98159359\n",
            " 1677.14865891 1715.81940856 1710.29749611 1710.51706268 1706.41002125\n",
            " 1690.5437245  1665.56424761 1675.17735507 1653.39201934 1646.08366695\n",
            " 1644.01100048 1643.14854423 1636.68953439 1637.16688393 1638.97397572\n",
            " 1644.7469765  1641.00462881 1647.37929263 1648.85147208 1642.62366802\n",
            " 1637.68163812 1637.96373126 1640.35702579 1634.57206499 1649.45237642\n",
            " 1684.60516081 1706.69928555 1709.70453712 1728.27798853 1766.74521112\n",
            " 1775.25173307 1777.01360937]\n",
            "(277,)\n"
          ]
        }
      ],
      "source": [
        "model = RandomForestRegressor(n_estimators=100, random_state=42, max_depth=5)\n",
        "model.fit(X_train, y_train)\n",
        "predict = model.predict(X_test)\n",
        "print(predict)\n",
        "print(predict.shape)"
      ]
    },
    {
      "cell_type": "code",
      "execution_count": 22,
      "metadata": {
        "colab": {
          "base_uri": "https://localhost:8080/"
        },
        "id": "lVOBBrfSQlCf",
        "outputId": "4094fa23-04c4-4e01-c183-3a40470cff06"
      },
      "outputs": [
        {
          "output_type": "stream",
          "name": "stdout",
          "text": [
            "[1777.91033969 1766.52097418 1755.81875627 1741.72069451 1743.00210996\n",
            " 1745.79051184 1756.72632726 1746.84747458 1748.95170523 1755.80532228\n",
            " 1782.38653447 1789.30585835 1782.3136919  1776.32629257 1776.32629257\n",
            " 1787.18842516 1802.06440576 1781.92298887 1793.17981128 1802.63735754\n",
            " 1785.02666004 1781.92298887 1791.26416227 1802.29812057 1814.48112591\n",
            " 1802.29812057 1799.02785782 1813.63595429 1811.99744392 1812.6119848\n",
            " 1814.48112591 1838.91347571 1853.24125156 1843.16420524 1844.31839683\n",
            " 1874.82583533 1878.99079991 1878.94825902 1890.31004117 1900.8889812\n",
            " 1916.63410466 1914.63057929 1913.81021924 1923.79245238 1923.16056045\n",
            " 1922.18742475 1939.05130068 1945.59230142 1939.05130068 1927.70546627\n",
            " 1932.9601726  1908.86068654 1938.42483115 1937.04737108 1881.13370445\n",
            " 1874.61832746 1873.52346227 1880.10816517 1869.52275685 1858.62005777\n",
            " 1858.3976184  1858.07638934 1837.40413513 1837.40413513 1837.23791588\n",
            " 1838.11155092 1835.0153577  1816.27580848 1813.0244809  1813.63902178\n",
            " 1815.2751204  1837.40413513 1835.68423842 1842.99404946 1853.77503125\n",
            " 1837.00541154 1813.96732499 1816.21775247 1860.46528343 1894.51208503\n",
            " 1902.95176611 1906.13335962 1922.13870073 1956.45714233 1993.09118891\n",
            " 1945.2878309  1953.01394425 1993.54884743 1989.15974354 1953.77292146\n",
            " 1976.67979395 1970.98734679 1957.38395064 1982.23219867 1960.21659671\n",
            " 1998.06441443 2019.91778112 2009.43780396 1996.38859007 1996.47362654\n",
            " 2006.27580088 2017.49377853 2016.68755213 1996.38859007 1999.82236361\n",
            " 1996.06642371 1999.82236361 1991.66143285 1981.66319883 1992.66809911\n",
            " 1992.66809911 1993.09118891 1981.66319883 1992.65352249 2005.8022554\n",
            " 2017.49377853 2021.95421451 2016.76181939 2013.02236603 2019.48011469\n",
            " 2019.77011469 2018.91111486 2004.65738716 2010.59836344 1986.05230272\n",
            " 1979.3995526  1953.77292146 1955.19774748 1977.21334944 1976.67979395\n",
            " 1957.42438679 1949.13221111 1949.916436   1943.33599889 1954.664192\n",
            " 1955.19774748 1953.54749973 1944.17907621 1953.77292146 1950.12824954]\n",
            "(140,)\n"
          ]
        }
      ],
      "source": [
        "validate = model.predict(X_val)\n",
        "print(validate)\n",
        "print(validate.shape)"
      ]
    },
    {
      "cell_type": "code",
      "execution_count": 23,
      "metadata": {
        "colab": {
          "base_uri": "https://localhost:8080/"
        },
        "id": "m9EJy0JfZsgk",
        "outputId": "ca03a7db-ab9c-419b-c04e-bd9a1dc93b53"
      },
      "outputs": [
        {
          "output_type": "stream",
          "name": "stdout",
          "text": [
            "Mean Absolute Error: 6.9284\n",
            "Mean Squared Error: 79.2042\n",
            "Root Mean Squared Error: 8.8997\n",
            "(R^2) Score: 0.9899\n"
          ]
        }
      ],
      "source": [
        "print(\"Mean Absolute Error:\", round(metrics.mean_absolute_error(y_test, predict), 4))\n",
        "print(\"Mean Squared Error:\", round(metrics.mean_squared_error(y_test, predict), 4))\n",
        "print(\"Root Mean Squared Error:\", round(np.sqrt(metrics.mean_squared_error(y_test, predict)), 4))\n",
        "print(\"(R^2) Score:\", round(metrics.r2_score(y_test, predict), 4))"
      ]
    },
    {
      "cell_type": "code",
      "execution_count": 24,
      "metadata": {
        "colab": {
          "base_uri": "https://localhost:8080/"
        },
        "id": "ZYtGEMrCRd5I",
        "outputId": "b71d9333-e629-4754-fb2b-fa22b936f518"
      },
      "outputs": [
        {
          "output_type": "stream",
          "name": "stdout",
          "text": [
            "Mean Absolute Error: 7.7556\n",
            "Mean Squared Error: 100.9218\n",
            "Root Mean Squared Error: 10.046\n",
            "(R^2) Score: 0.9866\n",
            "Train Score : 99.93% , Test Score : 98.99% and Validate Score : 98.66% using Random forest Regressor.\n"
          ]
        }
      ],
      "source": [
        "print(\"Mean Absolute Error:\", round(metrics.mean_absolute_error(y_val, validate), 4))\n",
        "print(\"Mean Squared Error:\", round(metrics.mean_squared_error(y_val, validate), 4))\n",
        "print(\"Root Mean Squared Error:\", round(np.sqrt(metrics.mean_squared_error(y_val, validate)), 4))\n",
        "print(\"(R^2) Score:\", round(metrics.r2_score(y_val, validate), 4))\n",
        "print(f'Train Score : {model.score(X_train, y_train) * 100:.2f}% , Test Score : {model.score(X_test, y_test) * 100:.2f}% and Validate Score : {model.score(X_val, y_val) * 100:.2f}% using Random forest Regressor.')"
      ]
    },
    {
      "cell_type": "code",
      "execution_count": 25,
      "metadata": {
        "colab": {
          "base_uri": "https://localhost:8080/",
          "height": 430
        },
        "id": "cxyVgmv6Xewg",
        "outputId": "f9de6b6d-1088-4c83-8a98-b5ea53fdb9e4"
      },
      "outputs": [
        {
          "output_type": "display_data",
          "data": {
            "text/plain": [
              "<Figure size 640x480 with 1 Axes>"
            ],
            "image/png": "[encoded data removed]"
          },
          "metadata": {}
        }
      ],
      "source": [
        "plt.plot(train_data.index, train_data['Close'])\n",
        "plt.plot(test_data.index, test_data['Close'])\n",
        "plt.plot(val_data.index, val_data['Close'])\n",
        "plt.plot(test_data.index, predict)\n",
        "plt.plot(val_data.index, validate)\n",
        "plt.legend(['Train', 'Test', 'Validation', 'Predictions','Validate'])\n",
        "plt.show()"
      ]
    },
    {
      "cell_type": "code",
      "execution_count": 25,
      "metadata": {
        "id": "I4D-gyAauA53"
      },
      "outputs": [],
      "source": []
    }
  ],
  "metadata": {
    "colab": {
      "provenance": []
    },
    "kernelspec": {
      "display_name": "Python 3 (ipykernel)",
      "language": "python",
      "name": "python3"
    },
    "language_info": {
      "codemirror_mode": {
        "name": "ipython",
        "version": 3
      },
      "file_extension": ".py",
      "mimetype": "text/x-python",
      "name": "python",
      "nbconvert_exporter": "python",
      "pygments_lexer": "ipython3",
      "version": "3.11.2"
    }
  },
  "nbformat": 4,
  "nbformat_minor": 0
}