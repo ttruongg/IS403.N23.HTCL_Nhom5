{
 "cells": [
  {
   "cell_type": "code",
   "execution_count": 1,
   "id": "5c0416c3",
   "metadata": {},
   "outputs": [
    {
     "name": "stdout",
     "output_type": "stream",
     "text": [
      "[*********************100%***********************]  1 of 1 completed\n"
     ]
    }
   ],
   "source": [
    "import yfinance as yf\n",
    "\n",
    "data = yf.download(tickers = \"GC=F\", start=\"2017-12-01\", end=\"2023-06-11\", interval='1d')"
   ]
  },
  {
   "cell_type": "code",
   "execution_count": 2,
   "id": "07575c05",
   "metadata": {},
   "outputs": [],
   "source": [
    "data = data.reset_index('Date', inplace=False)"
   ]
  },
  {
   "cell_type": "code",
   "execution_count": 3,
   "id": "ed1b3a5d",
   "metadata": {},
   "outputs": [
    {
     "data": {
      "text/html": [
       "<div>\n",
       "<style scoped>\n",
       "    .dataframe tbody tr th:only-of-type {\n",
       "        vertical-align: middle;\n",
       "    }\n",
       "\n",
       "    .dataframe tbody tr th {\n",
       "        vertical-align: top;\n",
       "    }\n",
       "\n",
       "    .dataframe thead th {\n",
       "        text-align: right;\n",
       "    }\n",
       "</style>\n",
       "<table border=\"1\" class=\"dataframe\">\n",
       "  <thead>\n",
       "    <tr style=\"text-align: right;\">\n",
       "      <th></th>\n",
       "      <th>Date</th>\n",
       "      <th>Open</th>\n",
       "      <th>High</th>\n",
       "      <th>Low</th>\n",
       "      <th>Close</th>\n",
       "      <th>Adj Close</th>\n",
       "      <th>Volume</th>\n",
       "    </tr>\n",
       "  </thead>\n",
       "  <tbody>\n",
       "    <tr>\n",
       "      <th>0</th>\n",
       "      <td>2017-12-01</td>\n",
       "      <td>1274.099976</td>\n",
       "      <td>1288.599976</td>\n",
       "      <td>1271.000000</td>\n",
       "      <td>1278.800049</td>\n",
       "      <td>1278.800049</td>\n",
       "      <td>823</td>\n",
       "    </tr>\n",
       "    <tr>\n",
       "      <th>1</th>\n",
       "      <td>2017-12-04</td>\n",
       "      <td>1272.500000</td>\n",
       "      <td>1276.099976</td>\n",
       "      <td>1270.300049</td>\n",
       "      <td>1274.300049</td>\n",
       "      <td>1274.300049</td>\n",
       "      <td>850</td>\n",
       "    </tr>\n",
       "    <tr>\n",
       "      <th>2</th>\n",
       "      <td>2017-12-05</td>\n",
       "      <td>1275.400024</td>\n",
       "      <td>1275.800049</td>\n",
       "      <td>1260.000000</td>\n",
       "      <td>1261.599976</td>\n",
       "      <td>1261.599976</td>\n",
       "      <td>1499</td>\n",
       "    </tr>\n",
       "    <tr>\n",
       "      <th>3</th>\n",
       "      <td>2017-12-06</td>\n",
       "      <td>1264.900024</td>\n",
       "      <td>1267.800049</td>\n",
       "      <td>1261.599976</td>\n",
       "      <td>1262.800049</td>\n",
       "      <td>1262.800049</td>\n",
       "      <td>373</td>\n",
       "    </tr>\n",
       "    <tr>\n",
       "      <th>4</th>\n",
       "      <td>2017-12-07</td>\n",
       "      <td>1262.300049</td>\n",
       "      <td>1262.400024</td>\n",
       "      <td>1243.900024</td>\n",
       "      <td>1249.800049</td>\n",
       "      <td>1249.800049</td>\n",
       "      <td>358</td>\n",
       "    </tr>\n",
       "    <tr>\n",
       "      <th>...</th>\n",
       "      <td>...</td>\n",
       "      <td>...</td>\n",
       "      <td>...</td>\n",
       "      <td>...</td>\n",
       "      <td>...</td>\n",
       "      <td>...</td>\n",
       "      <td>...</td>\n",
       "    </tr>\n",
       "    <tr>\n",
       "      <th>1385</th>\n",
       "      <td>2023-06-05</td>\n",
       "      <td>1947.500000</td>\n",
       "      <td>1961.900024</td>\n",
       "      <td>1937.800049</td>\n",
       "      <td>1958.000000</td>\n",
       "      <td>1958.000000</td>\n",
       "      <td>713</td>\n",
       "    </tr>\n",
       "    <tr>\n",
       "      <th>1386</th>\n",
       "      <td>2023-06-06</td>\n",
       "      <td>1960.800049</td>\n",
       "      <td>1965.500000</td>\n",
       "      <td>1958.800049</td>\n",
       "      <td>1965.500000</td>\n",
       "      <td>1965.500000</td>\n",
       "      <td>164</td>\n",
       "    </tr>\n",
       "    <tr>\n",
       "      <th>1387</th>\n",
       "      <td>2023-06-07</td>\n",
       "      <td>1959.000000</td>\n",
       "      <td>1968.400024</td>\n",
       "      <td>1940.699951</td>\n",
       "      <td>1942.699951</td>\n",
       "      <td>1942.699951</td>\n",
       "      <td>139</td>\n",
       "    </tr>\n",
       "    <tr>\n",
       "      <th>1388</th>\n",
       "      <td>2023-06-08</td>\n",
       "      <td>1943.199951</td>\n",
       "      <td>1969.000000</td>\n",
       "      <td>1943.099976</td>\n",
       "      <td>1963.599976</td>\n",
       "      <td>1963.599976</td>\n",
       "      <td>433</td>\n",
       "    </tr>\n",
       "    <tr>\n",
       "      <th>1389</th>\n",
       "      <td>2023-06-09</td>\n",
       "      <td>1965.099976</td>\n",
       "      <td>1969.800049</td>\n",
       "      <td>1960.300049</td>\n",
       "      <td>1962.199951</td>\n",
       "      <td>1962.199951</td>\n",
       "      <td>49</td>\n",
       "    </tr>\n",
       "  </tbody>\n",
       "</table>\n",
       "<p>1390 rows × 7 columns</p>\n",
       "</div>"
      ],
      "text/plain": [
       "           Date         Open         High          Low        Close  \\\n",
       "0    2017-12-01  1274.099976  1288.599976  1271.000000  1278.800049   \n",
       "1    2017-12-04  1272.500000  1276.099976  1270.300049  1274.300049   \n",
       "2    2017-12-05  1275.400024  1275.800049  1260.000000  1261.599976   \n",
       "3    2017-12-06  1264.900024  1267.800049  1261.599976  1262.800049   \n",
       "4    2017-12-07  1262.300049  1262.400024  1243.900024  1249.800049   \n",
       "...         ...          ...          ...          ...          ...   \n",
       "1385 2023-06-05  1947.500000  1961.900024  1937.800049  1958.000000   \n",
       "1386 2023-06-06  1960.800049  1965.500000  1958.800049  1965.500000   \n",
       "1387 2023-06-07  1959.000000  1968.400024  1940.699951  1942.699951   \n",
       "1388 2023-06-08  1943.199951  1969.000000  1943.099976  1963.599976   \n",
       "1389 2023-06-09  1965.099976  1969.800049  1960.300049  1962.199951   \n",
       "\n",
       "        Adj Close  Volume  \n",
       "0     1278.800049     823  \n",
       "1     1274.300049     850  \n",
       "2     1261.599976    1499  \n",
       "3     1262.800049     373  \n",
       "4     1249.800049     358  \n",
       "...           ...     ...  \n",
       "1385  1958.000000     713  \n",
       "1386  1965.500000     164  \n",
       "1387  1942.699951     139  \n",
       "1388  1963.599976     433  \n",
       "1389  1962.199951      49  \n",
       "\n",
       "[1390 rows x 7 columns]"
      ]
     },
     "execution_count": 3,
     "metadata": {},
     "output_type": "execute_result"
    }
   ],
   "source": [
    "data"
   ]
  },
  {
   "cell_type": "code",
   "execution_count": 4,
   "id": "2c11df95",
   "metadata": {},
   "outputs": [],
   "source": [
    "import numpy as np\n",
    "import pandas as pd\n",
    "import matplotlib.pyplot as plt\n",
    "from sklearn.preprocessing import MinMaxScaler\n",
    "from keras.models import Sequential\n",
    "from keras.layers import Dense, Dropout, Conv1D, MaxPooling1D, Bidirectional\n",
    "from sklearn.ensemble import RandomForestRegressor"
   ]
  },
  {
   "cell_type": "code",
   "execution_count": 5,
   "id": "de93fec9",
   "metadata": {},
   "outputs": [],
   "source": [
    "data['Date'] = pd.to_datetime(data['Date'])"
   ]
  },
  {
   "cell_type": "code",
   "execution_count": 6,
   "id": "d0a52a94",
   "metadata": {},
   "outputs": [],
   "source": [
    "features = data[['Date']]\n",
    "labels = data['Close']"
   ]
  },
  {
   "cell_type": "code",
   "execution_count": 7,
   "id": "a025cfbb",
   "metadata": {},
   "outputs": [],
   "source": [
    "from sklearn.model_selection import train_test_split\n",
    "train_features, test_features, train_labels, test_labels = train_test_split(features, labels, test_size=0.2, random_state=42)"
   ]
  },
  {
   "cell_type": "code",
   "execution_count": 8,
   "id": "84686aee",
   "metadata": {},
   "outputs": [
    {
     "data": {
      "text/html": [
       "<style>#sk-container-id-1 {color: black;background-color: white;}#sk-container-id-1 pre{padding: 0;}#sk-container-id-1 div.sk-toggleable {background-color: white;}#sk-container-id-1 label.sk-toggleable__label {cursor: pointer;display: block;width: 100%;margin-bottom: 0;padding: 0.3em;box-sizing: border-box;text-align: center;}#sk-container-id-1 label.sk-toggleable__label-arrow:before {content: \"▸\";float: left;margin-right: 0.25em;color: #696969;}#sk-container-id-1 label.sk-toggleable__label-arrow:hover:before {color: black;}#sk-container-id-1 div.sk-estimator:hover label.sk-toggleable__label-arrow:before {color: black;}#sk-container-id-1 div.sk-toggleable__content {max-height: 0;max-width: 0;overflow: hidden;text-align: left;background-color: #f0f8ff;}#sk-container-id-1 div.sk-toggleable__content pre {margin: 0.2em;color: black;border-radius: 0.25em;background-color: #f0f8ff;}#sk-container-id-1 input.sk-toggleable__control:checked~div.sk-toggleable__content {max-height: 200px;max-width: 100%;overflow: auto;}#sk-container-id-1 input.sk-toggleable__control:checked~label.sk-toggleable__label-arrow:before {content: \"▾\";}#sk-container-id-1 div.sk-estimator input.sk-toggleable__control:checked~label.sk-toggleable__label {background-color: #d4ebff;}#sk-container-id-1 div.sk-label input.sk-toggleable__control:checked~label.sk-toggleable__label {background-color: #d4ebff;}#sk-container-id-1 input.sk-hidden--visually {border: 0;clip: rect(1px 1px 1px 1px);clip: rect(1px, 1px, 1px, 1px);height: 1px;margin: -1px;overflow: hidden;padding: 0;position: absolute;width: 1px;}#sk-container-id-1 div.sk-estimator {font-family: monospace;background-color: #f0f8ff;border: 1px dotted black;border-radius: 0.25em;box-sizing: border-box;margin-bottom: 0.5em;}#sk-container-id-1 div.sk-estimator:hover {background-color: #d4ebff;}#sk-container-id-1 div.sk-parallel-item::after {content: \"\";width: 100%;border-bottom: 1px solid gray;flex-grow: 1;}#sk-container-id-1 div.sk-label:hover label.sk-toggleable__label {background-color: #d4ebff;}#sk-container-id-1 div.sk-serial::before {content: \"\";position: absolute;border-left: 1px solid gray;box-sizing: border-box;top: 0;bottom: 0;left: 50%;z-index: 0;}#sk-container-id-1 div.sk-serial {display: flex;flex-direction: column;align-items: center;background-color: white;padding-right: 0.2em;padding-left: 0.2em;position: relative;}#sk-container-id-1 div.sk-item {position: relative;z-index: 1;}#sk-container-id-1 div.sk-parallel {display: flex;align-items: stretch;justify-content: center;background-color: white;position: relative;}#sk-container-id-1 div.sk-item::before, #sk-container-id-1 div.sk-parallel-item::before {content: \"\";position: absolute;border-left: 1px solid gray;box-sizing: border-box;top: 0;bottom: 0;left: 50%;z-index: -1;}#sk-container-id-1 div.sk-parallel-item {display: flex;flex-direction: column;z-index: 1;position: relative;background-color: white;}#sk-container-id-1 div.sk-parallel-item:first-child::after {align-self: flex-end;width: 50%;}#sk-container-id-1 div.sk-parallel-item:last-child::after {align-self: flex-start;width: 50%;}#sk-container-id-1 div.sk-parallel-item:only-child::after {width: 0;}#sk-container-id-1 div.sk-dashed-wrapped {border: 1px dashed gray;margin: 0 0.4em 0.5em 0.4em;box-sizing: border-box;padding-bottom: 0.4em;background-color: white;}#sk-container-id-1 div.sk-label label {font-family: monospace;font-weight: bold;display: inline-block;line-height: 1.2em;}#sk-container-id-1 div.sk-label-container {text-align: center;}#sk-container-id-1 div.sk-container {/* jupyter's `normalize.less` sets `[hidden] { display: none; }` but bootstrap.min.css set `[hidden] { display: none !important; }` so we also need the `!important` here to be able to override the default hidden behavior on the sphinx rendered scikit-learn.org. See: https://github.com/scikit-learn/scikit-learn/issues/21755 */display: inline-block !important;position: relative;}#sk-container-id-1 div.sk-text-repr-fallback {display: none;}</style><div id=\"sk-container-id-1\" class=\"sk-top-container\"><div class=\"sk-text-repr-fallback\"><pre>RandomForestRegressor(max_depth=10, random_state=123)</pre><b>In a Jupyter environment, please rerun this cell to show the HTML representation or trust the notebook. <br />On GitHub, the HTML representation is unable to render, please try loading this page with nbviewer.org.</b></div><div class=\"sk-container\" hidden><div class=\"sk-item\"><div class=\"sk-estimator sk-toggleable\"><input class=\"sk-toggleable__control sk-hidden--visually\" id=\"sk-estimator-id-1\" type=\"checkbox\" checked><label for=\"sk-estimator-id-1\" class=\"sk-toggleable__label sk-toggleable__label-arrow\">RandomForestRegressor</label><div class=\"sk-toggleable__content\"><pre>RandomForestRegressor(max_depth=10, random_state=123)</pre></div></div></div></div></div>"
      ],
      "text/plain": [
       "RandomForestRegressor(max_depth=10, random_state=123)"
      ]
     },
     "execution_count": 8,
     "metadata": {},
     "output_type": "execute_result"
    }
   ],
   "source": [
    "model = RandomForestRegressor(n_estimators=100, random_state=123, max_depth=10)\n",
    "model.fit(train_features, train_labels)"
   ]
  },
  {
   "cell_type": "code",
   "execution_count": 9,
   "id": "27d4bfd0",
   "metadata": {},
   "outputs": [],
   "source": [
    "y_pred = model.predict(test_features)"
   ]
  },
  {
   "cell_type": "code",
   "execution_count": 10,
   "id": "4734e6e2",
   "metadata": {},
   "outputs": [
    {
     "data": {
      "text/plain": [
       "array([1654.45001343, 1211.13312226, 1215.32213238, 1949.53897207,\n",
       "       1282.76493662, 1619.63995911, 1909.69496094, 1575.4948995 ,\n",
       "       1791.72699794, 1804.59916634, 1955.81818817, 1779.78126514,\n",
       "       1278.37216736, 1282.20861268, 1320.45393728, 1226.3957139 ,\n",
       "       1902.62532761, 1307.64797675, 1222.28491138, 1462.38089879,\n",
       "       1791.72699794, 1784.52169952, 1935.66037926, 1292.10996582,\n",
       "       1725.35616149, 1678.31760881, 1864.75864304, 1848.77384156,\n",
       "       1528.55212957, 1302.75438072, 1945.09715096, 1754.29384531,\n",
       "       1333.70598104, 1277.98473821, 1736.32423233, 1279.75178429,\n",
       "       1883.30819298, 1729.9989226 , 1331.55720365, 1613.15800293,\n",
       "       1331.21610711, 1985.51897827, 1513.78764169, 1703.24490698,\n",
       "       1736.73650894, 1791.72699794, 1944.24454813, 1806.33958347,\n",
       "       1507.68355455, 1653.66068423, 1507.68355455, 1622.49199585,\n",
       "       1513.06659106, 1678.83815677, 1915.84344748, 1266.09198242,\n",
       "       1280.60257858, 1721.53142462, 1503.61494837, 1498.67050718,\n",
       "       1224.50557875, 1487.65757863, 1330.10658322, 1468.89599694,\n",
       "       1330.12504636, 1657.30700806, 1714.37027022, 1804.45233299,\n",
       "       1285.17739677, 1727.81287505, 1723.58216247, 1791.56203441,\n",
       "       1239.27497701, 1831.96419606, 1801.87744532, 1335.8234039 ,\n",
       "       1750.25756977, 1320.65359467, 1811.07453879, 1706.03867529,\n",
       "       1804.59916634, 1776.41274674, 1791.439408  , 1803.07786442,\n",
       "       1337.17553325, 1801.58937252, 1828.69962384, 1822.75199505,\n",
       "       1871.18164732, 1199.48287388, 1944.4065112 , 1498.52121511,\n",
       "       1204.55817317, 1824.58366599, 1193.94902383, 1740.09161857,\n",
       "       1721.74470235, 2016.56054453, 1577.78838794, 1780.37436371,\n",
       "       1673.59374952, 1276.28027224, 1285.09026916, 1787.09308038,\n",
       "       1471.80548806, 1220.53539052, 1321.83039471, 1199.64300142,\n",
       "       1421.65833211, 1919.14697537, 1301.35851511, 1776.41274674,\n",
       "       2006.65959423, 1326.17892547, 1652.59696529, 1319.61247364,\n",
       "       1199.64300142, 1410.91999268, 1872.1563446 , 1906.42038717,\n",
       "       1853.91813398, 1820.07010266, 1572.52531893, 1333.33824112,\n",
       "       1888.57085312, 1958.25597412, 1614.3239917 , 1784.52169952,\n",
       "       1945.03419844, 1318.59298004, 1847.78948376, 1715.91216813,\n",
       "       1804.59916634, 1865.86102607, 1988.80598036, 1902.81617779,\n",
       "       1783.54910442, 1330.80799805, 1754.37560964, 1828.22537115,\n",
       "       1799.91248414, 1312.04372597, 1925.5528946 , 1965.9680188 ,\n",
       "       1556.74344835, 1709.80497122, 1843.15404218, 2024.55336265,\n",
       "       1780.0562024 , 1801.87744532, 1721.74470235, 1672.08314147,\n",
       "       1811.91326562, 1649.98963826, 1900.25251587, 1899.77701062,\n",
       "       1315.51784368, 1971.11101929, 1750.16941276, 1804.59916634,\n",
       "       1318.13151621, 1317.73328201, 1652.80085228, 1784.52169952,\n",
       "       1715.29777035, 1297.50392131, 1837.42319359, 1784.52169952,\n",
       "       1278.02050294, 1803.25754245, 1487.24631813, 1872.51146746,\n",
       "       1723.92306683, 1777.51523674, 1668.53122205, 1789.16014469,\n",
       "       1205.95655668, 1755.14363993, 1335.14588219, 1776.41274674,\n",
       "       1668.66322156, 1201.62704657, 1868.61304264, 1298.88449091,\n",
       "       1755.14363993, 1955.28786834, 1919.33630384, 1792.51283769,\n",
       "       1784.52169952, 1918.02582545, 1646.86198975, 1180.72037445,\n",
       "       1777.51523674, 1494.32532017, 1975.27700928, 1784.52169952,\n",
       "       1804.45233299, 1776.41274674, 1710.35213329, 1804.45233299,\n",
       "       1719.84977685, 1768.30067691, 1972.48500977, 1791.439408  ,\n",
       "       1902.63882757, 1497.77696541, 1223.84377386, 1721.36872446,\n",
       "       1514.60321403, 1287.33176402, 1830.42456138, 1926.15060589,\n",
       "       1899.74364153, 1763.58420798, 1249.63326263, 1337.11498413,\n",
       "       1319.15841045, 1884.0517957 , 1712.93997754, 1707.32096913,\n",
       "       1847.27546879, 1475.97596796, 1225.79099475, 1221.01511861,\n",
       "       1871.9003477 , 1340.46421308, 2015.6059436 , 1299.43296698,\n",
       "       1835.69856217, 1332.57469944, 1279.60169649, 1312.20689661,\n",
       "       1822.37631591, 1243.87151888, 1977.58400879, 1652.80085228,\n",
       "       1783.29978566, 1280.18754945, 1802.71077028, 1297.59659196,\n",
       "       1420.04799805, 1857.81720571, 1784.52169952, 1844.78648464,\n",
       "       1224.72012828, 1293.51062337, 1781.05106765, 1854.44630602,\n",
       "       1935.66037926, 1845.60503668, 1653.66068423, 1187.72230853,\n",
       "       1990.18100545, 1791.72699794, 2016.56054453, 1960.62599365,\n",
       "       1714.55664457, 1781.8058993 , 1870.30299873, 1334.45926579,\n",
       "       1194.52075526, 2015.61619404, 1721.53758373, 1835.67256258,\n",
       "       1323.8255649 , 1845.07079723, 1199.29586653, 1565.30301737,\n",
       "       1291.73131751, 1598.12596741, 1286.03629816, 1871.11215452,\n",
       "       1328.02894873, 1225.35349758, 1317.85198139, 1935.66037926,\n",
       "       1505.30941149, 1946.08428678])"
      ]
     },
     "execution_count": 10,
     "metadata": {},
     "output_type": "execute_result"
    }
   ],
   "source": [
    "y_pred"
   ]
  },
  {
   "cell_type": "code",
   "execution_count": null,
   "id": "48f92e58",
   "metadata": {},
   "outputs": [],
   "source": []
  }
 ],
 "metadata": {
  "kernelspec": {
   "display_name": "Python 3 (ipykernel)",
   "language": "python",
   "name": "python3"
  },
  "language_info": {
   "codemirror_mode": {
    "name": "ipython",
    "version": 3
   },
   "file_extension": ".py",
   "mimetype": "text/x-python",
   "name": "python",
   "nbconvert_exporter": "python",
   "pygments_lexer": "ipython3",
   "version": "3.11.2"
  }
 },
 "nbformat": 4,
 "nbformat_minor": 5
}
